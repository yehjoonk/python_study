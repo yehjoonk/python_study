{
 "cells": [
  {
   "cell_type": "markdown",
   "metadata": {},
   "source": [
    "### Deleting Key"
   ]
  },
  {
   "cell_type": "markdown",
   "metadata": {},
   "source": [
    "You are designing the video game Big Rock Adventure. We have provided a dictionary of items that are in the player’s inventory which add points to their health meter. In one line, add the corresponding value of the key \"stamina grains\" to the health_points variable and remove the item \"stamina grains\" from the dictionary. If the key does not exist, add 0 to health_points."
   ]
  },
  {
   "cell_type": "code",
   "execution_count": 1,
   "metadata": {},
   "outputs": [],
   "source": [
    "available_items = {\"health potion\": 10, \"cake of the cure\": 5, \"green elixir\": 20, \"strength sandwich\": 25, \"stamina grains\": 15, \"power stew\": 30}\n",
    "health_points = 20\n",
    "\n",
    "health_points += available_items.pop(\"stamina grains\", 0)"
   ]
  },
  {
   "cell_type": "markdown",
   "metadata": {},
   "source": [
    "In one line, add the value of \"power stew\" to health_points and remove the item from the dictionary. If the key does not exist, add 0 to health_points."
   ]
  },
  {
   "cell_type": "code",
   "execution_count": 2,
   "metadata": {},
   "outputs": [],
   "source": [
    "health_points += available_items.pop(\"power stew\", 0)"
   ]
  },
  {
   "cell_type": "markdown",
   "metadata": {},
   "source": [
    "In one line, add the value of \"mystic bread\" to health_points and remove the item from the dictionary. If the key does not exist, add 0 to health_points.\n",
    "\n",
    "Print available_items and health_points."
   ]
  },
  {
   "cell_type": "code",
   "execution_count": 4,
   "metadata": {},
   "outputs": [
    {
     "name": "stdout",
     "output_type": "stream",
     "text": [
      "{'health potion': 10, 'cake of the cure': 5, 'green elixir': 20, 'strength sandwich': 25}\n",
      "65\n"
     ]
    }
   ],
   "source": [
    "health_points += available_items.pop(\"mystic bread\", 0)\n",
    "\n",
    "print(available_items)\n",
    "print(health_points)"
   ]
  }
 ],
 "metadata": {
  "kernelspec": {
   "display_name": "Python 3",
   "language": "python",
   "name": "python3"
  },
  "language_info": {
   "codemirror_mode": {
    "name": "ipython",
    "version": 3
   },
   "file_extension": ".py",
   "mimetype": "text/x-python",
   "name": "python",
   "nbconvert_exporter": "python",
   "pygments_lexer": "ipython3",
   "version": "3.8.3"
  }
 },
 "nbformat": 4,
 "nbformat_minor": 4
}
