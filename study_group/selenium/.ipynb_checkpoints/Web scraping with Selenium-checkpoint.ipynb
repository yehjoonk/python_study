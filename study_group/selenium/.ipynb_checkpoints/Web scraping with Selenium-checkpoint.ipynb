{
 "cells": [
  {
   "cell_type": "markdown",
   "metadata": {},
   "source": [
    "# Web scraping with Selenium"
   ]
  },
  {
   "cell_type": "markdown",
   "metadata": {},
   "source": [
    "Selenium을 설치 해 주세요."
   ]
  },
  {
   "cell_type": "markdown",
   "metadata": {},
   "source": [
    "\n",
    "import를 사용하여 Selenium을 불러온 후 selenium에서 webdriver를 불러오세요.  (webdriver: 드라이버 제어)"
   ]
  },
  {
   "cell_type": "code",
   "execution_count": 1,
   "metadata": {},
   "outputs": [],
   "source": [
    "import selenium\n",
    "from selenium import webdriver\n",
    "from selenium.webdriver.common.keys import Keys"
   ]
  },
  {
   "cell_type": "markdown",
   "metadata": {},
   "source": [
    "이번엔 bs4에서 BeautifulSoup을 불러 오세요! - 웹크롤링"
   ]
  },
  {
   "cell_type": "code",
   "execution_count": 2,
   "metadata": {},
   "outputs": [],
   "source": [
    "from bs4 import BeautifulSoup"
   ]
  },
  {
   "cell_type": "markdown",
   "metadata": {},
   "source": [
    "마지막으로 urllib.parse에서 quote_plus를 불러오세요. (한글을 홈페이지 주소 형식으로 바꿔줍니다.)"
   ]
  },
  {
   "cell_type": "code",
   "execution_count": 3,
   "metadata": {},
   "outputs": [],
   "source": [
    "from urllib.parse import quote_plus"
   ]
  },
  {
   "cell_type": "markdown",
   "metadata": {},
   "source": [
    "짝짝짝! 이제 자동 웹스크래핑을 위한 소스를 짜봅시다!🙂"
   ]
  },
  {
   "cell_type": "code",
   "execution_count": 9,
   "metadata": {},
   "outputs": [
    {
     "name": "stdout",
     "output_type": "stream",
     "text": [
      "Search word: 강아지\n",
      "강아지 - 나무위키\n",
      "1. 개요[편집] ... 어린 개를 일컫는 순우리말이다. 소의 새끼 → 송아지, 말 → 망아지의 어법을 따라 만들어진 용어다. 돌, 돝 + 아지 → 도야지 → 돼지 ...3 days ago · Uploaded by caprinapoli\n",
      "\n",
      "강아지 - 위키백과, 우리 모두의 백과사전\n",
      "강아지는 개의 새끼를 일컫는다. ... 강아지는 성체로 발달하는 과정에 있으므로 자라면서 털색이나 체형 등이 달라질 수 있으며, 정서적인 변화를 겪기도 한다.‎명칭 · ‎발달 · ‎사회화 · ‎예방 접종\n",
      "\n",
      "개 - 위키백과, 우리 모두의 백과사전\n",
      "개(영어: Dog)는 중형 동물이자 가장 널리 분포하며 개체 수가 가장 많은 지상 동물이며, 학명은 Canis lupus familiaris이다. ... 개는 인류가 최초로 가축으로 삼은 동물로 ...\n",
      "\n",
      "수의사가 친구들에게 절대 추천하지 않는 강아지 종류 TOP3 ...\n",
      "8:54수의사가 친구들은 절대 못키우게 하는 강아지들이 있다? 귀엽다고만 생각했던 강아지들, 내 인생 로망견들! 정말 인생 로망견들일까?13 Feb 2021 · Uploaded by 미국수의사The Dogtor\n",
      "\n",
      "강아지분양 도그마루 : 소형견\n",
      "소개 및 공지 · 동물병원 · 강아지분양 · 고양이분양 · 제휴/후기 · 훈련및정보 · 요양보호소 · 문의☆방문예약 · 할인및혜택 · PB · 메거진 ...\n",
      "\n",
      "애견 | 취미농업 | 기업경제/농업 | 의정부시 분야별 ... - 의정부시청\n",
      "애견 구입 요령; 하루 종일 혼자 있는 강아지; 강아지의 말과 행동; 강아지와 산책 요령; 강아지를 예쁘게 꾸미기; 사료안먹는 강아지 사료먹이기; 애견사육상식의 ...\n",
      "\n",
      "강아지대통령: 행복을 담는 시간\n",
      "대한민국 1등 반려용품 전문몰! 쇼핑의 기준이 되는 350만 후기, 유통기한 책임제로 신선한 사료와 간식.\n",
      "\n",
      "강아지를소개합니다 - Home | Facebook\n",
      "필수 확인사항입니다☆ 이 페이지는 반려동물의 유기를 줄이기 위한 페이지 입니다 페이스북 정책 사항으로 인해 동물판매로 보이는 글은 올려드리지 않습니다.\n",
      "\n"
     ]
    }
   ],
   "source": [
    "url_link = \"https://www.google.com/search?q=\"\n",
    "word = input(\"Search word: \")\n",
    "url = url_link + quote_plus(word)\n",
    "\n",
    "driver = webdriver.Chrome()\n",
    "driver.get(url)\n",
    "\n",
    "driver.find_element_by_css_selector(\"#L2AGLb\").click() #팝업창 동의\n",
    "\n",
    "html = driver.page_source\n",
    "soup = BeautifulSoup(html)\n",
    "\n",
    "contents = soup.select('.tF2Cxc')\n",
    "\n",
    "for c in contents:\n",
    "    print(c.select_one('.LC20lb.DKV0Md').text)\n",
    "    print(c.select_one('.IsZvec').text)\n",
    "    print()\n",
    "    \n",
    "driver.close()"
   ]
  }
 ],
 "metadata": {
  "kernelspec": {
   "display_name": "Python 3",
   "language": "python",
   "name": "python3"
  },
  "language_info": {
   "codemirror_mode": {
    "name": "ipython",
    "version": 3
   },
   "file_extension": ".py",
   "mimetype": "text/x-python",
   "name": "python",
   "nbconvert_exporter": "python",
   "pygments_lexer": "ipython3",
   "version": "3.8.8"
  }
 },
 "nbformat": 4,
 "nbformat_minor": 4
}
