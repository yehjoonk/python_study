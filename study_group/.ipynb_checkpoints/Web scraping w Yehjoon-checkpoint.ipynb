{
 "cells": [
  {
   "cell_type": "markdown",
   "metadata": {},
   "source": [
    "### 웹스크래핑으로 뉴스 제목 가져오기!\n",
    "\n",
    "   웹 스크래핑(Web Scraping) : 웹에서 원하는 자료를 추출 해내는 행위로 아래의 과정을 거칩니다.\n",
    "   \n",
    "       \n",
    "       1. request - 파이썬에서 서버에 페이지를 요청\n",
    "       2. response - 서버에서 파이썬에 페이지를 보내줌 \n",
    "       3. parsing - 페이지에서 원하는 데이터를 추출 "
   ]
  },
  {
   "cell_type": "markdown",
   "metadata": {},
   "source": [
    "1. request - 파이썬에서 서버에 페이지를 요청\n",
    "        요청을 위해 requests 패키지를 import 해주세용."
   ]
  },
  {
   "cell_type": "code",
   "execution_count": 46,
   "metadata": {},
   "outputs": [],
   "source": [
    "#! pip install requests"
   ]
  },
  {
   "cell_type": "code",
   "execution_count": 1,
   "metadata": {},
   "outputs": [],
   "source": [
    "import requests\n",
    "\n",
    "url = 'https://m.search.naver.com/search.naver?where=m_news&sm=mtb_jum&query=%EB%82%A8%EC%B0%BD%ED%9D%AC' # 뉴스 검색 페이지"
   ]
  },
  {
   "cell_type": "markdown",
   "metadata": {},
   "source": [
    "    1.1 URL 요청하기 - requests.get() 함수를 사용하여 URL을 요청 후 변수 response에 저장해주세요."
   ]
  },
  {
   "cell_type": "code",
   "execution_count": 2,
   "metadata": {},
   "outputs": [
    {
     "ename": "NameError",
     "evalue": "name 'request' is not defined",
     "output_type": "error",
     "traceback": [
      "\u001b[0;31m---------------------------------------------------------------------------\u001b[0m",
      "\u001b[0;31mNameError\u001b[0m                                 Traceback (most recent call last)",
      "\u001b[0;32m<ipython-input-2-1eaedb626d09>\u001b[0m in \u001b[0;36m<module>\u001b[0;34m\u001b[0m\n\u001b[0;32m----> 1\u001b[0;31m \u001b[0mresponse\u001b[0m \u001b[0;34m=\u001b[0m \u001b[0mrequest\u001b[0m\u001b[0;34m.\u001b[0m\u001b[0mget\u001b[0m\u001b[0;34m(\u001b[0m\u001b[0murl\u001b[0m\u001b[0;34m)\u001b[0m\u001b[0;34m\u001b[0m\u001b[0;34m\u001b[0m\u001b[0m\n\u001b[0m",
      "\u001b[0;31mNameError\u001b[0m: name 'request' is not defined"
     ]
    }
   ],
   "source": [
    "response = request.get(url)"
   ]
  },
  {
   "cell_type": "markdown",
   "metadata": {},
   "source": [
    "2. response - 서버에서 파이썬에 페이지를 보내줌 \n",
    "\n",
    "        2.1 status_code를 사용하여 응답코드를 출력하세요.     *(200: 정상응답)"
   ]
  },
  {
   "cell_type": "code",
   "execution_count": null,
   "metadata": {},
   "outputs": [],
   "source": [
    "print()  "
   ]
  },
  {
   "cell_type": "markdown",
   "metadata": {},
   "source": [
    "    2.2 text를 사용하여 HTML 코드를 출력하세요."
   ]
  },
  {
   "cell_type": "code",
   "execution_count": null,
   "metadata": {},
   "outputs": [],
   "source": [
    "print()"
   ]
  },
  {
   "cell_type": "markdown",
   "metadata": {},
   "source": [
    "  "
   ]
  },
  {
   "cell_type": "markdown",
   "metadata": {},
   "source": [
    "3. parsing - 페이지에서 원하는 데이터를 추출\n",
    "        Parsing을 위해 BeautifulSoup 패키지를 import 해주세요."
   ]
  },
  {
   "cell_type": "code",
   "execution_count": null,
   "metadata": {},
   "outputs": [],
   "source": [
    "#! pip install BeautifulSoup4"
   ]
  },
  {
   "cell_type": "code",
   "execution_count": 61,
   "metadata": {},
   "outputs": [],
   "source": [
    "import requests\n",
    "from bs4 import BeautifulSoup"
   ]
  },
  {
   "cell_type": "code",
   "execution_count": null,
   "metadata": {},
   "outputs": [],
   "source": [
    "html = response.text"
   ]
  },
  {
   "cell_type": "markdown",
   "metadata": {},
   "source": [
    "    3.1 BeautifulSoup으로 html 파싱"
   ]
  },
  {
   "cell_type": "code",
   "execution_count": null,
   "metadata": {},
   "outputs": [],
   "source": [
    "soup = BeautifulSoup(html, 'html.parser') "
   ]
  },
  {
   "cell_type": "markdown",
   "metadata": {},
   "source": [
    "    3.2 CSS Selector로 뉴스 제목 항목 선택, 자식항목 선택 \n",
    "\n",
    "url = 'https://m.search.naver.com/search.naver?where=m_news&sm=mtb_jum&query=%EB%82%A8%EC%B0%BD%ED%9D%AC' 페이지 접속 후 F12(개발자메뉴) 누르면 나오는 정보로 확인!"
   ]
  },
  {
   "cell_type": "code",
   "execution_count": null,
   "metadata": {},
   "outputs": [],
   "source": [
    "search_result = soup.select_one('#') #제목 박스\n",
    "news_links = search_result.select('') #자식항목"
   ]
  },
  {
   "cell_type": "code",
   "execution_count": null,
   "metadata": {},
   "outputs": [],
   "source": []
  },
  {
   "cell_type": "markdown",
   "metadata": {},
   "source": [
    "    3.3 뉴스 타이틀 얻기"
   ]
  },
  {
   "cell_type": "code",
   "execution_count": null,
   "metadata": {},
   "outputs": [],
   "source": [
    "print(len(news_links), '건의 검색결과')\n",
    "print()\n",
    "for i in news_links :\n",
    "    print(i.get_text())"
   ]
  },
  {
   "cell_type": "code",
   "execution_count": null,
   "metadata": {},
   "outputs": [],
   "source": [
    " "
   ]
  },
  {
   "cell_type": "markdown",
   "metadata": {},
   "source": [
    "### 코드 한번에 모아서 보기"
   ]
  },
  {
   "cell_type": "code",
   "execution_count": null,
   "metadata": {},
   "outputs": [],
   "source": [
    "search_word = input('검색어를 입력하세요:')\n",
    "url = 'https://m.search.naver.com/search.naver?where=m_news&sm=mtb_jum&query=%EB%82%A8%EC%B0%BD%ED%9D%AC'\n",
    "req = requests.get(url)\n",
    "html = req.text\n",
    "soup = BeautifulSoup(html, 'html.parser')\n",
    "search_result = soup.select_one('#news_result_list')\n",
    "news_links = search_result.select('.bx > .news_wrap > a')\n",
    "\n",
    "print(len(news_links), '건의 검색결과')\n",
    "print()\n",
    "for i in news_links :\n",
    "    print(i.get_text())"
   ]
  }
 ],
 "metadata": {
  "kernelspec": {
   "display_name": "Python 3",
   "language": "python",
   "name": "python3"
  },
  "language_info": {
   "codemirror_mode": {
    "name": "ipython",
    "version": 3
   },
   "file_extension": ".py",
   "mimetype": "text/x-python",
   "name": "python",
   "nbconvert_exporter": "python",
   "pygments_lexer": "ipython3",
   "version": "3.8.3"
  }
 },
 "nbformat": 4,
 "nbformat_minor": 4
}
