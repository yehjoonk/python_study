{
 "cells": [
  {
   "cell_type": "markdown",
   "metadata": {},
   "source": [
    "## Python Modules\n",
    "\n",
    "**모듈(Module)이란?**: 파이썬 함수나 변수, 클래스들을 모아놓은 파일. 표준모듈과 외부모듈로 나뉨. \n",
    "\n",
    "- 표준 모듈 Standard Library: <br>\n",
    "파이썬에 기본적으로 내장되어 있는 모듈.<br>\n",
    "예: math, datetime, random, tkinter 등.<br>\n",
    "각 모듈들에 대한 정보는 파이썬 공식 홈페이지 docs.python.org/3/library 에서 확인 가능.<br>\n",
    "<br>\n",
    "- 외부 모듈 3rd party Library: <br>\n",
    "파이썬 이용자들이 만들어서 공유한 모듈. <br>\n",
    "예: numpy, scipy, pandas 등. <br>\n",
    "\n",
    "\n",
    "#### 불러오는 방법\n",
    "\n",
    "- 모듈 전체를 불러오고 싶을때: <br>\n",
    "import *modulename*<br>\n",
    "예: import datetime<br>\n",
    "    \n",
    "    \n",
    "- 어떤 모듈의 특정 클래스만 사용하고 싶을때: <br>\n",
    "from *modulename* import *classname* <br>\n",
    "예: from datetime import time<br>\n",
    "\n",
    "\n",
    "#### 사용하는 방법\n",
    "\n",
    "- *modulename.classname* <br>\n",
    "예: datetime.now()\n",
    "\n",
    "#### 모듈에 포함된 클래스 확인하기\n",
    "- dir(*modulename*)\n",
    "\n",
    "\n"
   ]
  },
  {
   "cell_type": "markdown",
   "metadata": {},
   "source": [
    "## 'datetime' Module\n",
    "\n",
    "### Introduction\n",
    "\n",
    "datetime모듈은 말 그대로 데이터에 '시간'이라는 성격을 입혀주고, 쉽게 사용할수 있게 해 주는 모듈입니다.\n",
    "\n",
    "위에서 소개해드린 파이썬 도큐먼트에 따르면, datetime모듈이 제공하는 클래스 타입에는 date, time, datetime, timedelta, tzinfo 등이 있습니다.\n",
    "\n",
    "이 중 날짜와 시간을 둘 다 이용할 수 있게 해 주는 datetime이라는 타입을 불러옵시다.\n",
    "\n",
    "아래 셀에 datetime 모듈에서 datetime 클래스를 import해주세요."
   ]
  },
  {
   "cell_type": "code",
   "execution_count": null,
   "metadata": {},
   "outputs": [],
   "source": []
  },
  {
   "cell_type": "markdown",
   "metadata": {},
   "source": [
    "dir()기능을 이용해서 datetime모듈에 어떤 클래스들이 있는지 확인해보세요."
   ]
  },
  {
   "cell_type": "code",
   "execution_count": null,
   "metadata": {},
   "outputs": [],
   "source": []
  },
  {
   "cell_type": "markdown",
   "metadata": {},
   "source": [
    "위에 출력된 datetime의 명령어들을 사용하는 방법은 모두 이 곳 https://docs.python.org/3/library/datetime.html 에서 자세히 확인할 수 있습니다.\n",
    "\n",
    "출력된 기능들 중, now()라는 기능을 사용해봅시다. \n",
    "\n",
    "datetime.now()기능을 연속으로 세 번 출력해 보세요."
   ]
  },
  {
   "cell_type": "code",
   "execution_count": null,
   "metadata": {},
   "outputs": [],
   "source": []
  },
  {
   "cell_type": "code",
   "execution_count": null,
   "metadata": {},
   "outputs": [],
   "source": []
  },
  {
   "cell_type": "code",
   "execution_count": null,
   "metadata": {},
   "outputs": [],
   "source": []
  },
  {
   "cell_type": "markdown",
   "metadata": {},
   "source": [
    "현재 시간을 current_time이라는 변수에 저장해주세요."
   ]
  },
  {
   "cell_type": "code",
   "execution_count": null,
   "metadata": {},
   "outputs": [],
   "source": []
  },
  {
   "cell_type": "markdown",
   "metadata": {},
   "source": [
    "이제 current_time을 프린트 해 주세요."
   ]
  },
  {
   "cell_type": "code",
   "execution_count": null,
   "metadata": {},
   "outputs": [],
   "source": []
  },
  {
   "cell_type": "markdown",
   "metadata": {},
   "source": [
    "이 datetime 타입을 이용해서 지난주말 발렌타인 데이에 내가 저녁을 먹었던 시간을 v_day라는 변수에 저장해봅시다."
   ]
  },
  {
   "cell_type": "code",
   "execution_count": 16,
   "metadata": {},
   "outputs": [],
   "source": [
    "\n",
    "#datetime(year, month, day, hour, minute, second, microsecond, tzinfo)"
   ]
  },
  {
   "cell_type": "markdown",
   "metadata": {},
   "source": [
    "month, hour, weekday()를 이용해서 v_day의 month, hour, weekday를 아래에 차례대로 출력해보세요."
   ]
  },
  {
   "cell_type": "code",
   "execution_count": null,
   "metadata": {},
   "outputs": [],
   "source": []
  },
  {
   "cell_type": "code",
   "execution_count": null,
   "metadata": {},
   "outputs": [],
   "source": []
  },
  {
   "cell_type": "code",
   "execution_count": 14,
   "metadata": {},
   "outputs": [],
   "source": [
    "\n",
    "\n",
    "#0 = 월요일, 1 = 화요일, 2 = 수요일.."
   ]
  },
  {
   "cell_type": "markdown",
   "metadata": {},
   "source": [
    "발렌타인데이로부터 얼마만큼의 시간이 지났을까요? \n",
    "\n",
    "아래 셀에 current_time 에서 v_day를 빼 봅시다."
   ]
  },
  {
   "cell_type": "code",
   "execution_count": null,
   "metadata": {},
   "outputs": [],
   "source": []
  },
  {
   "cell_type": "markdown",
   "metadata": {},
   "source": [
    "이제 아주 기본적인 datetime 변수를 저장해서 이용할 수 있게 되었습니다.\n",
    "\n",
    "그런데 만약 내가 쓰고싶은 데이터가 아래처럼 쓰여있으면 어떻게 할까요?\n",
    "\n",
    "'Feb 14, 2021'"
   ]
  },
  {
   "cell_type": "markdown",
   "metadata": {},
   "source": [
    "### strptime\n",
    "\n",
    "strptime: 스트링 형태로 저장되어있는 데이터를 datetime 형태로 바꿔줍니다. \n",
    "\n",
    "'Feb 14, 2021' 을 datetime 데이터로 바꿔서 a_day라는 변수에 넣어주도록 하겠습니다."
   ]
  },
  {
   "cell_type": "code",
   "execution_count": 15,
   "metadata": {},
   "outputs": [],
   "source": [
    "# a_day = datetime.strptime('', '')"
   ]
  },
  {
   "cell_type": "markdown",
   "metadata": {},
   "source": [
    "방금 생성한 a_day 를 출력해 주세요."
   ]
  },
  {
   "cell_type": "code",
   "execution_count": null,
   "metadata": {
    "scrolled": true
   },
   "outputs": [],
   "source": []
  },
  {
   "cell_type": "markdown",
   "metadata": {},
   "source": [
    "**응용문제**\n",
    "\n",
    "한국식으로 '21/02/14' 로 저장되어있는 데이터를 strptime을 이용해서 k_date라는 변수에 저장해봅시다."
   ]
  },
  {
   "cell_type": "code",
   "execution_count": 27,
   "metadata": {},
   "outputs": [],
   "source": []
  },
  {
   "cell_type": "code",
   "execution_count": 48,
   "metadata": {},
   "outputs": [
    {
     "data": {
      "text/plain": [
       "0"
      ]
     },
     "execution_count": 48,
     "metadata": {},
     "output_type": "execute_result"
    }
   ],
   "source": []
  },
  {
   "cell_type": "markdown",
   "metadata": {},
   "source": [
    "### strftime\n",
    "\n",
    "반대로 데이트타임으로 저장되어있는 데이터를 스트링으로 바꿔주고 싶을 땐 strftime을 이용하면 됩니다. \n",
    "\n",
    "strptime과 사용방법은 동일합니다. 대신 바꾸고싶은 datetime를 먼저 써주고, %키를 넣어주면 됩니다. \n",
    "\n",
    "strftime(datetime_value, '%keys')\n",
    "\n",
    "current_time을 '14 Feb, 2021' 형태로 바꾼 후, str_current_time 변수에 저장해주세요. "
   ]
  },
  {
   "cell_type": "code",
   "execution_count": null,
   "metadata": {},
   "outputs": [],
   "source": []
  },
  {
   "cell_type": "markdown",
   "metadata": {},
   "source": [
    "str_current_time을 출력해주세요."
   ]
  },
  {
   "cell_type": "code",
   "execution_count": null,
   "metadata": {},
   "outputs": [],
   "source": []
  },
  {
   "cell_type": "markdown",
   "metadata": {},
   "source": [
    "**응용문제**\n",
    "\n",
    "current_time 을 한국식 포맷 ('21/02/14') 형태로 바꾸어서 k_current_time에 저장한 후, 출력해 주세요."
   ]
  },
  {
   "cell_type": "code",
   "execution_count": null,
   "metadata": {},
   "outputs": [],
   "source": []
  },
  {
   "cell_type": "code",
   "execution_count": null,
   "metadata": {},
   "outputs": [],
   "source": []
  },
  {
   "cell_type": "markdown",
   "metadata": {},
   "source": [
    "### Homework\n",
    "\n",
    "#### Q1: 파이썬 기본모듈인 math 모듈을 import 하고, dir()을 이용해 math모듈안에 어떤 클래스가 들어있는지 확인해봅시다."
   ]
  },
  {
   "cell_type": "code",
   "execution_count": null,
   "metadata": {},
   "outputs": [],
   "source": []
  },
  {
   "cell_type": "code",
   "execution_count": null,
   "metadata": {},
   "outputs": [],
   "source": []
  },
  {
   "cell_type": "markdown",
   "metadata": {},
   "source": [
    "#### Q2: 변수 'x'를 만들어서 좋아하는 숫자를 저장한 후, math 모듈의 factorial 클래스를 이용해 그 숫자의 팩토리얼을 구해보세요."
   ]
  },
  {
   "cell_type": "code",
   "execution_count": null,
   "metadata": {
    "scrolled": true
   },
   "outputs": [],
   "source": []
  },
  {
   "cell_type": "code",
   "execution_count": null,
   "metadata": {},
   "outputs": [],
   "source": []
  },
  {
   "cell_type": "markdown",
   "metadata": {},
   "source": [
    "#### Q3: Remainder 기능을 사용해서 10을 8로 나눴을때와, 89를 8로 나눴을때 각각 어떤 숫자가 남는지 print해보세요."
   ]
  },
  {
   "cell_type": "code",
   "execution_count": null,
   "metadata": {},
   "outputs": [],
   "source": []
  },
  {
   "cell_type": "code",
   "execution_count": null,
   "metadata": {},
   "outputs": [],
   "source": []
  }
 ],
 "metadata": {
  "kernelspec": {
   "display_name": "Python 3",
   "language": "python",
   "name": "python3"
  },
  "language_info": {
   "codemirror_mode": {
    "name": "ipython",
    "version": 3
   },
   "file_extension": ".py",
   "mimetype": "text/x-python",
   "name": "python",
   "nbconvert_exporter": "python",
   "pygments_lexer": "ipython3",
   "version": "3.8.3"
  }
 },
 "nbformat": 4,
 "nbformat_minor": 4
}
