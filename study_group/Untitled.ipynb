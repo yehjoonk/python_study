{
 "cells": [
  {
   "cell_type": "markdown",
   "metadata": {},
   "source": [
    "# 1. Append Sum\n",
    "\n",
    "Write a function named append_sum that has one parameter — a list named named lst.\n",
    "\n",
    "The function should add the last two elements of lst together and append the result to lst. It should do this process three times and then return lst.\n",
    "\n",
    "For example, if lst started as [1, 1, 2], the final result should be [1, 1, 2, 3, 5, 8]."
   ]
  },
  {
   "cell_type": "code",
   "execution_count": 1,
   "metadata": {},
   "outputs": [
    {
     "name": "stdout",
     "output_type": "stream",
     "text": [
      "[1, 1, 2, 3, 5, 8]\n"
     ]
    }
   ],
   "source": [
    "#Write your function here\n",
    "\n",
    "def append_sum(lst):\n",
    "  lst.append(lst[-1]+lst[-2])\n",
    "  lst.append(lst[-1]+lst[-2])\n",
    "  lst.append(lst[-1]+lst[-2])\n",
    "  return lst\n",
    "\n",
    "#Uncomment the line below when your function is done\n",
    "print(append_sum([1, 1, 2]))"
   ]
  },
  {
   "cell_type": "markdown",
   "metadata": {},
   "source": [
    "# 2. Larger Sum \n",
    "\n",
    "Write a function named larger_list that has two parameters named lst1 and lst2.\n",
    "\n",
    "The function should return the last element of the list that contains more elements. If both lists are the same size, then return the last element of lst1."
   ]
  },
  {
   "cell_type": "code",
   "execution_count": 2,
   "metadata": {},
   "outputs": [
    {
     "name": "stdout",
     "output_type": "stream",
     "text": [
      "5\n"
     ]
    }
   ],
   "source": [
    "#Write your function here\n",
    "\n",
    "def larger_list(lst1, lst2):\n",
    "  if len(lst1) >= len(lst2):\n",
    "    result = lst1[-1]\n",
    "  else:\n",
    "    result = lst2[-1]\n",
    "  return result\n",
    "\n",
    "#Uncomment the line below when your function is done\n",
    "print(larger_list([4, 10, 2, 5], [-10, 2, 5, 10]))"
   ]
  },
  {
   "cell_type": "markdown",
   "metadata": {},
   "source": [
    "# 3. More than N\n",
    "\n",
    "Create a function named more_than_n that has three parameters named lst, item, and n.\n",
    "\n",
    "The function should return True if item appears in the list more than n times. The function should return False otherwise."
   ]
  },
  {
   "cell_type": "code",
   "execution_count": 3,
   "metadata": {},
   "outputs": [
    {
     "name": "stdout",
     "output_type": "stream",
     "text": [
      "True\n"
     ]
    }
   ],
   "source": [
    "#Write your function here\n",
    "\n",
    "def more_than_n(lst, item, n):\n",
    "  if lst.count(item) > n:\n",
    "    return True\n",
    "  else:\n",
    "    return False\n",
    "\n",
    "#Uncomment the line below when your function is done\n",
    "print(more_than_n([2, 4, 6, 2, 3, 2, 1, 2], 2, 3))"
   ]
  },
  {
   "cell_type": "markdown",
   "metadata": {},
   "source": [
    "# 4. Append Size\n",
    "\n",
    "Create a function called append_size that has one parameter named lst.\n",
    "\n",
    "The function should append the size of lst (inclusive) to the end of lst. The function should then return this new list.\n",
    "\n",
    "For example, if lst was [23, 42, 108], the function should return [23, 42, 108, 3] because the size of lst was originally 3."
   ]
  },
  {
   "cell_type": "code",
   "execution_count": 18,
   "metadata": {},
   "outputs": [
    {
     "name": "stdout",
     "output_type": "stream",
     "text": [
      "[23, 42, 108, 3]\n"
     ]
    }
   ],
   "source": [
    "#Write your function here\n",
    "\n",
    "def append_size(lst):\n",
    "    lst.append(len(lst))\n",
    "    return lst\n",
    "\n",
    "#Uncomment the line below when your function is done\n",
    "print(append_size([23, 42, 108]))"
   ]
  },
  {
   "cell_type": "markdown",
   "metadata": {},
   "source": [
    "# 5. Combine Sort\n",
    "\n",
    "Write a function named combine_sort that has two parameters named lst1 and lst2.\n",
    "\n",
    "The function should combine these two lists into one new list and sort the result. Return the new sorted list."
   ]
  },
  {
   "cell_type": "code",
   "execution_count": null,
   "metadata": {},
   "outputs": [],
   "source": []
  },
  {
   "cell_type": "code",
   "execution_count": null,
   "metadata": {},
   "outputs": [],
   "source": []
  }
 ],
 "metadata": {
  "kernelspec": {
   "display_name": "Python 3",
   "language": "python",
   "name": "python3"
  },
  "language_info": {
   "codemirror_mode": {
    "name": "ipython",
    "version": 3
   },
   "file_extension": ".py",
   "mimetype": "text/x-python",
   "name": "python",
   "nbconvert_exporter": "python",
   "pygments_lexer": "ipython3",
   "version": "3.8.3"
  }
 },
 "nbformat": 4,
 "nbformat_minor": 4
}
