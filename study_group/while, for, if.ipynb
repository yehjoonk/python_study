{
 "cells": [
  {
   "cell_type": "code",
   "execution_count": 4,
   "metadata": {},
   "outputs": [
    {
     "name": "stdout",
     "output_type": "stream",
     "text": [
      "['m&m', 'potato', 'butter', 'milk']\n"
     ]
    }
   ],
   "source": [
    "groList = ['potato', 'butter', 'milk', 'cucumber']\n",
    "if 'cucumber' in groList:\n",
    "    groList.remove('cucumber')\n",
    "if 'm&m' not in groList:\n",
    "    groList.insert(0,'m&m')\n",
    "print(groList)"
   ]
  },
  {
   "cell_type": "code",
   "execution_count": 6,
   "metadata": {},
   "outputs": [
    {
     "name": "stdout",
     "output_type": "stream",
     "text": [
      "Good for you!\n"
     ]
    }
   ],
   "source": [
    "meH = 169\n",
    "if meH < 165: \n",
    "    print('You are petite.')\n",
    "elif meH == 165:\n",
    "    print('You are not short.')\n",
    "else: \n",
    "    print('Good for you!')"
   ]
  },
  {
   "cell_type": "code",
   "execution_count": 8,
   "metadata": {},
   "outputs": [
    {
     "name": "stdout",
     "output_type": "stream",
     "text": [
      "remaining balance: £ 500\n",
      "remaining balance: £ 1000\n",
      "remaining balance: £ 1500\n",
      "remaining balance: £ 2000\n",
      "remaining balance: £ 2500\n",
      "remaining balance: £ 3000\n",
      "remaining balance: £ 3500\n",
      "remaining balance: £ 4000\n",
      "remaining balance: £ 4500\n",
      "remaining balance: £ 5000\n",
      "remaining balance: £ 5500\n",
      "remaining balance: £ 6000\n",
      "congrats! all done! remaining balance: £ 6000\n"
     ]
    }
   ],
   "source": [
    "bal = 0\n",
    "deposit = 0\n",
    "while deposit < 12:\n",
    "    deposit += 1\n",
    "    bal += 500\n",
    "    print('remaining balance: £ %d' %bal)\n",
    "    if deposit == 12:\n",
    "        print('congrats! all done! remaining balance: £ %d' %bal)"
   ]
  },
  {
   "cell_type": "code",
   "execution_count": 12,
   "metadata": {},
   "outputs": [
    {
     "name": "stdout",
     "output_type": "stream",
     "text": [
      "Order qty here: 11\n",
      "limited stock. try less amount.\n",
      "currently 10 items available.\n",
      "Order qty here: 10\n",
      "order complete. thank you!\n",
      "out of stock.\n"
     ]
    }
   ],
   "source": [
    "stock = 10 \n",
    "while True:\n",
    "    qty = int(input(('Order qty here: ')))\n",
    "    if qty <= 10:\n",
    "        print ('order complete. thank you!')\n",
    "        stock = stock - qty\n",
    "    elif qty > 10:\n",
    "        print ('limited stock. try less amount.')\n",
    "        print ('currently %d items available.' %stock)\n",
    "    else:\n",
    "        print ('minimum order available from 1.')\n",
    "        print ('currently %d items available.' %stock)\n",
    "    if not stock :\n",
    "        print ('out of stock.')\n",
    "        break\n"
   ]
  },
  {
   "cell_type": "code",
   "execution_count": 21,
   "metadata": {},
   "outputs": [],
   "source": [
    "import string\n",
    "\n",
    "file = open('/Users/macbook/Downloads/practice.txt', 'r', encoding = 'utf-8')\n",
    "data = file.read()"
   ]
  },
  {
   "cell_type": "code",
   "execution_count": 22,
   "metadata": {},
   "outputs": [
    {
     "name": "stdout",
     "output_type": "stream",
     "text": [
      "The cat, felis catus is a domestic species of small carnivorous mammal. It is the only domesticated species in the family Felidae and is often referred to as the domestic cat to distinguish it from the wild members of the family.A cat can either be a house cat, a farm cat or a feral cat; the latter ranges freely and avoids human contact.Domestic cats are valued by humans for companionship and their ability to hunt rodents. About 60 cat breeds are recognized by various cat registries.\n"
     ]
    }
   ],
   "source": [
    "print(data)"
   ]
  },
  {
   "cell_type": "code",
   "execution_count": 23,
   "metadata": {},
   "outputs": [
    {
     "name": "stdout",
     "output_type": "stream",
     "text": [
      "the cat, felis catus is a domestic species of small carnivorous mammal. it is the only domesticated species in the family felidae and is often referred to as the domestic cat to distinguish it from the wild members of the family.a cat can either be a house cat, a farm cat or a feral cat; the latter ranges freely and avoids human contact.domestic cats are valued by humans for companionship and their ability to hunt rodents. about 60 cat breeds are recognized by various cat registries.\n"
     ]
    }
   ],
   "source": [
    "data2 = data.lower()\n",
    "print(data2)"
   ]
  },
  {
   "cell_type": "code",
   "execution_count": 29,
   "metadata": {},
   "outputs": [
    {
     "name": "stdout",
     "output_type": "stream",
     "text": [
      "the cat felis catus is a domestic species of small carnivorous mammal it is the only domesticated species in the family felidae and is often referred to as the domestic cat to distinguish it from the wild members of the familya cat can either be a house cat a farm cat or a feral cat the latter ranges freely and avoids human contactdomestic cats are valued by humans for companionship and their ability to hunt rodents about 60 cat breeds are recognized by various cat registries\n"
     ]
    }
   ],
   "source": [
    "data3 = data2.replace('.', '')\n",
    "data4 = data3.replace(',', '')\n",
    "data5 = data4.replace(';', '')\n",
    "print(data5)"
   ]
  },
  {
   "cell_type": "code",
   "execution_count": 30,
   "metadata": {},
   "outputs": [
    {
     "name": "stdout",
     "output_type": "stream",
     "text": [
      "['the', 'cat', 'felis', 'catus', 'is', 'a', 'domestic', 'species', 'of', 'small', 'carnivorous', 'mammal', 'it', 'is', 'the', 'only', 'domesticated', 'species', 'in', 'the', 'family', 'felidae', 'and', 'is', 'often', 'referred', 'to', 'as', 'the', 'domestic', 'cat', 'to', 'distinguish', 'it', 'from', 'the', 'wild', 'members', 'of', 'the', 'familya', 'cat', 'can', 'either', 'be', 'a', 'house', 'cat', 'a', 'farm', 'cat', 'or', 'a', 'feral', 'cat', 'the', 'latter', 'ranges', 'freely', 'and', 'avoids', 'human', 'contactdomestic', 'cats', 'are', 'valued', 'by', 'humans', 'for', 'companionship', 'and', 'their', 'ability', 'to', 'hunt', 'rodents', 'about', '60', 'cat', 'breeds', 'are', 'recognized', 'by', 'various', 'cat', 'registries']\n"
     ]
    }
   ],
   "source": [
    "data6 = data5.split()\n",
    "print(data6)"
   ]
  },
  {
   "cell_type": "code",
   "execution_count": 31,
   "metadata": {},
   "outputs": [
    {
     "data": {
      "text/plain": [
       "86"
      ]
     },
     "execution_count": 31,
     "metadata": {},
     "output_type": "execute_result"
    }
   ],
   "source": [
    "len(data6)"
   ]
  },
  {
   "cell_type": "code",
   "execution_count": 32,
   "metadata": {},
   "outputs": [
    {
     "name": "stdout",
     "output_type": "stream",
     "text": [
      "8\n"
     ]
    }
   ],
   "source": [
    "cnt = 0\n",
    "for w in data6:\n",
    "    if w == 'cat':\n",
    "        cnt += 1\n",
    "\n",
    "print(cnt)"
   ]
  },
  {
   "cell_type": "code",
   "execution_count": 35,
   "metadata": {},
   "outputs": [
    {
     "name": "stdout",
     "output_type": "stream",
     "text": [
      "1 번 학생 합격\n",
      "2 번 학생 합격\n",
      "6 번 학생 합격\n"
     ]
    }
   ],
   "source": [
    "scores = [90,91,88,65,40,100,85]\n",
    "for s in range(len(scores)):\n",
    "    if scores[s] < 89: continue\n",
    "    print('%d 번 학생 합격' %(s+1))"
   ]
  },
  {
   "cell_type": "code",
   "execution_count": null,
   "metadata": {},
   "outputs": [],
   "source": []
  }
 ],
 "metadata": {
  "kernelspec": {
   "display_name": "Python 3",
   "language": "python",
   "name": "python3"
  },
  "language_info": {
   "codemirror_mode": {
    "name": "ipython",
    "version": 3
   },
   "file_extension": ".py",
   "mimetype": "text/x-python",
   "name": "python",
   "nbconvert_exporter": "python",
   "pygments_lexer": "ipython3",
   "version": "3.8.3"
  }
 },
 "nbformat": 4,
 "nbformat_minor": 4
}
