{
 "cells": [
  {
   "cell_type": "code",
   "execution_count": 1,
   "metadata": {},
   "outputs": [
    {
     "name": "stdout",
     "output_type": "stream",
     "text": [
      "Collecting imdbpy\n",
      "  Downloading IMDbPY-2020.9.25-py3-none-any.whl (304 kB)\n",
      "\u001b[K     |████████████████████████████████| 304 kB 7.9 MB/s eta 0:00:01\n",
      "\u001b[?25hRequirement already satisfied: lxml in /Users/macbook/opt/anaconda3/lib/python3.8/site-packages (from imdbpy) (4.5.2)\n",
      "Requirement already satisfied: SQLAlchemy in /Users/macbook/opt/anaconda3/lib/python3.8/site-packages (from imdbpy) (1.3.18)\n",
      "Installing collected packages: imdbpy\n",
      "Successfully installed imdbpy-2020.9.25\n",
      "Note: you may need to restart the kernel to use updated packages.\n"
     ]
    }
   ],
   "source": [
    "pip install imdbpy"
   ]
  },
  {
   "cell_type": "code",
   "execution_count": 2,
   "metadata": {},
   "outputs": [],
   "source": [
    "import imdb"
   ]
  },
  {
   "cell_type": "code",
   "execution_count": 3,
   "metadata": {},
   "outputs": [],
   "source": [
    "moviesDB = imdb.IMDb()"
   ]
  },
  {
   "cell_type": "code",
   "execution_count": 5,
   "metadata": {},
   "outputs": [],
   "source": [
    "movies = moviesDB.search_movie('inception')"
   ]
  },
  {
   "cell_type": "code",
   "execution_count": 6,
   "metadata": {},
   "outputs": [
    {
     "name": "stdout",
     "output_type": "stream",
     "text": [
      "[<Movie id:1375666[http] title:_Inception (2010)_>, <Movie id:7321322[http] title:_Inception (2014)_>, <Movie id:3022202[http] title:_\"Zoom In\" Inception (2010)_>, <Movie id:5295894[http] title:_Inception: The Cobol Job (2010) (V)_>, <Movie id:5295990[http] title:_Inception: Jump Right Into the Action (2010) (V)_>, <Movie id:1790736[http] title:_\"Inception: Motion Comics\" (2010)_>, <Movie id:1686778[http] title:_Inception: 4Movie Premiere Special (2010) (TV)_>, <Movie id:2762020[http] title:_Inception of Chaos (2012)_>, <Movie id:0800240[http] title:_Deception (I) (2008)_>, <Movie id:6461812[http] title:_\"Deception\" (2018)_>, <Movie id:4721124[http] title:_The Exception (2016)_>, <Movie id:1714204[http] title:_\"Perception\" (2012)_>, <Movie id:1619277[http] title:_Conception (2011)_>, <Movie id:2245029[http] title:_\"Deception\" (I) (2013)_>, <Movie id:7420532[http] title:_The Exception (2019)_>, <Movie id:0038461[http] title:_Deception (1946)_>, <Movie id:8269586[http] title:_Bikini Inception (2015)_>, <Movie id:6793710[http] title:_The Crack: Inception (2019)_>, <Movie id:1805871[http] title:_\"Elevator\" Inception (2010)_>, <Movie id:12427498[http] title:_\"Screen Rant Pitch Meetings\" Inception (2020)_>]\n"
     ]
    }
   ],
   "source": [
    "print(movies)"
   ]
  },
  {
   "cell_type": "code",
   "execution_count": 8,
   "metadata": {},
   "outputs": [
    {
     "name": "stdout",
     "output_type": "stream",
     "text": [
      "['title', 'kind', 'year', 'cover url', 'canonical title', 'long imdb title', 'long imdb canonical title', 'smart canonical title', 'smart long imdb canonical title', 'full-size cover url']\n"
     ]
    }
   ],
   "source": [
    "print(movies[0].keys())"
   ]
  },
  {
   "cell_type": "code",
   "execution_count": null,
   "metadata": {},
   "outputs": [],
   "source": []
  },
  {
   "cell_type": "raw",
   "metadata": {},
   "source": [
    "for movie in movies:\n",
    "    title = movie['title']\n",
    "    year = movie['year']\n",
    "    print(title, '-', year)\n",
    "    # or print(f'{title} - {year}')"
   ]
  },
  {
   "cell_type": "code",
   "execution_count": 15,
   "metadata": {},
   "outputs": [
    {
     "name": "stdout",
     "output_type": "stream",
     "text": [
      "Movie Info:\n",
      "Inception - 2010\n",
      "rating: 8.8\n",
      "directors: Christopher Nolan\n",
      "actors: Leonardo DiCaprio, Joseph Gordon-Levitt, Elliot Page, Tom Hardy, Ken Watanabe, Dileep Rao, Cillian Murphy, Tom Berenger, Marion Cotillard, Pete Postlethwaite, Michael Caine, Lukas Haas, Tai-Li Lee, Claire Geare, Magnus Nolan, Taylor Geare, Johnathan Geare, Tohoru Masamune, Yuji Okumoto, Earl Cameron, Ryan Hayward, Miranda Nolan, Russ Fega, Tim Kelleher, Talulah Riley, Nicolas Clerc, Coralie Dedykere, Silvie Laguna, Virgile Bramly, Jean-Michel Dagory, Helena Cullinan, Mark Fleischmann, Shelley Lang, Adam Cole, Jack Murray, Kraig Thornber, Angela Nathenson, Natasha Beaumont, Marc Raducci, Carl Gilliard, Jill Maddrell, Alex Lombard, Nicole Pulliam, Peter Basham, Michael Gaston, Felix Scott, Andrew Pleavin, Lisa Reynolds, Jason Tendell, Jack Gilroy, Shannon Welles, Michael August, Ken Bahn, Hélène Cardona, John Ceallach, Garvin Cross, James Currie, Youlanda Davis, Julie Eagleton, Seve Esposito, Marcus Everett, Zachary Christopher Fay, Daniel Girondeaud, Natalie Goldwin, Andrew Hoagland, Guy Iannacone, Marguerite Gioia Insolia, Charles Jarrell, Seong-hwan Jo, Alonzo F. Jones, Mobin Khan, Shunsaku Kudô, Leticia LaBelle, John Lawson, Jean-Christophe Leger, Arnold Montey, François-Marie Nivon, Scott Pretty, Benjamin Riley, Norman Saleet, Colin Smith, Affan Tareen, Matt Vogel\n"
     ]
    }
   ],
   "source": [
    "id = movies[0].getID()\n",
    "movie = moviesDB.get_movie(id)\n",
    "\n",
    "title = movie['title']\n",
    "year = movie['year']\n",
    "rating = movie['rating']\n",
    "directors = movie['directors']\n",
    "casting = movie['cast']\n",
    "\n",
    "print(\"Movie Info:\")\n",
    "print(f'{title} - {year}')\n",
    "print(f'rating: {rating}')\n",
    "\n",
    "direcStr = ', '.join(map(str,directors))\n",
    "print(f'directors: {direcStr}')\n",
    "\n",
    "actors = ', '.join(map(str,casting))\n",
    "print(f'actors: {actors}')"
   ]
  },
  {
   "cell_type": "code",
   "execution_count": 19,
   "metadata": {},
   "outputs": [
    {
     "name": "stdout",
     "output_type": "stream",
     "text": [
      "name: Leonardo DiCaprio\n",
      "birth_date:1974-11-11\n",
      "height: 6' (1.83 m)\n",
      "trivia: (April 16, 1999) While filming The Beach (2000) off the coast of Thailand, Leonardo and others were swept off a camera boat by strong winds and waves. No one was injured.\n",
      "bio title refs: Growing Pains (1985), Critters 3 (1991), Romeo + Juliet (1996), Titanic (1997), Roseanne (1988), The New Lassie (1989), What's Eating Gilbert Grape (1993), The Quick and the Dead (1995), The Basketball Diaries (1995), The Man in the Iron Mask (1998), The Beach (2000), Catch Me If You Can (2002), Gangs of New York (2002), The Departed (2006), Shutter Island (2010), Inception (2010), Django Unchained (2012), The Great Gatsby (2013), The Wolf of Wall Street (2013), Batman Forever (1995), Harvard Man (2001), American Psycho (2000), Boogie Nights (1997), The Aviator (2004), Spider-Man (2002), Total Eclipse (1995), Star Wars: Episode II - Attack of the Clones (2002), Melvin and Howard (1980), The Good Shepherd (2006), Parenthood (1990), Bicycle Thieves (1948), Taxi Driver (1976), Lawrence of Arabia (1962), 8½ (1963), The Third Man (1949), Yojimbo (1961), Sunset Blvd. (1950), The Shining (1980), East of Eden (1955), The Dreamers (2003), A Woman Under the Influence (1974), Willy Wonka & the Chocolate Factory (1971), Watership Down (1978), Bedknobs and Broomsticks (1971), Revolutionary Road (2008), Public Enemies (2009), Inglourious Basterds (2009), J. Edgar (2011), Sin City (2005), Blood Diamond (2006), Body of Lies (2008), The Revenant (2015), Once Upon a Time... In Hollywood (2019), We Need to Talk About Kevin (2011), Rust and Bone (2012), Saving Mr. Banks (2013), Captain Phillips (2013), Rush (2013), Nightcrawler (2014), Arrival (2016), Steve Jobs (2015), Hocus Pocus (1993), Worst Shark Attack Ever (2014), Lassie (1994), Eternal Sunshine of the Spotless Mind (2004), Little Children (2006), Notes on a Scandal (2006), Blue Jasmine (2013), Carol (2015), Shine (1996), Ray (2004), Capote (2005), The Last King of Scotland (2006), No Country for Old Men (2007), There Will Be Blood (2007), Lincoln (2012), The Dark Knight (2008), The King's Speech (2010), Beginners (2010), Whiplash (2014), Three Billboards Outside Ebbing, Missouri (2017), Darkest Hour (2017), The Great Gatsby (1926), The Great Gatsby (1949), The Great Gatsby (1974), The Thief of Bagdad (1940), My Own Private Idaho (1991), Stand by Me (1986), This Boy's Life (1993), Charlie Rose (1991), The Audition (2015), Once Upon a Time... in Hollywood (2019)\n"
     ]
    }
   ],
   "source": [
    "id = casting[0].getID()\n",
    "person = moviesDB.get_person(id)\n",
    "bio = moviesDB.get_person_biography(id)\n",
    "\n",
    "name = person['name']\n",
    "birthDate = person['birth date']\n",
    "height = person['height']\n",
    "trivia = person['trivia']\n",
    "titleRefs = bio['titlesRefs']\n",
    "\n",
    "print(f'name: {name}')\n",
    "print(f'birth_date:{birthDate}')\n",
    "print(f'height: {height}')\n",
    "print(f'trivia: {trivia[0]}')\n",
    "titleRefStr = ', '.join(map(str,titleRefs))\n",
    "print(f'bio title refs: {titleRefStr}')"
   ]
  },
  {
   "cell_type": "code",
   "execution_count": 20,
   "metadata": {},
   "outputs": [
    {
     "name": "stdout",
     "output_type": "stream",
     "text": [
      "Top 10 movies: \n",
      "The Shawshank Redemption\n",
      "The Godfather\n",
      "The Godfather: Part II\n",
      "The Dark Knight\n",
      "12 Angry Men\n",
      "Schindler's List\n",
      "The Lord of the Rings: The Return of the King\n",
      "Pulp Fiction\n",
      "The Good, the Bad and the Ugly\n",
      "Bottom 10 movies: \n",
      "Disaster Movie\n",
      "Superbabies: Baby Geniuses 2\n",
      "Code Name: K.O.Z.\n",
      "Manos: The Hands of Fate\n",
      "Birdemic: Shock and Terror\n",
      "Kirk Cameron's Saving Christmas\n",
      "The Hottie & the Nottie\n",
      "House of the Dead\n",
      "Pledge This!\n"
     ]
    }
   ],
   "source": [
    "top = moviesDB.get_top250_movies()\n",
    "bottom = moviesDB.get_bottom100_movies()\n",
    "\n",
    "print('Top 10 movies: ')\n",
    "for movie in top[0:9]:\n",
    "    print(movie)\n",
    "\n",
    "print('Bottom 10 movies: ')\n",
    "for movie in bottom[0:9]:\n",
    "    print(movie)"
   ]
  },
  {
   "cell_type": "code",
   "execution_count": null,
   "metadata": {},
   "outputs": [],
   "source": []
  }
 ],
 "metadata": {
  "kernelspec": {
   "display_name": "Python 3",
   "language": "python",
   "name": "python3"
  },
  "language_info": {
   "codemirror_mode": {
    "name": "ipython",
    "version": 3
   },
   "file_extension": ".py",
   "mimetype": "text/x-python",
   "name": "python",
   "nbconvert_exporter": "python",
   "pygments_lexer": "ipython3",
   "version": "3.8.3"
  }
 },
 "nbformat": 4,
 "nbformat_minor": 4
}
