{
 "cells": [
  {
   "cell_type": "code",
   "execution_count": 1,
   "metadata": {},
   "outputs": [
    {
     "name": "stdout",
     "output_type": "stream",
     "text": [
      "Collecting youtube-comment-scraper\n",
      "  Downloading youtube-comment-scraper-1.2.1.tar.gz (2.8 kB)\n",
      "Requirement already satisfied: requests in /Users/macbook/opt/anaconda3/lib/python3.8/site-packages (from youtube-comment-scraper) (2.24.0)\n",
      "Collecting datakund\n",
      "  Downloading datakund-1.5.1.tar.gz (29.4 MB)\n",
      "\u001b[K     |████████████████████████████████| 29.4 MB 7.0 MB/s eta 0:00:01    |█████▋                          | 5.2 MB 8.1 MB/s eta 0:00:03     |██████████████████▌             | 16.9 MB 5.2 MB/s eta 0:00:03     |█████████████████████████       | 22.9 MB 6.3 MB/s eta 0:00:02     |███████████████████████████████ | 28.5 MB 7.0 MB/s eta 0:00:01\n",
      "\u001b[?25hRequirement already satisfied: urllib3!=1.25.0,!=1.25.1,<1.26,>=1.21.1 in /Users/macbook/opt/anaconda3/lib/python3.8/site-packages (from requests->youtube-comment-scraper) (1.25.9)\n",
      "Requirement already satisfied: idna<3,>=2.5 in /Users/macbook/opt/anaconda3/lib/python3.8/site-packages (from requests->youtube-comment-scraper) (2.10)\n",
      "Requirement already satisfied: certifi>=2017.4.17 in /Users/macbook/opt/anaconda3/lib/python3.8/site-packages (from requests->youtube-comment-scraper) (2020.6.20)\n",
      "Requirement already satisfied: chardet<4,>=3.0.2 in /Users/macbook/opt/anaconda3/lib/python3.8/site-packages (from requests->youtube-comment-scraper) (3.0.4)\n",
      "Requirement already satisfied: tqdm in /Users/macbook/opt/anaconda3/lib/python3.8/site-packages (from datakund->youtube-comment-scraper) (4.47.0)\n",
      "Building wheels for collected packages: youtube-comment-scraper, datakund\n",
      "  Building wheel for youtube-comment-scraper (setup.py) ... \u001b[?25ldone\n",
      "\u001b[?25h  Created wheel for youtube-comment-scraper: filename=youtube_comment_scraper-1.2.1-py3-none-any.whl size=2320 sha256=110dc47cdaddfdbb8998cb57788d7ec8f7e1aa9a8f7ee72f4b892296c8b5f032\n",
      "  Stored in directory: /Users/macbook/Library/Caches/pip/wheels/f1/c6/98/d87358275eea1919fe4041c3a5cc5f38cc67c0af3027cda075\n",
      "  Building wheel for datakund (setup.py) ... \u001b[?25ldone\n",
      "\u001b[?25h  Created wheel for datakund: filename=datakund-1.5.1-py3-none-any.whl size=29355201 sha256=447b7fb40da2146b5ffc75c7922d6e97c5a6501cb2b49941841052c8ba6c2b1f\n",
      "  Stored in directory: /Users/macbook/Library/Caches/pip/wheels/39/66/65/82be58f912b8a1a35d0d23547d87f8431d32dc4b8eec69ea3b\n",
      "Successfully built youtube-comment-scraper datakund\n",
      "Installing collected packages: datakund, youtube-comment-scraper\n",
      "Successfully installed datakund-1.5.1 youtube-comment-scraper-1.2.1\n",
      "Note: you may need to restart the kernel to use updated packages.\n"
     ]
    }
   ],
   "source": [
    "pip install youtube-comment-scraper"
   ]
  },
  {
   "cell_type": "code",
   "execution_count": 1,
   "metadata": {},
   "outputs": [
    {
     "name": "stdout",
     "output_type": "stream",
     "text": [
      "It currently works on windows only\n",
      "It currently works on windows only\n",
      "It currently works on windows only\n",
      "It currently works on windows only\n"
     ]
    },
    {
     "ename": "TypeError",
     "evalue": "'NoneType' object is not subscriptable",
     "output_type": "error",
     "traceback": [
      "\u001b[0;31m---------------------------------------------------------------------------\u001b[0m",
      "\u001b[0;31mTypeError\u001b[0m                                 Traceback (most recent call last)",
      "\u001b[0;32m<ipython-input-1-e49f82938ffb>\u001b[0m in \u001b[0;36m<module>\u001b[0;34m\u001b[0m\n\u001b[1;32m      2\u001b[0m \u001b[0myoutube\u001b[0m\u001b[0;34m.\u001b[0m\u001b[0mopen\u001b[0m\u001b[0;34m(\u001b[0m\u001b[0;34m\"https://www.youtube.com/watch?v=kbulCM90w8w\"\u001b[0m\u001b[0;34m)\u001b[0m\u001b[0;34m\u001b[0m\u001b[0;34m\u001b[0m\u001b[0m\n\u001b[1;32m      3\u001b[0m \u001b[0mresponse\u001b[0m\u001b[0;34m=\u001b[0m\u001b[0myoutube\u001b[0m\u001b[0;34m.\u001b[0m\u001b[0mvideo_comments\u001b[0m\u001b[0;34m(\u001b[0m\u001b[0;34m)\u001b[0m\u001b[0;34m\u001b[0m\u001b[0;34m\u001b[0m\u001b[0m\n\u001b[0;32m----> 4\u001b[0;31m \u001b[0mdata\u001b[0m\u001b[0;34m=\u001b[0m\u001b[0mresponse\u001b[0m\u001b[0;34m[\u001b[0m\u001b[0;34m'body'\u001b[0m\u001b[0;34m]\u001b[0m\u001b[0;34m\u001b[0m\u001b[0;34m\u001b[0m\u001b[0m\n\u001b[0m\u001b[1;32m      5\u001b[0m \u001b[0;34m\u001b[0m\u001b[0m\n",
      "\u001b[0;31mTypeError\u001b[0m: 'NoneType' object is not subscriptable"
     ]
    }
   ],
   "source": [
    "from youtube_comment_scraper import *\n",
    "youtube.open(\"https://www.youtube.com/watch?v=kbulCM90w8w\")\n",
    "response=youtube.video_comments()\n",
    "data=response['body']\n",
    "\n"
   ]
  },
  {
   "cell_type": "code",
   "execution_count": null,
   "metadata": {},
   "outputs": [],
   "source": []
  }
 ],
 "metadata": {
  "kernelspec": {
   "display_name": "Python 3",
   "language": "python",
   "name": "python3"
  },
  "language_info": {
   "codemirror_mode": {
    "name": "ipython",
    "version": 3
   },
   "file_extension": ".py",
   "mimetype": "text/x-python",
   "name": "python",
   "nbconvert_exporter": "python",
   "pygments_lexer": "ipython3",
   "version": "3.8.3"
  }
 },
 "nbformat": 4,
 "nbformat_minor": 4
}
