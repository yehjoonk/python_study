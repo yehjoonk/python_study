{
 "cells": [
  {
   "cell_type": "code",
   "execution_count": 12,
   "metadata": {},
   "outputs": [],
   "source": [
    "from selenium import webdriver\n",
    "from selenium.webdriver.chrome.options import Options\n",
    "from selenium.common.exceptions import TimeoutException\n",
    "from selenium.webdriver.support.ui import WebDriverWait\n",
    "from selenium.webdriver.common.keys import Keys\n",
    "from selenium.webdriver.support import expected_conditions as EC\n",
    "from selenium.webdriver.common.by import By\n",
    "import time"
   ]
  },
  {
   "cell_type": "code",
   "execution_count": 14,
   "metadata": {},
   "outputs": [],
   "source": [
    "def get_total_youtube_comments(url):\n",
    "    options = webdriver.ChromeOptions()\n",
    "    options.add_argument('--no-sandbox')\n",
    "    options.add_argument('--disable-dev-shm-usage')\n",
    "    options.add_argument(\"--headless\")\n",
    "    driver = webdriver.Chrome(options=options,executable_path=r\"/Users/macbook/Documents/GitHub/python_study/chromedriver\")\n",
    "    wait = WebDriverWait(driver,60)\n",
    "    driver.get(url)\n",
    "    SCROLL_PAUSE_TIME = 2\n",
    "    CYCLES = 7\n",
    "    html = driver.find_element_by_tag_name('html')\n",
    "    html.send_keys(Keys.PAGE_DOWN)   \n",
    "    html.send_keys(Keys.PAGE_DOWN)   \n",
    "    time.sleep(SCROLL_PAUSE_TIME * 3)\n",
    "    \n",
    "    for i in range(CYCLES):\n",
    "        html.send_keys(Keys.END)\n",
    "        time.sleep(SCROLL_PAUSE_TIME)\n",
    "    comment_elems = driver.find_elements_by_xpath('//*[@id=\"content-text\"]')\n",
    "    all_comments = [elem.text for elem in comment_elems]\n",
    "    \n",
    "    # get the last comment\n",
    "    lastEle = driver.find_element_by_xpath(\"(//*[@id='content-text'])[last()]\")\n",
    "    \n",
    "    # scroll to the last comment currently loaded\n",
    "    lastEle.location_once_scrolled_into_view\n",
    "    \n",
    "    # wait until the comments loading is done\n",
    "    WebDriverWait(driver,30).until(EC.invisibility_of_element((By.CSS_SELECTOR,\"div.active.style-scope.paper-spinner\")))\n",
    "\n",
    "    # load all comments\n",
    "    while lastEle != driver.find_element_by_xpath(\"(//*[@id='content-text'])[last()]\"):\n",
    "        lastEle = driver.find_element_by_xpath(\"(//*[@id='content-text'])[last()]\")\n",
    "        driver.find_element_by_xpath(\"(//*[@id='content-text'])[last()]\").location_once_scrolled_into_view\n",
    "        time.sleep(2)\n",
    "        WebDriverWait(driver,30).until(EC.invisibility_of_element((By.CSS_SELECTOR,\"div.active.style-scope.paper-spinner\")))\n",
    "\n",
    "    # open all replies\n",
    "    for reply in driver.find_elements_by_xpath(\"//*[@id='replies']//paper-button[@class='style-scope ytd-button-renderer'][contains(.,'View')]\"):\n",
    "        reply.location_once_scrolled_into_view\n",
    "        driver.execute_script(\"arguments[0].click()\",reply)\n",
    "    time.sleep(5)\n",
    "    WebDriverWait(driver, 30).until(\n",
    "            EC.invisibility_of_element((By.CSS_SELECTOR, \"div.active.style-scope.paper-spinner\")))\n",
    "    # print the total number of comments\n",
    "    print(len(driver.find_elements_by_xpath(\"//*[@id='content-text']\")))\n",
    "    \n",
    "    \n",
    "    return  all_comments"
   ]
  },
  {
   "cell_type": "code",
   "execution_count": 15,
   "metadata": {},
   "outputs": [
    {
     "name": "stdout",
     "output_type": "stream",
     "text": [
      "1453\n"
     ]
    }
   ],
   "source": [
    "url='https://youtu.be/FILPOpickH4'\n",
    "list = get_total_youtube_comments(url)"
   ]
  },
  {
   "cell_type": "code",
   "execution_count": 20,
   "metadata": {},
   "outputs": [
    {
     "data": {
      "text/plain": [
       "140"
      ]
     },
     "execution_count": 20,
     "metadata": {},
     "output_type": "execute_result"
    }
   ],
   "source": [
    "len(list)"
   ]
  },
  {
   "cell_type": "code",
   "execution_count": 27,
   "metadata": {},
   "outputs": [],
   "source": [
    "from wordcloud import WordCloud\n",
    "from collections import Counter\n",
    "word_could_dict=Counter(list)\n",
    "wordcloud = WordCloud(width = 1000, height = 500).generate_from_frequencies(word_could_dict)\n",
    "\n",
    "plt.figure(figsize=(15,8))\n",
    "plt.imshow(wordcloud)\n",
    "plt.axis(\"off\")\n",
    "#plt.show()\n",
    "plt.savefig('yourfile.png', bbox_inches='tight')\n",
    "plt.close()"
   ]
  },
  {
   "cell_type": "code",
   "execution_count": 1,
   "metadata": {},
   "outputs": [
    {
     "ename": "NameError",
     "evalue": "name 'unittest' is not defined",
     "output_type": "error",
     "traceback": [
      "\u001b[0;31m---------------------------------------------------------------------------\u001b[0m",
      "\u001b[0;31mNameError\u001b[0m                                 Traceback (most recent call last)",
      "\u001b[0;32m<ipython-input-1-1746885b6314>\u001b[0m in \u001b[0;36m<module>\u001b[0;34m\u001b[0m\n\u001b[0;32m----> 1\u001b[0;31m \u001b[0;32mclass\u001b[0m \u001b[0mWebDriverPythonBasics\u001b[0m\u001b[0;34m(\u001b[0m\u001b[0munittest\u001b[0m\u001b[0;34m.\u001b[0m\u001b[0mTestCase\u001b[0m\u001b[0;34m)\u001b[0m\u001b[0;34m:\u001b[0m\u001b[0;34m\u001b[0m\u001b[0;34m\u001b[0m\u001b[0m\n\u001b[0m\u001b[1;32m      2\u001b[0m \u001b[0;34m\u001b[0m\u001b[0m\n\u001b[1;32m      3\u001b[0m \u001b[0;34m\u001b[0m\u001b[0m\n\u001b[1;32m      4\u001b[0m     \u001b[0;32mdef\u001b[0m \u001b[0msetUp\u001b[0m\u001b[0;34m(\u001b[0m\u001b[0mself\u001b[0m\u001b[0;34m)\u001b[0m\u001b[0;34m:\u001b[0m\u001b[0;34m\u001b[0m\u001b[0;34m\u001b[0m\u001b[0m\n\u001b[1;32m      5\u001b[0m         \u001b[0mself\u001b[0m\u001b[0;34m.\u001b[0m\u001b[0mbrowser\u001b[0m \u001b[0;34m=\u001b[0m \u001b[0mwebdriver\u001b[0m\u001b[0;34m.\u001b[0m\u001b[0mChrome\u001b[0m\u001b[0;34m(\u001b[0m\u001b[0;34m)\u001b[0m\u001b[0;34m\u001b[0m\u001b[0;34m\u001b[0m\u001b[0m\n",
      "\u001b[0;31mNameError\u001b[0m: name 'unittest' is not defined"
     ]
    }
   ],
   "source": [
    "class WebDriverPythonBasics(unittest.TestCase):\n",
    "\n",
    "\n",
    "    def setUp(self):\n",
    "        self.browser = webdriver.Chrome()\n",
    "\n",
    "\n",
    "    def test_saucelabs_homepage_header_displayed(self):\n",
    "        self.browser.get(\"https://www.saucelabs.com\")\n",
    "        element = self.browser.find_element(By.XPATH, '//a[text()=\"Platforms\"]');\n",
    "        self.assertTrue(element.is_displayed());\n",
    "        element.click();\n",
    "        pricing_link = self.browser.find_element(By.XPATH, '//a[text()=\"Pricing\"]');\n",
    "        self.assertTrue(pricing_link.is_displayed());\n",
    "        pricing_link.click();\n",
    "\n",
    "\n",
    "    def tearDown(self):\n",
    "        self.browser.close()\n",
    "\n",
    "\n",
    "if __name__ == '__main__':\n",
    "        unittest.main()"
   ]
  },
  {
   "cell_type": "code",
   "execution_count": null,
   "metadata": {},
   "outputs": [],
   "source": []
  }
 ],
 "metadata": {
  "kernelspec": {
   "display_name": "Python 3",
   "language": "python",
   "name": "python3"
  },
  "language_info": {
   "codemirror_mode": {
    "name": "ipython",
    "version": 3
   },
   "file_extension": ".py",
   "mimetype": "text/x-python",
   "name": "python",
   "nbconvert_exporter": "python",
   "pygments_lexer": "ipython3",
   "version": "3.8.3"
  }
 },
 "nbformat": 4,
 "nbformat_minor": 4
}
