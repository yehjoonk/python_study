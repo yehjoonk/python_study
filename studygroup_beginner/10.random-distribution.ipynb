{
 "cells": [
  {
   "cell_type": "markdown",
   "metadata": {},
   "source": [
    "## RANDOM Number / Character Generator\n",
    "\n",
    "1. learn the basic codes\n",
    "2. make random number games\n",
    "3. make passwords"
   ]
  },
  {
   "cell_type": "code",
   "execution_count": 7,
   "metadata": {},
   "outputs": [
    {
     "data": {
      "text/plain": [
       "0.2634557021184044"
      ]
     },
     "execution_count": 7,
     "metadata": {},
     "output_type": "execute_result"
    }
   ],
   "source": [
    "import random\n",
    "random.random()\n",
    "#random floating-point number in the range [0.0, 1.0). *괄호에 주의할 것: including 0 but not 1."
   ]
  },
  {
   "cell_type": "markdown",
   "metadata": {},
   "source": [
    "# 1 .randint()"
   ]
  },
  {
   "cell_type": "code",
   "execution_count": 8,
   "metadata": {},
   "outputs": [
    {
     "data": {
      "text/plain": [
       "52"
      ]
     },
     "execution_count": 8,
     "metadata": {},
     "output_type": "execute_result"
    }
   ],
   "source": [
    "##Use randint() when you want to generate a random number from an inclusive range. [둘 다 들어감]\n",
    "random.randint(50, 55)\n",
    "\n",
    "#same as randrange but without range (steps)"
   ]
  },
  {
   "cell_type": "markdown",
   "metadata": {},
   "source": [
    "# 2 .randrange() "
   ]
  },
  {
   "cell_type": "code",
   "execution_count": 9,
   "metadata": {},
   "outputs": [
    {
     "data": {
      "text/plain": [
       "72"
      ]
     },
     "execution_count": 9,
     "metadata": {},
     "output_type": "execute_result"
    }
   ],
   "source": [
    "##Use randrange() when you want to generate a random number within a range by specifying the increment. \n",
    "#randrange(start, stop, step) = integer\n",
    "#It produces a random number from an exclusive range. [높은 숫자는 안 들어감)\n",
    "random.randrange(50, 100)"
   ]
  },
  {
   "cell_type": "code",
   "execution_count": 10,
   "metadata": {},
   "outputs": [
    {
     "data": {
      "text/plain": [
       "75"
      ]
     },
     "execution_count": 10,
     "metadata": {},
     "output_type": "execute_result"
    }
   ],
   "source": [
    "#What would it be? try this!\n",
    "random.randrange(50, 100, 5)"
   ]
  },
  {
   "cell_type": "code",
   "execution_count": 11,
   "metadata": {},
   "outputs": [
    {
     "data": {
      "text/plain": [
       "10"
      ]
     },
     "execution_count": 11,
     "metadata": {},
     "output_type": "execute_result"
    }
   ],
   "source": [
    "# Quiz 1: Even random integer from 0 to 100        \n",
    "random.randrange(0, 100)"
   ]
  },
  {
   "cell_type": "code",
   "execution_count": 12,
   "metadata": {},
   "outputs": [],
   "source": [
    "# Quiz 2: 4자리수의 random number 만들기. 조건: odd number일 것!\n"
   ]
  },
  {
   "cell_type": "markdown",
   "metadata": {},
   "source": [
    "# 3 object.append()"
   ]
  },
  {
   "cell_type": "code",
   "execution_count": 13,
   "metadata": {},
   "outputs": [
    {
     "name": "stdout",
     "output_type": "stream",
     "text": [
      "[652, 972, 847, 609, 231, 270, 601, 555, 409, 983]\n"
     ]
    }
   ],
   "source": [
    "# 10개의 random number 만들기 - 0부터 1000 사이.\n",
    "random_list = []\n",
    "for i in range(0, 10):\n",
    "    random_list.append(random.randint(0, 1000))\n",
    "print(random_list)"
   ]
  },
  {
   "cell_type": "code",
   "execution_count": 14,
   "metadata": {},
   "outputs": [],
   "source": [
    "# Quiz 3: 5개의 random number 만들기 - 0부터 29 사이 (randrange사용)"
   ]
  },
  {
   "cell_type": "code",
   "execution_count": 15,
   "metadata": {},
   "outputs": [],
   "source": [
    "# Quiz 4: 위 output이 0.5초에 한 줄식 나오게 하려면? (Review)\n",
    "from time import sleep"
   ]
  },
  {
   "cell_type": "markdown",
   "metadata": {},
   "source": [
    "# 4 .choice() - with duplicates"
   ]
  },
  {
   "cell_type": "code",
   "execution_count": 16,
   "metadata": {},
   "outputs": [
    {
     "data": {
      "text/plain": [
       "0"
      ]
     },
     "execution_count": 16,
     "metadata": {},
     "output_type": "execute_result"
    }
   ],
   "source": [
    "random.choice([0, 1])"
   ]
  },
  {
   "cell_type": "code",
   "execution_count": 17,
   "metadata": {},
   "outputs": [],
   "source": [
    "# Quiz 5: 동전 던지기 (0과 1 대신에 head, tail)"
   ]
  },
  {
   "cell_type": "code",
   "execution_count": 18,
   "metadata": {},
   "outputs": [
    {
     "data": {
      "text/plain": [
       "'c'"
      ]
     },
     "execution_count": 18,
     "metadata": {},
     "output_type": "execute_result"
    }
   ],
   "source": [
    "random.choice('welcome')          # Single random element"
   ]
  },
  {
   "cell_type": "code",
   "execution_count": 19,
   "metadata": {},
   "outputs": [],
   "source": [
    "# Quiz 6: 위 코드 5번 반복하기"
   ]
  },
  {
   "cell_type": "markdown",
   "metadata": {},
   "source": [
    "# 5 .choices() - with duplicates\n",
    "a randomly selection of the values from a specified list\n",
    "\n",
    "random.choices(sequence, weights=None, cum_weights=None, k=1)"
   ]
  },
  {
   "cell_type": "code",
   "execution_count": 20,
   "metadata": {},
   "outputs": [
    {
     "name": "stdout",
     "output_type": "stream",
     "text": [
      "[4, 3, 0]\n",
      "[2, 4, 0, 3, 0, 0, 2, 3, 0, 3]\n"
     ]
    }
   ],
   "source": [
    "randomint = [0, 1, 2, 3, 4]\n",
    "print(random.choices(randomint, k=3))\n",
    "print(random.choices(randomint, k=10))"
   ]
  },
  {
   "cell_type": "code",
   "execution_count": 21,
   "metadata": {},
   "outputs": [
    {
     "name": "stdout",
     "output_type": "stream",
     "text": [
      "[4, 1, 3]\n",
      "[0, 1, 0]\n"
     ]
    }
   ],
   "source": [
    "# relative weights\n",
    "\n",
    "print(random.choices(randomint, k=3, weights=[1, 1, 1, 10, 1]))\n",
    "# 1+1+1+10+1 = 14\n",
    "\n",
    "print(random.choices(randomint, k=3, weights=[1, 1, 0, 0, 0]))\n",
    "# 1+1+0+0+0 = 2"
   ]
  },
  {
   "cell_type": "markdown",
   "metadata": {},
   "source": [
    "# 6 .sample() - without duplicates"
   ]
  },
  {
   "cell_type": "code",
   "execution_count": 22,
   "metadata": {},
   "outputs": [
    {
     "data": {
      "text/plain": [
       "[10, 15, 5, 4, 1, 3, 11, 8, 17, 0]"
      ]
     },
     "execution_count": 22,
     "metadata": {},
     "output_type": "execute_result"
    }
   ],
   "source": [
    "#without duplicates\n",
    "random.sample(range(0, 20), 10)"
   ]
  },
  {
   "cell_type": "code",
   "execution_count": 23,
   "metadata": {},
   "outputs": [
    {
     "name": "stdout",
     "output_type": "stream",
     "text": [
      "[15, 12, 20, 7, 15, 14, 0, 1, 4, 2]\n"
     ]
    }
   ],
   "source": [
    "#compare with duplicates (randint)\n",
    "random_list_4 = []\n",
    "for i in range(0, 10):\n",
    "    random_list_4.append(random.randint(0, 20))\n",
    "print(random_list_4)"
   ]
  },
  {
   "cell_type": "code",
   "execution_count": 24,
   "metadata": {},
   "outputs": [
    {
     "data": {
      "text/plain": [
       "['l', 'm', 'e', 'w', 'e', 'o', 'c']"
      ]
     },
     "execution_count": 24,
     "metadata": {},
     "output_type": "execute_result"
    }
   ],
   "source": [
    "# You can do it with characters\n",
    "random.sample(('w', 'e', 'l', 'c','o','m','e'), 7)"
   ]
  },
  {
   "cell_type": "code",
   "execution_count": 25,
   "metadata": {},
   "outputs": [
    {
     "data": {
      "text/plain": [
       "['e', 'l', 'w', 'e', 'c', 'm', 'o']"
      ]
     },
     "execution_count": 25,
     "metadata": {},
     "output_type": "execute_result"
    }
   ],
   "source": [
    "#Notice the difference\n",
    "random.sample(('welcome'), 7)"
   ]
  },
  {
   "cell_type": "markdown",
   "metadata": {},
   "source": [
    "# 7 String .join() Method\n",
    "\"separator\".join(이름 혹은 sequence)\n",
    ".append()와 달라요!"
   ]
  },
  {
   "cell_type": "code",
   "execution_count": 26,
   "metadata": {},
   "outputs": [
    {
     "name": "stdout",
     "output_type": "stream",
     "text": [
      "emlwceo\n"
     ]
    }
   ],
   "source": [
    "# with no duplicates\n",
    "\n",
    "x = \"\".join(random.sample(('welcome'), 7))\n",
    "print (x)"
   ]
  },
  {
   "cell_type": "code",
   "execution_count": 27,
   "metadata": {},
   "outputs": [
    {
     "name": "stdout",
     "output_type": "stream",
     "text": [
      "w\n"
     ]
    }
   ],
   "source": [
    "#quiz 7: the code below print random alphbets of 'welcome' with duplicates.\n",
    "# change the code below so that it is without commas and quotation mark but with duplicates.\n",
    "\n",
    "x = \"w\"\n",
    "for i in range(7):\n",
    "    x = \"\".join(random.choice('welcome'))\n",
    "print(x)"
   ]
  },
  {
   "cell_type": "code",
   "execution_count": 28,
   "metadata": {},
   "outputs": [
    {
     "name": "stdout",
     "output_type": "stream",
     "text": [
      "lelowee\n"
     ]
    }
   ],
   "source": [
    "#Answer\n",
    "\n",
    "string1 = \"welcome\"\n",
    "def randomwelcome(length):\n",
    "    print (''.join(random.choice(string1) for i in range(length)))\n",
    "\n",
    "randomwelcome(7)\n"
   ]
  },
  {
   "cell_type": "markdown",
   "metadata": {},
   "source": [
    "Hint: definining function (review)"
   ]
  },
  {
   "cell_type": "code",
   "execution_count": 29,
   "metadata": {},
   "outputs": [],
   "source": [
    "# Answer"
   ]
  },
  {
   "cell_type": "code",
   "execution_count": 30,
   "metadata": {},
   "outputs": [
    {
     "name": "stdout",
     "output_type": "stream",
     "text": [
      "[300, 360, 220, 230, 410]\n",
      "[220, 230, 300, 360, 410]\n"
     ]
    }
   ],
   "source": [
    "# Review: Sorting\n",
    "\n",
    "sample_list = random.sample(range(100, 500, 5), 5)\n",
    "\n",
    "# Before sorting\n",
    "print(sample_list)\n",
    "\n",
    "sample_list.sort()\n",
    "print(sample_list)"
   ]
  },
  {
   "cell_type": "code",
   "execution_count": 31,
   "metadata": {},
   "outputs": [
    {
     "name": "stdout",
     "output_type": "stream",
     "text": [
      "[410, 360, 300, 230, 220]\n"
     ]
    }
   ],
   "source": [
    "#Quiz 8: 큰 수부터?\n",
    "\n",
    "sample_list.sort(reverse = True)\n",
    "print(sample_list)"
   ]
  },
  {
   "cell_type": "markdown",
   "metadata": {},
   "source": [
    "# 8 Random String"
   ]
  },
  {
   "cell_type": "code",
   "execution_count": 32,
   "metadata": {},
   "outputs": [],
   "source": [
    "import string\n",
    "# the ASCII characters of all cases. It has separate constants for lowercase, uppercase letters, digits, and special symbols."
   ]
  },
  {
   "cell_type": "code",
   "execution_count": 33,
   "metadata": {},
   "outputs": [
    {
     "data": {
      "text/plain": [
       "'abcdefghijklmnopqrstuvwxyz'"
      ]
     },
     "execution_count": 33,
     "metadata": {},
     "output_type": "execute_result"
    }
   ],
   "source": [
    "#Using the string.ascii_lowercase we can get all the lowercase letters. \n",
    "#I.e., ‘abcdefghijklmnopqrstuvwxyz.’\n",
    "\n",
    "string.ascii_lowercase"
   ]
  },
  {
   "cell_type": "code",
   "execution_count": 34,
   "metadata": {},
   "outputs": [
    {
     "name": "stdout",
     "output_type": "stream",
     "text": [
      "abcdefghijklmnopqrstuvwxyz\n"
     ]
    }
   ],
   "source": [
    "letters = string.ascii_lowercase\n",
    "print(letters)"
   ]
  },
  {
   "cell_type": "code",
   "execution_count": 35,
   "metadata": {},
   "outputs": [
    {
     "data": {
      "text/plain": [
       "'ABCDEFGHIJKLMNOPQRSTUVWXYZ'"
      ]
     },
     "execution_count": 35,
     "metadata": {},
     "output_type": "execute_result"
    }
   ],
   "source": [
    "string.ascii_uppercase"
   ]
  },
  {
   "cell_type": "code",
   "execution_count": 36,
   "metadata": {},
   "outputs": [
    {
     "data": {
      "text/plain": [
       "'abcdefghijklmnopqrstuvwxyzABCDEFGHIJKLMNOPQRSTUVWXYZ'"
      ]
     },
     "execution_count": 36,
     "metadata": {},
     "output_type": "execute_result"
    }
   ],
   "source": [
    "string.ascii_letters"
   ]
  },
  {
   "cell_type": "code",
   "execution_count": 37,
   "metadata": {},
   "outputs": [
    {
     "data": {
      "text/plain": [
       "'0123456789'"
      ]
     },
     "execution_count": 37,
     "metadata": {},
     "output_type": "execute_result"
    }
   ],
   "source": [
    "string.digits"
   ]
  },
  {
   "cell_type": "code",
   "execution_count": 38,
   "metadata": {},
   "outputs": [
    {
     "data": {
      "text/plain": [
       "'!\"#$%&\\'()*+,-./:;<=>?@[\\\\]^_`{|}~'"
      ]
     },
     "execution_count": 38,
     "metadata": {},
     "output_type": "execute_result"
    }
   ],
   "source": [
    "string.punctuation"
   ]
  },
  {
   "cell_type": "code",
   "execution_count": 39,
   "metadata": {},
   "outputs": [
    {
     "name": "stdout",
     "output_type": "stream",
     "text": [
      "Random string of length 8 is: prgnrrps\n",
      "Random string of length 6 is: wlllbi\n",
      "Random string of length 4 is: booa\n"
     ]
    }
   ],
   "source": [
    "# definining function (review)\n",
    "\n",
    "def get_random_string(length):\n",
    "    letters = string.ascii_lowercase\n",
    "    # choose from all lowercase letter\n",
    "    \n",
    "    result_str = ''.join(random.choice(letters) for i in range(length))\n",
    "    #join the letters without space ''\n",
    "    \n",
    "    print(\"Random string of length\", length, \"is:\", result_str)\n",
    "\n",
    "get_random_string(8)\n",
    "get_random_string(6)\n",
    "get_random_string(4)"
   ]
  },
  {
   "cell_type": "code",
   "execution_count": 40,
   "metadata": {},
   "outputs": [
    {
     "name": "stdout",
     "output_type": "stream",
     "text": [
      "Random string of length 10 is: R D D T F G X S G I\n",
      "Random string of length 20 is: E K J Z U T P T X F E Q G E Y K X F G U\n",
      "Random string of length 30 is: I C K S S V O D R G K D I M G H L W D T R T K S L E R V G H\n"
     ]
    }
   ],
   "source": [
    "# Quiz 9: get random strings of lengh 10, 20, 30 with spaces in between with all upper letters\n",
    "\n",
    "def get_upper_string(length):\n",
    "    letters = string.ascii_uppercase\n",
    "    # choose from all lowercase letter\n",
    "    \n",
    "    result_str = ' '.join(random.choice(letters) for i in range(length))\n",
    "    #join the letters without space ''\n",
    "    \n",
    "    print(\"Random string of length\", length, \"is:\", result_str)\n",
    "\n",
    "    \n",
    "get_upper_string(10)\n",
    "get_upper_string(20)\n",
    "get_upper_string(30)"
   ]
  },
  {
   "cell_type": "markdown",
   "metadata": {},
   "source": [
    "# 9 Easy Exercise"
   ]
  },
  {
   "cell_type": "markdown",
   "metadata": {},
   "source": [
    "Quiz 10: Random Lottery Pick. Generate 100 random lottery tickets and pick two lucky tickets from it as a winner.\n",
    "Note you must adhere to the following conditions:\n",
    "\n",
    "1) The lottery number must be 10 digits long.\n",
    "2) All 100 ticket number must be unique."
   ]
  },
  {
   "cell_type": "code",
   "execution_count": 41,
   "metadata": {},
   "outputs": [
    {
     "name": "stdout",
     "output_type": "stream",
     "text": [
      "the winning tickets are \n",
      "[9985005229, 5503186456]\n"
     ]
    }
   ],
   "source": [
    "#Answer\n",
    "\n",
    "tickets = []\n",
    "\n",
    "for i in range(0,100):\n",
    "    tickets.append(random.randint(1000000000,9999999999))\n",
    "    \n",
    "print('the winning tickets are ')\n",
    "print(random.sample(tickets, 2))\n",
    "\n"
   ]
  },
  {
   "cell_type": "code",
   "execution_count": 42,
   "metadata": {},
   "outputs": [
    {
     "data": {
      "text/plain": [
       "[2148025428, 6716224991]"
      ]
     },
     "execution_count": 42,
     "metadata": {},
     "output_type": "execute_result"
    }
   ],
   "source": [
    "lottery_candidates = random.sample(range(1000000000, 10000000000), 100)\n",
    "random.sample(lottery_candidates, 2)"
   ]
  },
  {
   "cell_type": "markdown",
   "metadata": {},
   "source": [
    "# 10 Medium Exercise (HW)"
   ]
  },
  {
   "cell_type": "markdown",
   "metadata": {},
   "source": [
    "Quiz 11: Generate a random Password which meets the following conditions:\n",
    "1) Password length must be 10 characters long.\n",
    "2) must contain *at least* 2 upper case letters, 1 digit, and 1 special symbol."
   ]
  },
  {
   "cell_type": "code",
   "execution_count": 43,
   "metadata": {},
   "outputs": [],
   "source": [
    "#Answer\n",
    "\n",
    "lower = string.ascii_lowercase\n",
    "upper = string.ascii_uppercase\n",
    "num = string.digits\n",
    "symbols = string.punctuation\n",
    "\n",
    "combined = lower + upper + num + symbols\n",
    "\n",
    "temp_pw = random.choice(upper) + random.choice(upper) + random.choice(num) + random.choice(symbols)\n",
    "\n",
    "password = temp_pw + random.choice(upper, )\n",
    "\n",
    "\n"
   ]
  },
  {
   "cell_type": "code",
   "execution_count": 44,
   "metadata": {},
   "outputs": [
    {
     "name": "stdout",
     "output_type": "stream",
     "text": [
      "liT<HI\"YR9\n"
     ]
    }
   ],
   "source": [
    "letters = string.ascii_lowercase\n",
    "uletters = string.ascii_uppercase\n",
    "dletters = string.digits\n",
    "sletters = string.punctuation\n",
    "\n",
    "combine = letters+uletters+dletters+sletters\n",
    "result_l = \"\".join(random.choice(combine) for i in range(0, 6))\n",
    "result_u = \"\".join(random.choice(uletters) for i in range(0, 2))\n",
    "result_d = random.choice(dletters)\n",
    "result_s = random.choice(sletters)\n",
    "combine2 = result_u + result_d + result_s+result_l\n",
    "\n",
    "pw = \"\".join(random.sample((combine2), 10))\n",
    "\n",
    "print(pw)"
   ]
  },
  {
   "cell_type": "markdown",
   "metadata": {},
   "source": [
    "# 11 Hard Exercise (HW)\n",
    "Quiz 12: Retrieve a user's choice for password character combination (digits, punctuation, letters or mixture of either one or more)."
   ]
  },
  {
   "cell_type": "code",
   "execution_count": 52,
   "metadata": {},
   "outputs": [],
   "source": [
    "def generate_pw(pw_len, digit_len, punc_len):\n",
    "    \n",
    "    if (punc_len + digit_len > pw_len):\n",
    "        print(\"Error! Please choose 1) overall pw length, 2) digits within your pw, 3) no of puncuations\")\n",
    "    \n",
    "    letter_len = pw_len - digit_len - punc_len\n",
    "\n",
    "    letters = string.ascii_lowercase + string.ascii_uppercase\n",
    "    digits = string.digits\n",
    "    punctuation = string.punctuation\n",
    "    \n",
    "    result_d = \"\".join(random.choice(digits) for i in range(0, digit_len))\n",
    "    result_p = \"\".join(random.choice(punctuation) for i in range(0, punc_len))\n",
    "    result_l = \"\".join(random.choice(letters) for i in range(0, letter_len))\n",
    "    \n",
    "    pw = result_d + result_p + result_l\n",
    "    pw = ''.join(random.sample(pw,len(pw)))\n",
    "    \n",
    "    return pw"
   ]
  },
  {
   "cell_type": "code",
   "execution_count": 53,
   "metadata": {},
   "outputs": [
    {
     "name": "stdout",
     "output_type": "stream",
     "text": [
      "Error! Please choose 1) overall pw length, 2) digits within your pw, 3) no of puncuations\n"
     ]
    },
    {
     "data": {
      "text/plain": [
       "\"'5]|}6\\\\[424\\\\^!,3]3^*:35_52*70^8<>{=.?66{:2,2$^=15*\""
      ]
     },
     "execution_count": 53,
     "metadata": {},
     "output_type": "execute_result"
    }
   ],
   "source": [
    "generate_pw(10, 20, 30)"
   ]
  }
 ],
 "metadata": {
  "kernelspec": {
   "display_name": "Python 3",
   "language": "python",
   "name": "python3"
  },
  "language_info": {
   "codemirror_mode": {
    "name": "ipython",
    "version": 3
   },
   "file_extension": ".py",
   "mimetype": "text/x-python",
   "name": "python",
   "nbconvert_exporter": "python",
   "pygments_lexer": "ipython3",
   "version": "3.8.3"
  }
 },
 "nbformat": 4,
 "nbformat_minor": 4
}
