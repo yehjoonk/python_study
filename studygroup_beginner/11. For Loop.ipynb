{
 "cells": [
  {
   "cell_type": "markdown",
   "metadata": {},
   "source": [
    "# For Loop"
   ]
  },
  {
   "cell_type": "markdown",
   "metadata": {},
   "source": [
    "### Use:\n",
    "\n",
    "**While loop** is used in situations where we do not know how many times loop needs to be excuted beforehand.\n",
    "\n",
    "**For loop** is used where we already know about the number of times loop needs to be excuted. Typically for a index used in iteration."
   ]
  },
  {
   "cell_type": "code",
   "execution_count": 1,
   "metadata": {},
   "outputs": [
    {
     "name": "stdout",
     "output_type": "stream",
     "text": [
      "**********----------------\n",
      "**********----------------\n",
      "**********----------------\n",
      "**********----------------\n",
      "**********----------------\n",
      "--------------------------\n",
      "--------------------------\n",
      "--------------------------\n",
      "--------------------------\n"
     ]
    }
   ],
   "source": [
    "# while loop\n",
    "\n",
    "first_counter = 0\n",
    "\n",
    "while first_counter < 5:\n",
    "    print(\"**********----------------\")\n",
    "    first_counter += 1\n",
    "    \n",
    "second_counter = 0\n",
    "\n",
    "while second_counter < 4:\n",
    "    print(\"--------------------------\")\n",
    "    second_counter += 1"
   ]
  },
  {
   "cell_type": "markdown",
   "metadata": {},
   "source": [
    "**For loops** require much less code and make it esier for other programmers to understand, because we can specify how many times we want the loop to run."
   ]
  },
  {
   "cell_type": "code",
   "execution_count": 2,
   "metadata": {},
   "outputs": [
    {
     "name": "stdout",
     "output_type": "stream",
     "text": [
      "0\n",
      "1\n",
      "2\n",
      "3\n",
      "4\n"
     ]
    }
   ],
   "source": [
    "# for loop\n",
    "\n",
    "## specify how many times you want the loop to run with the range() statement.\n",
    "## e.g.range(5) means it will loop over the code block 5 times, from 0 until 4.\n",
    "\n",
    "for i in range(5):\n",
    "    print(i)\n",
    "    "
   ]
  },
  {
   "cell_type": "code",
   "execution_count": 3,
   "metadata": {},
   "outputs": [
    {
     "name": "stdout",
     "output_type": "stream",
     "text": [
      "0\n",
      "I am craving chocolate!\n",
      "1\n",
      "I am craving chocolate!\n",
      "2\n",
      "I am craving chocolate!\n",
      "3\n",
      "I am craving chocolate!\n",
      "4\n",
      "I am craving chocolate!\n"
     ]
    }
   ],
   "source": [
    "## the variable before \"in\" is the counter variable. It counts what repetition of the loop we're on.\n",
    "\n",
    "for i in range(5):\n",
    "    print(i)\n",
    "    print(\"I am craving chocolate!\")"
   ]
  },
  {
   "cell_type": "code",
   "execution_count": 4,
   "metadata": {
    "scrolled": true
   },
   "outputs": [
    {
     "name": "stdout",
     "output_type": "stream",
     "text": [
      "**********----------------\n",
      "**********----------------\n",
      "**********----------------\n",
      "**********----------------\n",
      "--------------------------\n",
      "--------------------------\n",
      "--------------------------\n",
      "--------------------------\n"
     ]
    }
   ],
   "source": [
    "for i in range (4):\n",
    "    print(\"**********----------------\")\n",
    "\n",
    "for i in range (4):\n",
    "    print(\"--------------------------\")"
   ]
  },
  {
   "cell_type": "code",
   "execution_count": 5,
   "metadata": {},
   "outputs": [
    {
     "name": "stdout",
     "output_type": "stream",
     "text": [
      "We will\n",
      "We will\n",
      "Rock you!\n"
     ]
    }
   ],
   "source": [
    "for i in range(2):\n",
    "    print(\"We will\")\n",
    "\n",
    "print(\"Rock you!\")"
   ]
  },
  {
   "cell_type": "code",
   "execution_count": 6,
   "metadata": {},
   "outputs": [
    {
     "name": "stdout",
     "output_type": "stream",
     "text": [
      "www.wnetwork.com/signup/coupon/50/0\n",
      "www.wnetwork.com/signup/coupon/50/1\n",
      "www.wnetwork.com/signup/coupon/50/2\n",
      "www.wnetwork.com/signup/coupon/50/3\n",
      "4 coupons created\n"
     ]
    }
   ],
   "source": [
    "# Coupon Generator\n",
    "\n",
    "base = \"www.wnetwork.com\"\n",
    "coupon = \"signup/coupon\"\n",
    "discount = 50\n",
    "amount = 4\n",
    "\n",
    "for num in range(amount):\n",
    "    print(f\"{base}/{coupon}/{discount}/{num}\")\n",
    "\n",
    "print(f\"{amount} coupons created\")"
   ]
  },
  {
   "cell_type": "code",
   "execution_count": 7,
   "metadata": {},
   "outputs": [
    {
     "name": "stdout",
     "output_type": "stream",
     "text": [
      "10\n",
      "9\n",
      "8\n",
      "7\n",
      "6\n",
      "5\n",
      "4\n",
      "3\n",
      "2\n",
      "1\n",
      "Blast off!\n"
     ]
    }
   ],
   "source": [
    "# Countdown Timer\n",
    "\n",
    "import time\n",
    "\n",
    "for i in range(10, 0, -1): # start at 10, take off 1 until 0\n",
    "    print(i)\n",
    "    time.sleep(0.5)  # seconds\n",
    "    \n",
    "print(\"Blast off!\")"
   ]
  },
  {
   "cell_type": "code",
   "execution_count": 9,
   "metadata": {},
   "outputs": [
    {
     "name": "stdout",
     "output_type": "stream",
     "text": [
      "Which times tables would you like to learn? 13\n",
      "1 x 13 = 13\n",
      "2 x 13 = 26\n",
      "3 x 13 = 39\n",
      "4 x 13 = 52\n",
      "5 x 13 = 65\n",
      "6 x 13 = 78\n",
      "7 x 13 = 91\n",
      "8 x 13 = 104\n",
      "9 x 13 = 117\n",
      "10 x 13 = 130\n",
      "11 x 13 = 143\n",
      "12 x 13 = 156\n"
     ]
    }
   ],
   "source": [
    "# Times Tables\n",
    "\n",
    "multiplier = int(input(\"Which times tables would you like to learn? \")) \n",
    "# \"int\" converts a string into an integer\n",
    "\n",
    "for i in range(1, 13):\n",
    "    print(i, \"x\", multiplier, \"=\", (i * multiplier))"
   ]
  },
  {
   "cell_type": "code",
   "execution_count": null,
   "metadata": {},
   "outputs": [],
   "source": [
    "# Passwords\n",
    "\n",
    "password = \"abc123\"\n",
    "\n",
    "for i in range(3, 0, -1):  # 3 attemps, each time -1, until 0\n",
    "    attempt = input(\"Enter password: \")\n",
    "    if attempt == password:\n",
    "        break\n",
    "    else:\n",
    "        print(\"Incorrect - try again!\")\n",
    "\n",
    "if i == 1:\n",
    "    print(\"You have been denied access.\")\n",
    "else:\n",
    "    print(\"Password has been accepted.\")"
   ]
  },
  {
   "cell_type": "markdown",
   "metadata": {},
   "source": [
    "### Quiz 1: How can we make the same result as shown below using for loop?"
   ]
  },
  {
   "cell_type": "code",
   "execution_count": 10,
   "metadata": {},
   "outputs": [
    {
     "name": "stdout",
     "output_type": "stream",
     "text": [
      "9 coke left.\n",
      "8 coke left.\n",
      "7 coke left.\n",
      "6 coke left.\n",
      "5 coke left.\n",
      "4 coke left.\n",
      "3 coke left.\n",
      "2 coke left.\n",
      "1 coke left.\n",
      "0 coke left.\n",
      "sold out\n"
     ]
    }
   ],
   "source": [
    "coke=10\n",
    "\n",
    "while True:\n",
    "    coke=coke-1\n",
    "    print(\"{} coke left.\". format(coke))\n",
    "    time.sleep(0.1)\n",
    "    if coke==0:\n",
    "        print('sold out')\n",
    "        break"
   ]
  },
  {
   "cell_type": "code",
   "execution_count": 12,
   "metadata": {},
   "outputs": [
    {
     "name": "stdout",
     "output_type": "stream",
     "text": [
      "10 coke left.\n",
      "9 coke left.\n",
      "8 coke left.\n",
      "7 coke left.\n",
      "6 coke left.\n",
      "5 coke left.\n",
      "4 coke left.\n",
      "3 coke left.\n",
      "2 coke left.\n",
      "1 coke left.\n",
      "0 coke left.\n",
      "Sold out\n"
     ]
    }
   ],
   "source": [
    "for coke in range(10,-1,-1):\n",
    "    print(f\"{coke} coke left.\")\n",
    "    time.sleep(0.1)\n",
    "    if coke == 0:\n",
    "        print(\"Sold out\")"
   ]
  },
  {
   "cell_type": "markdown",
   "metadata": {},
   "source": [
    "### Quiz 2: How can we make the same result as shown below using for loop?"
   ]
  },
  {
   "cell_type": "code",
   "execution_count": 13,
   "metadata": {},
   "outputs": [
    {
     "name": "stdout",
     "output_type": "stream",
     "text": [
      "Give me money:600\n",
      "Here is your change. Here is 100.\n",
      "Give me money:300\n",
      "Put in more money.\n",
      "Give me money:500\n",
      "Here is your coke.\n",
      "Give me money:600\n",
      "Here is your change. Here is 100.\n",
      "Give me money:700\n",
      "Here is your change. Here is 200.\n",
      "Give me money:800\n",
      "Here is your change. Here is 300.\n",
      "sold out\n"
     ]
    }
   ],
   "source": [
    "coke = 5\n",
    "while True:\n",
    "    money = int(input('Give me money:'))\n",
    "    if money==500:\n",
    "        print(\"Here is your coke.\")\n",
    "        coke = coke -1\n",
    "    elif money>500:\n",
    "        print(\"Here is your change. Here is {}.\".format(money-500))\n",
    "        coke = coke -1\n",
    "    else:\n",
    "        print(\"Put in more money.\")\n",
    "    if coke == 0:\n",
    "        print(\"sold out\")\n",
    "        break"
   ]
  },
  {
   "cell_type": "code",
   "execution_count": 26,
   "metadata": {},
   "outputs": [
    {
     "name": "stdout",
     "output_type": "stream",
     "text": [
      "Give me money:400\n",
      "Put in more money.\n",
      "Give me money:400\n",
      "Put in more money.\n",
      "Give me money:400\n",
      "Put in more money.\n",
      "Give me money:500\n",
      "Here is your coke.\n",
      "Give me money:500\n",
      "Here is your coke.\n",
      "Give me money:500\n",
      "Here is your coke.\n",
      "Sold out\n"
     ]
    }
   ],
   "source": [
    "for coke in range(5,-1,-1):\n",
    "    money = int(input('Give me money:'))\n",
    "\n",
    "    if money == 500: \n",
    "        print(\"Here is your coke.\")\n",
    "    elif money > 500:\n",
    "        print(\"Here is your change. Here is {}\".format(money-500))\n",
    "    elif money < 500:\n",
    "        coke = coke + 1\n",
    "        print(\"Put in more money.\")\n",
    "\n",
    "    if coke == 0:\n",
    "        print(\"Sold out\")"
   ]
  },
  {
   "cell_type": "code",
   "execution_count": 29,
   "metadata": {},
   "outputs": [
    {
     "name": "stdout",
     "output_type": "stream",
     "text": [
      "Give me money:600\n",
      "Here is your change. Here is 100\n",
      "Give me money:500\n",
      "Here is your coke.\n",
      "Give me money:500\n",
      "Here is your coke.\n",
      "Give me money:500\n",
      "Here is your coke.\n",
      "Give me money:500\n",
      "Here is your coke.\n",
      "Give me money:500\n",
      "Here is your coke.\n",
      "Sold out\n"
     ]
    }
   ],
   "source": [
    "for coke in range(5,-1,-1):\n",
    "    money = int(input('Give me money:'))\n",
    "\n",
    "    if money == 500: \n",
    "        print(\"Here is your coke.\")\n",
    "    elif money > 500:\n",
    "        print(\"Here is your change. Here is {}\".format(money-500))\n",
    "    elif money < 500:\n",
    "        coke = coke + 1\n",
    "        print(\"Put in more money.\")\n",
    "\n",
    "    if coke == 0:\n",
    "        print(\"Sold out\")"
   ]
  },
  {
   "cell_type": "markdown",
   "metadata": {},
   "source": [
    "### Quiz 3: Code an app that checks the strength of a password using for loop."
   ]
  },
  {
   "cell_type": "code",
   "execution_count": 30,
   "metadata": {},
   "outputs": [
    {
     "name": "stdout",
     "output_type": "stream",
     "text": [
      "Enter password: Abdafdhk10\n",
      "Strong password\n"
     ]
    }
   ],
   "source": [
    "import re\n",
    "\n",
    "def check(password):\n",
    "    \"\"\" \n",
    "    Ensures password has at least one uppercase, one lowercase, and one digit\n",
    "    \"\"\"\n",
    "    return False if not re.search('[A-Z]', password) or not re.search('[a-z]', password) or not re.search('[0-9]', password) else True\n",
    "\n",
    "if __name__ == '__main__':\n",
    "    password = input(\"Enter password: \")\n",
    "    print(\"Strong password\") if check(password) else print(\"Weak Password\")"
   ]
  },
  {
   "cell_type": "code",
   "execution_count": null,
   "metadata": {},
   "outputs": [
    {
     "name": "stdout",
     "output_type": "stream",
     "text": [
      "Enter password: hksafhkj1\n",
      "Weak Password\n",
      "Enter password: hadsifhiG3\n",
      "Strong password\n",
      "Enter password: hadsjfh89\n",
      "Weak Password\n",
      "Enter password: ahskjdhfaksh123G\n",
      "Strong password\n",
      "Enter password: dshafkhsG9\n",
      "Strong password\n",
      "Enter password: dsbbz7812G\n",
      "Strong password\n",
      "Enter password: 1h2kjh\n",
      "Weak Password\n"
     ]
    }
   ],
   "source": [
    "import re\n",
    "\n",
    "def check(password):\n",
    "    \"\"\" \n",
    "    Ensures password has at least one uppercase, one lowercase, and one digit\n",
    "    \"\"\"\n",
    "    return False if not re.search('[A-Z]', password) or not re.search('[a-z]', password) or not re.search('[0-9]', password) else True\n",
    "\n",
    "for i in range (0, 10, 1):\n",
    "    if __name__ == '__main__':\n",
    "        password = input(\"Enter password: \")\n",
    "        print(\"Strong password\") if check(password) else print(\"Weak Password\")"
   ]
  },
  {
   "cell_type": "code",
   "execution_count": null,
   "metadata": {},
   "outputs": [],
   "source": [
    "for i in range(10):\n",
    "    def check(password):\n",
    "        \"\"\" \n",
    "        Ensures password has at least one uppercase, one lowercase, and one digit\n",
    "        \"\"\"\n",
    "        return False if not re.search('[A-Z]', password) or not re.search('[a-z]', password) or not re.search('[0-9]', password) else True\n",
    "\n",
    "    if __name__ == '__main__':\n",
    "        password = input(\"Enter password: \")\n",
    "        print(\"Strong password\") if check(password) else print(\"Weak Password\")"
   ]
  },
  {
   "cell_type": "code",
   "execution_count": 3,
   "metadata": {},
   "outputs": [
    {
     "name": "stdout",
     "output_type": "stream",
     "text": [
      "Enter password: dsfashfjkhkj\n",
      "You need an uppercase letter.\n",
      "You need a number.\n",
      "You need a symbol.\n",
      "Strong password\n"
     ]
    },
    {
     "ename": "KeyboardInterrupt",
     "evalue": "Interrupted by user",
     "output_type": "error",
     "traceback": [
      "\u001b[0;31m---------------------------------------------------------------------------\u001b[0m",
      "\u001b[0;31mKeyboardInterrupt\u001b[0m                         Traceback (most recent call last)",
      "\u001b[0;32m<ipython-input-3-57f88f5eab5c>\u001b[0m in \u001b[0;36m<module>\u001b[0;34m\u001b[0m\n\u001b[1;32m      2\u001b[0m \u001b[0mcheck\u001b[0m \u001b[0;34m=\u001b[0m \u001b[0;32mTrue\u001b[0m\u001b[0;34m\u001b[0m\u001b[0;34m\u001b[0m\u001b[0m\n\u001b[1;32m      3\u001b[0m \u001b[0;32mwhile\u001b[0m \u001b[0mcheck\u001b[0m\u001b[0;34m:\u001b[0m\u001b[0;34m\u001b[0m\u001b[0;34m\u001b[0m\u001b[0m\n\u001b[0;32m----> 4\u001b[0;31m     \u001b[0mpassword\u001b[0m \u001b[0;34m=\u001b[0m \u001b[0minput\u001b[0m\u001b[0;34m(\u001b[0m\u001b[0;34m\"Enter password: \"\u001b[0m\u001b[0;34m)\u001b[0m\u001b[0;34m\u001b[0m\u001b[0;34m\u001b[0m\u001b[0m\n\u001b[0m\u001b[1;32m      5\u001b[0m     \u001b[0;32mif\u001b[0m \u001b[0;32mnot\u001b[0m \u001b[0mre\u001b[0m\u001b[0;34m.\u001b[0m\u001b[0msearch\u001b[0m\u001b[0;34m(\u001b[0m\u001b[0;34m'[A-Z]'\u001b[0m\u001b[0;34m,\u001b[0m \u001b[0mpassword\u001b[0m\u001b[0;34m)\u001b[0m\u001b[0;34m:\u001b[0m\u001b[0;34m\u001b[0m\u001b[0;34m\u001b[0m\u001b[0m\n\u001b[1;32m      6\u001b[0m         \u001b[0mprint\u001b[0m \u001b[0;34m(\u001b[0m\u001b[0;34m\"You need an uppercase letter.\"\u001b[0m\u001b[0;34m)\u001b[0m\u001b[0;34m\u001b[0m\u001b[0;34m\u001b[0m\u001b[0m\n",
      "\u001b[0;32m~/opt/anaconda3/lib/python3.8/site-packages/ipykernel/kernelbase.py\u001b[0m in \u001b[0;36mraw_input\u001b[0;34m(self, prompt)\u001b[0m\n\u001b[1;32m    858\u001b[0m                 \u001b[0;34m\"raw_input was called, but this frontend does not support input requests.\"\u001b[0m\u001b[0;34m\u001b[0m\u001b[0;34m\u001b[0m\u001b[0m\n\u001b[1;32m    859\u001b[0m             )\n\u001b[0;32m--> 860\u001b[0;31m         return self._input_request(str(prompt),\n\u001b[0m\u001b[1;32m    861\u001b[0m             \u001b[0mself\u001b[0m\u001b[0;34m.\u001b[0m\u001b[0m_parent_ident\u001b[0m\u001b[0;34m,\u001b[0m\u001b[0;34m\u001b[0m\u001b[0;34m\u001b[0m\u001b[0m\n\u001b[1;32m    862\u001b[0m             \u001b[0mself\u001b[0m\u001b[0;34m.\u001b[0m\u001b[0m_parent_header\u001b[0m\u001b[0;34m,\u001b[0m\u001b[0;34m\u001b[0m\u001b[0;34m\u001b[0m\u001b[0m\n",
      "\u001b[0;32m~/opt/anaconda3/lib/python3.8/site-packages/ipykernel/kernelbase.py\u001b[0m in \u001b[0;36m_input_request\u001b[0;34m(self, prompt, ident, parent, password)\u001b[0m\n\u001b[1;32m    902\u001b[0m             \u001b[0;32mexcept\u001b[0m \u001b[0mKeyboardInterrupt\u001b[0m\u001b[0;34m:\u001b[0m\u001b[0;34m\u001b[0m\u001b[0;34m\u001b[0m\u001b[0m\n\u001b[1;32m    903\u001b[0m                 \u001b[0;31m# re-raise KeyboardInterrupt, to truncate traceback\u001b[0m\u001b[0;34m\u001b[0m\u001b[0;34m\u001b[0m\u001b[0;34m\u001b[0m\u001b[0m\n\u001b[0;32m--> 904\u001b[0;31m                 \u001b[0;32mraise\u001b[0m \u001b[0mKeyboardInterrupt\u001b[0m\u001b[0;34m(\u001b[0m\u001b[0;34m\"Interrupted by user\"\u001b[0m\u001b[0;34m)\u001b[0m \u001b[0;32mfrom\u001b[0m \u001b[0;32mNone\u001b[0m\u001b[0;34m\u001b[0m\u001b[0;34m\u001b[0m\u001b[0m\n\u001b[0m\u001b[1;32m    905\u001b[0m             \u001b[0;32mexcept\u001b[0m \u001b[0mException\u001b[0m \u001b[0;32mas\u001b[0m \u001b[0me\u001b[0m\u001b[0;34m:\u001b[0m\u001b[0;34m\u001b[0m\u001b[0;34m\u001b[0m\u001b[0m\n\u001b[1;32m    906\u001b[0m                 \u001b[0mself\u001b[0m\u001b[0;34m.\u001b[0m\u001b[0mlog\u001b[0m\u001b[0;34m.\u001b[0m\u001b[0mwarning\u001b[0m\u001b[0;34m(\u001b[0m\u001b[0;34m\"Invalid Message:\"\u001b[0m\u001b[0;34m,\u001b[0m \u001b[0mexc_info\u001b[0m\u001b[0;34m=\u001b[0m\u001b[0;32mTrue\u001b[0m\u001b[0;34m)\u001b[0m\u001b[0;34m\u001b[0m\u001b[0;34m\u001b[0m\u001b[0m\n",
      "\u001b[0;31mKeyboardInterrupt\u001b[0m: Interrupted by user"
     ]
    }
   ],
   "source": [
    "import re\n",
    "check = True\n",
    "while check:\n",
    "    password = input(\"Enter password: \")\n",
    "    if not re.search('[A-Z]', password):\n",
    "        print (\"You need an uppercase letter.\")\n",
    "        check=True\n",
    "    if not re.search('[a-z]', password):\n",
    "        print (\"You need a lowercase letter.\")\n",
    "        check=True\n",
    "    if not re.search('[0-9]', password):\n",
    "        print (\"You need a number.\")\n",
    "        check=True\n",
    "    if not re.search('[!:;<=>?@[\\]^_`{|}~\"#$%&\\'()*+,-./]', password):\n",
    "        print (\"You need a symbol.\")\n",
    "        check=True\n",
    "    if len(password)<8:\n",
    "        print (\"The password needs to be longer. You need {} more.\".format(8-len(password)))\n",
    "        check=True\n",
    "    else:\n",
    "        print(\"Strong password\")"
   ]
  },
  {
   "cell_type": "markdown",
   "metadata": {},
   "source": [
    "### Discussion: What can for loops be used for?"
   ]
  },
  {
   "cell_type": "code",
   "execution_count": null,
   "metadata": {},
   "outputs": [],
   "source": []
  }
 ],
 "metadata": {
  "kernelspec": {
   "display_name": "Python 3",
   "language": "python",
   "name": "python3"
  },
  "language_info": {
   "codemirror_mode": {
    "name": "ipython",
    "version": 3
   },
   "file_extension": ".py",
   "mimetype": "text/x-python",
   "name": "python",
   "nbconvert_exporter": "python",
   "pygments_lexer": "ipython3",
   "version": "3.8.3"
  }
 },
 "nbformat": 4,
 "nbformat_minor": 4
}
