{
 "cells": [
  {
   "cell_type": "markdown",
   "metadata": {},
   "source": [
    "### 1. Review\n",
    "\n",
    "본인의 나이와 이름을 적어주세요."
   ]
  },
  {
   "cell_type": "code",
   "execution_count": 1,
   "metadata": {},
   "outputs": [],
   "source": [
    "age = 30"
   ]
  },
  {
   "cell_type": "code",
   "execution_count": 3,
   "metadata": {},
   "outputs": [],
   "source": [
    "name = \"Gina Kim\""
   ]
  },
  {
   "cell_type": "code",
   "execution_count": 4,
   "metadata": {},
   "outputs": [
    {
     "name": "stdout",
     "output_type": "stream",
     "text": [
      "Gina Kim was 30 years old when she started to learn Python.\n"
     ]
    }
   ],
   "source": [
    "print ('{0} was {1} years old when she started to learn Python.'.format(name, age))"
   ]
  },
  {
   "cell_type": "code",
   "execution_count": 5,
   "metadata": {},
   "outputs": [
    {
     "name": "stdout",
     "output_type": "stream",
     "text": [
      "30 was Gina Kim years old when she started to learn Python.\n"
     ]
    }
   ],
   "source": [
    "print ('{1} was {0} years old when she started to learn Python.'.format(name, age))\n",
    "#순서를 바꾼다면?"
   ]
  },
  {
   "cell_type": "markdown",
   "metadata": {},
   "source": [
    "### 2. NUMBERS"
   ]
  },
  {
   "cell_type": "code",
   "execution_count": 6,
   "metadata": {},
   "outputs": [
    {
     "name": "stdout",
     "output_type": "stream",
     "text": [
      "0.333\n"
     ]
    }
   ],
   "source": [
    "print ('{0:.3f}'.format(1.0/3))\n",
    "#소숫점 그리고 colon(:) applied from lesson 2 - floating numbers"
   ]
  },
  {
   "cell_type": "code",
   "execution_count": 7,
   "metadata": {},
   "outputs": [
    {
     "name": "stdout",
     "output_type": "stream",
     "text": [
      "Output 1: 4.0\n",
      "Output 2: 3.074074074074074\n",
      "Output 3: 3.074\n"
     ]
    }
   ],
   "source": [
    "#실수(10진 소수점)와 정수\n",
    "print ('Output 1: {0}'.format(int(8.3)/int(2.7))) #정수로 변환 후 계산 8/2\n",
    "print ('Output 2: {0}'.format((8.3)/(2.7)))\n",
    "print ('Output 3: {0:.3f}'.format(8.3/2.7))"
   ]
  },
  {
   "cell_type": "code",
   "execution_count": 8,
   "metadata": {},
   "outputs": [
    {
     "data": {
      "text/plain": [
       "int"
      ]
     },
     "execution_count": 8,
     "metadata": {},
     "output_type": "execute_result"
    }
   ],
   "source": [
    "type (age)"
   ]
  },
  {
   "cell_type": "code",
   "execution_count": 9,
   "metadata": {},
   "outputs": [
    {
     "data": {
      "text/plain": [
       "str"
      ]
     },
     "execution_count": 9,
     "metadata": {},
     "output_type": "execute_result"
    }
   ],
   "source": [
    "type (name)"
   ]
  },
  {
   "cell_type": "code",
   "execution_count": 10,
   "metadata": {},
   "outputs": [
    {
     "name": "stdout",
     "output_type": "stream",
     "text": [
      "Output 4: Four plus five equals 10.00.\n"
     ]
    }
   ],
   "source": [
    "x=4.5\n",
    "y=5.5\n",
    "z=x+y\n",
    "print (\"Output 4: Four plus five equals {0:.2f}.\".format(z))"
   ]
  },
  {
   "cell_type": "markdown",
   "metadata": {},
   "source": [
    "### 3. Print문자열"
   ]
  },
  {
   "cell_type": "code",
   "execution_count": 11,
   "metadata": {},
   "outputs": [
    {
     "name": "stdout",
     "output_type": "stream",
     "text": [
      "This is the first sentence. \n",
      "This is the second sentence.\n"
     ]
    }
   ],
   "source": [
    "print (\"This is the first sentence. \\nThis is the second sentence.\")\n",
    "#긴 문장을 다음 줄에 쓰고 싶을 때 \\n를 사용합니다."
   ]
  },
  {
   "cell_type": "code",
   "execution_count": 12,
   "metadata": {},
   "outputs": [
    {
     "name": "stdout",
     "output_type": "stream",
     "text": [
      "This is a multi-line string.\n",
      "This is the second line.\n"
     ]
    }
   ],
   "source": [
    "s = '''This is a multi-line string.\n",
    "This is the second line.'''\n",
    "print (s)\n",
    "#작은 따옴표를 세 번 쓰면 \\n을 쓰지 않아도 됩니다."
   ]
  },
  {
   "cell_type": "code",
   "execution_count": 14,
   "metadata": {},
   "outputs": [
    {
     "name": "stdout",
     "output_type": "stream",
     "text": [
      "Value is 5\n",
      "I repeat, the value is  5\n"
     ]
    }
   ],
   "source": [
    "i = 5\n",
    "# 다음 행에서 오류가 발생합니다! 행 앞에 잘못된 공백이 한 칸 있습니다.\n",
    "print ('Value is',i)\n",
    "print ('I repeat, the value is ', i)"
   ]
  },
  {
   "cell_type": "code",
   "execution_count": 15,
   "metadata": {},
   "outputs": [
    {
     "name": "stdout",
     "output_type": "stream",
     "text": [
      "This is a short string.\n"
     ]
    }
   ],
   "source": [
    "#reveiw  from lession 1\n",
    "string1= \"This is a \"\n",
    "string2= \"short string.\"\n",
    "sentence=string1+string2\n",
    "print (sentence)"
   ]
  },
  {
   "cell_type": "code",
   "execution_count": 16,
   "metadata": {},
   "outputs": [
    {
     "name": "stdout",
     "output_type": "stream",
     "text": [
      "Output 5: This is a short string.\n"
     ]
    }
   ],
   "source": [
    "print ('Output 5: {0:s}'.format(sentence))"
   ]
  },
  {
   "cell_type": "code",
   "execution_count": 17,
   "metadata": {},
   "outputs": [
    {
     "name": "stdout",
     "output_type": "stream",
     "text": [
      "Answer: This is a short string.\n"
     ]
    }
   ],
   "source": [
    "print ('Answer: {0}'.format(sentence))"
   ]
  },
  {
   "cell_type": "code",
   "execution_count": 18,
   "metadata": {},
   "outputs": [
    {
     "name": "stdout",
     "output_type": "stream",
     "text": [
      "Answer: 30\n"
     ]
    }
   ],
   "source": [
    "print ('Answer: {0!s}'.format(age))"
   ]
  },
  {
   "cell_type": "code",
   "execution_count": 21,
   "metadata": {},
   "outputs": [
    {
     "name": "stdout",
     "output_type": "stream",
     "text": [
      "Output 6: She is veryveryveryvery  smart.\n"
     ]
    }
   ],
   "source": [
    "print ('Output 6: {0:s} {1:s} {2:s}'.format(\"She is\", \"very\"*4, \" smart.\"))\n",
    "#change?"
   ]
  },
  {
   "cell_type": "code",
   "execution_count": 22,
   "metadata": {},
   "outputs": [
    {
     "name": "stdout",
     "output_type": "stream",
     "text": [
      "23\n"
     ]
    }
   ],
   "source": [
    "m=len(sentence)\n",
    "print (m)\n",
    "#note the space and punctuation count"
   ]
  },
  {
   "cell_type": "markdown",
   "metadata": {},
   "source": [
    "### 4. 문자열SPLIT & REPLACE 등"
   ]
  },
  {
   "cell_type": "code",
   "execution_count": 23,
   "metadata": {},
   "outputs": [
    {
     "name": "stdout",
     "output_type": "stream",
     "text": [
      "Output 6: ['I', 'want', 'to', 'be', 'able', 'to', 'use', 'Python', 'well.']\n",
      "Output 7: FIRST-I SECOND-want THIRD-to be able to use Python well.\n"
     ]
    }
   ],
   "source": [
    "string3=\"I want to be able to use Python well.\"\n",
    "string3_list1=string3.split()\n",
    "string3_list2=string3.split(\" \", 2)\n",
    "print (\"Output 6: {0}\".format(string3_list1))\n",
    "print (\"Output 7: FIRST-{0} SECOND-{1} THIRD-{2}\".format(string3_list2[0],string3_list2[1],string3_list2[2]))"
   ]
  },
  {
   "cell_type": "code",
   "execution_count": 24,
   "metadata": {},
   "outputs": [
    {
     "data": {
      "text/plain": [
       "['I', 'want', 'to be able to use Python well.']"
      ]
     },
     "execution_count": 24,
     "metadata": {},
     "output_type": "execute_result"
    }
   ],
   "source": [
    "string3_list2"
   ]
  },
  {
   "cell_type": "code",
   "execution_count": 26,
   "metadata": {},
   "outputs": [
    {
     "name": "stdout",
     "output_type": "stream",
     "text": [
      "Output 8: ['I', 'would', 'love', 'to', 'learn', 'some', 'python', 'with', 'you']\n"
     ]
    }
   ],
   "source": [
    "string4=\"I,would,love,to,learn,some,python,with,you\"\n",
    "string4_list1=string4.split(',')\n",
    "print (\"Output 8: {0}\".format(string4_list1))"
   ]
  },
  {
   "cell_type": "code",
   "execution_count": 27,
   "metadata": {},
   "outputs": [
    {
     "name": "stdout",
     "output_type": "stream",
     "text": [
      "Output 9: I!@!can't!@!read!@!this!\n"
     ]
    }
   ],
   "source": [
    "string5=\"I can't read this!\"\n",
    "string5_replace=string5.replace(\" \", \"!@!\")\n",
    "print (\"Output 9: {0}\".format(string5_replace))"
   ]
  },
  {
   "cell_type": "code",
   "execution_count": 28,
   "metadata": {},
   "outputs": [
    {
     "name": "stdout",
     "output_type": "stream",
     "text": [
      "Output 10: here's what happens when you use lower\n"
     ]
    }
   ],
   "source": [
    "string6=\"Here's wHat Happens WHEN you Use lOWer\"\n",
    "print (\"Output 10: {0}\".format(string6.lower()))"
   ]
  },
  {
   "cell_type": "code",
   "execution_count": 29,
   "metadata": {},
   "outputs": [
    {
     "name": "stdout",
     "output_type": "stream",
     "text": [
      "Output 11: HERE'S WHAT HAPPENS WHEN YOU USE UPPER\n"
     ]
    }
   ],
   "source": [
    "string7=\"Here's wHat Happens WHEN you Use uppeR\"\n",
    "print (\"Output 11: {0}\".format(string7.upper()))"
   ]
  },
  {
   "cell_type": "code",
   "execution_count": 30,
   "metadata": {},
   "outputs": [
    {
     "name": "stdout",
     "output_type": "stream",
     "text": [
      "Output 12: Here's what happens when you use capitalize\n"
     ]
    }
   ],
   "source": [
    "string8=\"Here's wHat Happens WHEN you Use capiTALize\"\n",
    "print (\"Output 12: {0}\".format(string8.capitalize()))"
   ]
  },
  {
   "cell_type": "code",
   "execution_count": 31,
   "metadata": {},
   "outputs": [
    {
     "name": "stdout",
     "output_type": "stream",
     "text": [
      "Output 13: (on each word):\n",
      "Here's\n",
      "What\n",
      "Happens\n",
      "When\n",
      "You\n",
      "Use\n",
      "Capitalize\n"
     ]
    }
   ],
   "source": [
    "string8_list=string8.split()\n",
    "print (\"Output 13: (on each word):\")\n",
    "for word in string8_list:\n",
    "    print(\"{0:s}\".format(word.capitalize()))\n",
    "\n",
    "#string8_list에 있는 모든 원소에 대해 어떤 일을 수행하겠다.\n",
    "#어떤 일 = print(word.capitalize())\n",
    "#곧 string8_list에 있는 모든 원소에 대해 capitalize라는 함수를 적용한 다음 그 원소를 출력한다."
   ]
  }
 ],
 "metadata": {
  "kernelspec": {
   "display_name": "Python 3",
   "language": "python",
   "name": "python3"
  },
  "language_info": {
   "codemirror_mode": {
    "name": "ipython",
    "version": 3
   },
   "file_extension": ".py",
   "mimetype": "text/x-python",
   "name": "python",
   "nbconvert_exporter": "python",
   "pygments_lexer": "ipython3",
   "version": "3.8.3"
  }
 },
 "nbformat": 4,
 "nbformat_minor": 4
}
