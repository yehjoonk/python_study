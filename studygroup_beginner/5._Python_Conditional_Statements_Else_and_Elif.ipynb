{
 "cells": [
  {
   "cell_type": "markdown",
   "metadata": {},
   "source": [
    "# 5. Python Conditional Statements: Else & Elif"
   ]
  },
  {
   "cell_type": "markdown",
   "metadata": {},
   "source": [
    "**If**: makes a decision based on **whether the condition is true** or not.\n",
    "\n",
    "**Else**: if the **if condition** is **false**, **else** statement will run.\n",
    "\n",
    "**Elif**: in a situation where you have **several conditions**, you can place **as many elif conditions as necessary** between the if condition and the else condition.\n",
    "\n",
    "Source:\n",
    "https://www.datacamp.com/community/tutorials/elif-statements-python?utm_source=adwords_ppc&utm_campaignid=898687156&utm_adgroupid=48947256715&utm_device=c&utm_keyword=&utm_matchtype=b&utm_network=g&utm_adpostion=&utm_creative=229765585183&utm_targetid=dsa-429603003980&utm_loc_interest_ms=&utm_loc_physical_ms=1030674&gclid=CjwKCAjw9r-DBhBxEiwA9qYUpadW7LRtcnVhRJHCLLNCNAuBjdeyta5h_7JjhD2MydhFj3LQKoo4BhoCXU4QAvD_BwE"
   ]
  },
  {
   "cell_type": "markdown",
   "metadata": {},
   "source": [
    "## if condition review"
   ]
  },
  {
   "cell_type": "code",
   "execution_count": 1,
   "metadata": {
    "scrolled": true
   },
   "outputs": [
    {
     "name": "stdout",
     "output_type": "stream",
     "text": [
      "He's drop dead gorgeous!\n"
     ]
    }
   ],
   "source": [
    "handsome = True\n",
    "if handsome:\n",
    "    print(\"He's drop dead gorgeous!\")"
   ]
  },
  {
   "cell_type": "code",
   "execution_count": 2,
   "metadata": {},
   "outputs": [],
   "source": [
    "handsome = False\n",
    "if handsome:\n",
    "    print(\"He's dropdead gorgeous!\")"
   ]
  },
  {
   "cell_type": "code",
   "execution_count": 3,
   "metadata": {},
   "outputs": [
    {
     "name": "stdout",
     "output_type": "stream",
     "text": [
      "He's drop dead gorgeous!\n"
     ]
    }
   ],
   "source": [
    "handsome = True\n",
    "if handsome:\n",
    "    print(\"He's drop dead gorgeous!\")\n",
    "if not handsome:\n",
    "    print(\"handsome men are an endangered species\")"
   ]
  },
  {
   "cell_type": "code",
   "execution_count": 4,
   "metadata": {},
   "outputs": [
    {
     "name": "stdout",
     "output_type": "stream",
     "text": [
      "handsome men are an endangered species\n"
     ]
    }
   ],
   "source": [
    "handsome = False\n",
    "if handsome:\n",
    "    print(\"He's drop dead gorgeous!\")\n",
    "if not handsome:\n",
    "    print(\"handsome men are an endangered species\")"
   ]
  },
  {
   "cell_type": "markdown",
   "metadata": {},
   "source": [
    "## if-else condition"
   ]
  },
  {
   "cell_type": "code",
   "execution_count": 5,
   "metadata": {},
   "outputs": [
    {
     "name": "stdout",
     "output_type": "stream",
     "text": [
      "He's dropdead gorgeous!\n"
     ]
    }
   ],
   "source": [
    "handsome = True\n",
    "if handsome:\n",
    "    print(\"He's dropdead gorgeous!\")\n",
    "else:\n",
    "    print(\"handsome men are an endangered species\")"
   ]
  },
  {
   "cell_type": "code",
   "execution_count": 6,
   "metadata": {},
   "outputs": [
    {
     "name": "stdout",
     "output_type": "stream",
     "text": [
      "handsome men are an endangered species\n"
     ]
    }
   ],
   "source": [
    "handsome = False\n",
    "if handsome:\n",
    "    print(\"He's dropdead gorgeous!\")\n",
    "else:\n",
    "    print(\"handsome men are an endangered species\")"
   ]
  },
  {
   "cell_type": "code",
   "execution_count": 7,
   "metadata": {
    "scrolled": true
   },
   "outputs": [
    {
     "name": "stdout",
     "output_type": "stream",
     "text": [
      "Let's go outside!\n"
     ]
    }
   ],
   "source": [
    "weather = \"sunny\"\n",
    "\n",
    "if weather == \"sunny\":\n",
    "    print(\"Let's go outside!\")\n",
    "else:\n",
    "    print(\"Outside your blanket is dangerous!\")"
   ]
  },
  {
   "cell_type": "code",
   "execution_count": 8,
   "metadata": {},
   "outputs": [
    {
     "name": "stdout",
     "output_type": "stream",
     "text": [
      "Outside your blanket is dangerous!\n"
     ]
    }
   ],
   "source": [
    "weather = \"thundering\"\n",
    "\n",
    "if weather == \"sunny\":\n",
    "    print(\"Let's go outside!\")\n",
    "else:\n",
    "    print(\"Outside your blanket is dangerous!\")"
   ]
  },
  {
   "cell_type": "markdown",
   "metadata": {},
   "source": [
    "## if-elif-else condition"
   ]
  },
  {
   "cell_type": "code",
   "execution_count": 9,
   "metadata": {},
   "outputs": [
    {
     "name": "stdout",
     "output_type": "stream",
     "text": [
      "Request denied.\n"
     ]
    }
   ],
   "source": [
    "topping = \"pineapple\"\n",
    "\n",
    "if topping == \"pineapple\":\n",
    "    print(\"Request denied.\")\n",
    "elif topping == \"pepperoni\":\n",
    "    print(\"Request accepted.\")"
   ]
  },
  {
   "cell_type": "code",
   "execution_count": 10,
   "metadata": {},
   "outputs": [
    {
     "name": "stdout",
     "output_type": "stream",
     "text": [
      "Request accepted.\n"
     ]
    }
   ],
   "source": [
    "topping = \"pepperoni\"\n",
    "\n",
    "if topping == \"pineapple\":\n",
    "    print(\"Request denied.\")\n",
    "elif topping == \"pepperoni\":\n",
    "    print(\"Request accepted.\")"
   ]
  },
  {
   "cell_type": "code",
   "execution_count": 11,
   "metadata": {},
   "outputs": [
    {
     "name": "stdout",
     "output_type": "stream",
     "text": [
      "It's cold out.\n"
     ]
    }
   ],
   "source": [
    "temperature = 5\n",
    "\n",
    "if temperature < 0:\n",
    "    print(\"Brr...\")\n",
    "elif temperature == 0:\n",
    "    print(\"It's freezing!\")\n",
    "elif temperature < 10:\n",
    "    print(\"It's cold out.\")"
   ]
  },
  {
   "cell_type": "code",
   "execution_count": 12,
   "metadata": {},
   "outputs": [
    {
     "name": "stdout",
     "output_type": "stream",
     "text": [
      "Better luck next time!\n"
     ]
    }
   ],
   "source": [
    "score = 45\n",
    "high_score = 100\n",
    "\n",
    "if score == high_score:\n",
    "    print(\"You reached the high score!\")\n",
    "elif score > high_score:\n",
    "    print(\"You broke the record!\")\n",
    "else:\n",
    "    print(\"Better luck next time!\")"
   ]
  },
  {
   "cell_type": "code",
   "execution_count": 13,
   "metadata": {},
   "outputs": [
    {
     "name": "stdout",
     "output_type": "stream",
     "text": [
      "Welcome aboard! Fasten your seatbelts.\n"
     ]
    }
   ],
   "source": [
    "minimum = 140\n",
    "maximum = 200\n",
    "height = 197\n",
    "\n",
    "if height > maximum:\n",
    "    print(\"You are too tall for the ride.\")\n",
    "if height < minimum:\n",
    "    print(\"Grow up and come back.\")\n",
    "else:\n",
    "    print(\"Welcome aboard! Fasten your seatbelts.\")"
   ]
  },
  {
   "cell_type": "code",
   "execution_count": 14,
   "metadata": {},
   "outputs": [
    {
     "name": "stdout",
     "output_type": "stream",
     "text": [
      "Grow up and come back.\n"
     ]
    }
   ],
   "source": [
    "minimum = 140\n",
    "maximum = 200\n",
    "height = 133\n",
    "\n",
    "if height > maximum:\n",
    "    print(\"You are too tall for the ride.\")\n",
    "if height < minimum:\n",
    "    print(\"Grow up and come back.\")\n",
    "else:\n",
    "    print(\"Welcome aboard! Fasten your seatbelts.\")"
   ]
  },
  {
   "cell_type": "markdown",
   "metadata": {},
   "source": [
    "### Quiz: elif condition을 사용하여 language가 French일 경우 \"Merci\"가 프린트되도록 코딩해보세요."
   ]
  },
  {
   "cell_type": "code",
   "execution_count": 17,
   "metadata": {},
   "outputs": [
    {
     "name": "stdout",
     "output_type": "stream",
     "text": [
      "Merci\n"
     ]
    }
   ],
   "source": [
    "language = \"French\"\n",
    "message = \"\"\n",
    "\n",
    "if language == \"English\":\n",
    "  message = \"Thank you\"\n",
    "elif language == \"Spanish\":\n",
    "  message = \"Gracias\"\n",
    "elif language == \"French\":\n",
    "  message = \"Merci\"\n",
    "elif language == \"German\":\n",
    "  message = \"Danke\"\n",
    "     \n",
    "print(message)"
   ]
  },
  {
   "cell_type": "markdown",
   "metadata": {},
   "source": [
    "### Quiz: 이 코드의 문제점은 무엇일까요?"
   ]
  },
  {
   "cell_type": "code",
   "execution_count": 16,
   "metadata": {},
   "outputs": [
    {
     "ename": "SyntaxError",
     "evalue": "invalid syntax (<ipython-input-16-47511bf7bcb7>, line 3)",
     "output_type": "error",
     "traceback": [
      "\u001b[0;36m  File \u001b[0;32m\"<ipython-input-16-47511bf7bcb7>\"\u001b[0;36m, line \u001b[0;32m3\u001b[0m\n\u001b[0;31m    elif topping == \"pineapple\":\u001b[0m\n\u001b[0m    ^\u001b[0m\n\u001b[0;31mSyntaxError\u001b[0m\u001b[0;31m:\u001b[0m invalid syntax\n"
     ]
    }
   ],
   "source": [
    "topping = \"pineapple\"\n",
    "\n",
    "elif topping == \"pineapple\":\n",
    "    print(\"Request denied.\")\n",
    "if topping == \"pepperoni\":\n",
    "    print(\"Request accepted.\")"
   ]
  },
  {
   "cell_type": "markdown",
   "metadata": {},
   "source": [
    "### 이 코드를 올바르게 만드려면?"
   ]
  },
  {
   "cell_type": "code",
   "execution_count": 18,
   "metadata": {},
   "outputs": [
    {
     "name": "stdout",
     "output_type": "stream",
     "text": [
      "Request denied.\n"
     ]
    }
   ],
   "source": [
    "topping = \"pineapple\"\n",
    "\n",
    "if topping == \"pineapple\":\n",
    "    print(\"Request denied.\")\n",
    "elif topping == \"pepperoni\":\n",
    "    print(\"Request accepted.\")"
   ]
  },
  {
   "cell_type": "markdown",
   "metadata": {},
   "source": [
    "### Quiz: 이 코드의 문제점은 무엇일까요?"
   ]
  },
  {
   "cell_type": "code",
   "execution_count": 19,
   "metadata": {},
   "outputs": [
    {
     "name": "stdout",
     "output_type": "stream",
     "text": [
      "Request denied.\n"
     ]
    }
   ],
   "source": [
    "topping = \"pineapple\"\n",
    "\n",
    "if topping == \"pineapple\":\n",
    "    print(\"Request denied.\")\n",
    "elif topping == \"pepperoni\":\n",
    "    print(\"Request accepted.\")"
   ]
  },
  {
   "cell_type": "markdown",
   "metadata": {},
   "source": [
    "### Quiz: 이 코드의 문제점은 무엇일까요?"
   ]
  },
  {
   "cell_type": "code",
   "execution_count": null,
   "metadata": {},
   "outputs": [],
   "source": [
    "time = 12\n",
    "if time == 7:\n",
    "    print(\"Rise and Shine!\")\n",
    "elif time > 7 and time < 10:\n",
    "    print(\"You're late at work!\")"
   ]
  },
  {
   "cell_type": "markdown",
   "metadata": {},
   "source": [
    "### 이 코드를 올바르게 만드려면?"
   ]
  },
  {
   "cell_type": "markdown",
   "metadata": {},
   "source": [
    "시간이 9시 이상일 경우 \"You're fired!\"가 프린트되도록 코딩해보세요. - 두 가지 방법"
   ]
  },
  {
   "cell_type": "code",
   "execution_count": 21,
   "metadata": {},
   "outputs": [
    {
     "name": "stdout",
     "output_type": "stream",
     "text": [
      "You're fired!\n"
     ]
    }
   ],
   "source": [
    "time = 12\n",
    "if time == 7:\n",
    "    print(\"Rise and Shine!\")\n",
    "elif time > 7 and time < 9:\n",
    "    print(\"You're late at work!\")\n",
    "elif time > 9 :\n",
    "    print(\"You're fired!\")"
   ]
  },
  {
   "cell_type": "code",
   "execution_count": 23,
   "metadata": {},
   "outputs": [
    {
     "name": "stdout",
     "output_type": "stream",
     "text": [
      "You're fired!\n"
     ]
    }
   ],
   "source": [
    "time = 12\n",
    "if time == 7:\n",
    "    print(\"Rise and Shine!\")\n",
    "elif time > 7 and time < 9:\n",
    "    print(\"You're late at work!\")\n",
    "else:\n",
    "    print(\"You're fired!\")"
   ]
  },
  {
   "cell_type": "markdown",
   "metadata": {},
   "source": [
    "## Discussion"
   ]
  },
  {
   "cell_type": "markdown",
   "metadata": {},
   "source": [
    "어떤 경우에 if-elif-else condition을 사용할 수 있을까요?"
   ]
  },
  {
   "cell_type": "code",
   "execution_count": 25,
   "metadata": {},
   "outputs": [
    {
     "name": "stdout",
     "output_type": "stream",
     "text": [
      "valid ID\n",
      "invalid ID\n"
     ]
    }
   ],
   "source": [
    "id_list = ['sihyun', 'gina']\n",
    "input_id = 'sihyun'\n",
    "\n",
    "for i in id_list:\n",
    "    if (i == input_id):\n",
    "        print('valid ID')\n",
    "    else: \n",
    "        print('invalid ID')"
   ]
  },
  {
   "cell_type": "code",
   "execution_count": null,
   "metadata": {},
   "outputs": [],
   "source": []
  }
 ],
 "metadata": {
  "kernelspec": {
   "display_name": "Python 3",
   "language": "python",
   "name": "python3"
  },
  "language_info": {
   "codemirror_mode": {
    "name": "ipython",
    "version": 3
   },
   "file_extension": ".py",
   "mimetype": "text/x-python",
   "name": "python",
   "nbconvert_exporter": "python",
   "pygments_lexer": "ipython3",
   "version": "3.8.3"
  }
 },
 "nbformat": 4,
 "nbformat_minor": 4
}
