{
 "cells": [
  {
   "cell_type": "markdown",
   "metadata": {},
   "source": [
    "# For Loop"
   ]
  },
  {
   "cell_type": "markdown",
   "metadata": {},
   "source": [
    "### Use:\n",
    "\n",
    "**While loop** is used in situations where we do not know how many times loop needs to be excuted beforehand.\n",
    "\n",
    "**For loop** is used where we already know about the number of times loop needs to be excuted. Typically for a index used in iteration."
   ]
  },
  {
   "cell_type": "code",
   "execution_count": 1,
   "metadata": {},
   "outputs": [
    {
     "name": "stdout",
     "output_type": "stream",
     "text": [
      "**********----------------\n",
      "**********----------------\n",
      "**********----------------\n",
      "**********----------------\n",
      "**********----------------\n",
      "--------------------------\n",
      "--------------------------\n",
      "--------------------------\n",
      "--------------------------\n"
     ]
    }
   ],
   "source": [
    "# while loop\n",
    "\n",
    "first_counter = 0\n",
    "\n",
    "while first_counter < 5:\n",
    "    print(\"**********----------------\")\n",
    "    first_counter += 1\n",
    "    \n",
    "second_counter = 0\n",
    "\n",
    "while second_counter < 4:\n",
    "    print(\"--------------------------\")\n",
    "    second_counter += 1"
   ]
  },
  {
   "cell_type": "markdown",
   "metadata": {},
   "source": [
    "**For loops** require much less code and make it esier for other programmers to understand, because we can specify how many times we want the loop to run."
   ]
  },
  {
   "cell_type": "code",
   "execution_count": null,
   "metadata": {},
   "outputs": [],
   "source": [
    "# for loop\n",
    "\n",
    "## specify how many times you want the loop to run with the range() statement.\n",
    "## e.g.range(5) means it will loop over the code block 5 times, from 0 until 4.\n",
    "\n",
    "for i in range(5):\n",
    "    print(i)\n",
    "    "
   ]
  },
  {
   "cell_type": "code",
   "execution_count": null,
   "metadata": {},
   "outputs": [],
   "source": [
    "## the variable before \"in\" is the counter variable. It counts what repetition of the loop we're on.\n",
    "\n",
    "for i in range(5):\n",
    "    print(i)\n",
    "    print(\"I am craving chocolate!\")"
   ]
  },
  {
   "cell_type": "code",
   "execution_count": null,
   "metadata": {
    "scrolled": true
   },
   "outputs": [],
   "source": [
    "for i in range (4):\n",
    "    print(\"**********----------------\")\n",
    "\n",
    "for i in range (4):\n",
    "    print(\"--------------------------\")"
   ]
  },
  {
   "cell_type": "code",
   "execution_count": null,
   "metadata": {},
   "outputs": [],
   "source": [
    "for i in range(2):\n",
    "    print(\"We will\")\n",
    "\n",
    "print(\"Rock you!\")"
   ]
  },
  {
   "cell_type": "code",
   "execution_count": null,
   "metadata": {},
   "outputs": [],
   "source": [
    "# Coupon Generator\n",
    "\n",
    "base = \"www.wnetwork.com\"\n",
    "coupon = \"signup/coupon\"\n",
    "discount = 50\n",
    "amount = 4\n",
    "\n",
    "for num in range(amount):\n",
    "    print(f\"{base}/{coupon}/{discount}/{num}\")\n",
    "\n",
    "print(f\"{amount} coupons created\")"
   ]
  },
  {
   "cell_type": "code",
   "execution_count": null,
   "metadata": {},
   "outputs": [],
   "source": [
    "# Countdown Timer\n",
    "\n",
    "import time\n",
    "\n",
    "for i in range(10, 0, -1): # start at 10, take off 1 until 0\n",
    "    print(i)\n",
    "    time.sleep(0.5)  # seconds\n",
    "    \n",
    "print(\"Blast off!\")"
   ]
  },
  {
   "cell_type": "code",
   "execution_count": null,
   "metadata": {},
   "outputs": [],
   "source": [
    "# Times Tables\n",
    "\n",
    "multiplier = int(input(\"Which times tables would you like to learn? \")) \n",
    "# \"int\" converts a string into an integer\n",
    "\n",
    "for i in range(1, 13):\n",
    "    print(i, \"x\", multiplier, \"=\", (i * multiplier))"
   ]
  },
  {
   "cell_type": "code",
   "execution_count": null,
   "metadata": {},
   "outputs": [],
   "source": [
    "# Passwords\n",
    "\n",
    "password = \"abc123\"\n",
    "\n",
    "for i in range(3, 0, -1):  # 3 attemps, each time -1, until 0\n",
    "    attempt = input(\"Enter password: \")\n",
    "    if attempt == password:\n",
    "        break\n",
    "    else:\n",
    "        print(\"Incorrect - try again!\")\n",
    "\n",
    "if i == 1:\n",
    "    print(\"You have been denied access.\")\n",
    "else:\n",
    "    print(\"Password has been accepted.\")"
   ]
  },
  {
   "cell_type": "markdown",
   "metadata": {},
   "source": [
    "### Quiz 1: How can we make the same result as shown below using for loop?"
   ]
  },
  {
   "cell_type": "code",
   "execution_count": null,
   "metadata": {},
   "outputs": [],
   "source": [
    "coke=10\n",
    "\n",
    "while True:\n",
    "    coke=coke-1\n",
    "    print(\"{} coke left.\". format(coke))\n",
    "    time.sleep(0.1)\n",
    "    if coke==0:\n",
    "        print('sold out')\n",
    "        break"
   ]
  },
  {
   "cell_type": "code",
   "execution_count": null,
   "metadata": {},
   "outputs": [],
   "source": []
  },
  {
   "cell_type": "markdown",
   "metadata": {},
   "source": [
    "### Quiz 2: How can we make the same result as shown below using for loop?"
   ]
  },
  {
   "cell_type": "code",
   "execution_count": null,
   "metadata": {},
   "outputs": [],
   "source": [
    "coke = 5\n",
    "while True:\n",
    "    money = int(input('Give me money:'))\n",
    "    if money==500:\n",
    "        print(\"Here is your coke.\")\n",
    "        coke = coke -1\n",
    "    elif money>500:\n",
    "        print(\"Here is your change. Here is {}.\".format(money-500))\n",
    "        coke = coke -1\n",
    "    else:\n",
    "        print(\"Put in more money.\")\n",
    "    if coke == 0:\n",
    "        print(\"sold out\")\n",
    "        break"
   ]
  },
  {
   "cell_type": "code",
   "execution_count": null,
   "metadata": {},
   "outputs": [],
   "source": []
  },
  {
   "cell_type": "markdown",
   "metadata": {},
   "source": [
    "### Quiz 3: Code an app that checks the strength of a password using for loop."
   ]
  },
  {
   "cell_type": "code",
   "execution_count": null,
   "metadata": {},
   "outputs": [],
   "source": []
  },
  {
   "cell_type": "markdown",
   "metadata": {},
   "source": [
    "### Discussion: What can for loops be used for?"
   ]
  },
  {
   "cell_type": "code",
   "execution_count": null,
   "metadata": {},
   "outputs": [],
   "source": []
  }
 ],
 "metadata": {
  "kernelspec": {
   "display_name": "Python 3",
   "language": "python",
   "name": "python3"
  },
  "language_info": {
   "codemirror_mode": {
    "name": "ipython",
    "version": 3
   },
   "file_extension": ".py",
   "mimetype": "text/x-python",
   "name": "python",
   "nbconvert_exporter": "python",
   "pygments_lexer": "ipython3",
   "version": "3.8.3"
  }
 },
 "nbformat": 4,
 "nbformat_minor": 4
}
