{
 "cells": [
  {
   "cell_type": "markdown",
   "metadata": {},
   "source": [
    "## 오늘은 conditional statements If, Else, Elif를 복습하고 while loop의 기본 개념을 배울게요. \n",
    "기억을 되살리면서 아래의 문제를 같이 풀어봅시다. "
   ]
  },
  {
   "cell_type": "markdown",
   "metadata": {},
   "source": [
    "### 1. If \n",
    "\n",
    "아래의 코드는 무엇이 잘못되었을까요? \n",
    "코드를 수정하여 'I got vaccinated'를 출력해주세요. "
   ]
  },
  {
   "cell_type": "code",
   "execution_count": null,
   "metadata": {},
   "outputs": [],
   "source": [
    "x = 2021 \n",
    "\n",
    "if x = 2021 \n",
    "print(\"I got vaccinated\")"
   ]
  },
  {
   "cell_type": "markdown",
   "metadata": {},
   "source": [
    "아래의 코드를 완성하여 'I got vaccinated already'를 출력해주세요. "
   ]
  },
  {
   "cell_type": "code",
   "execution_count": null,
   "metadata": {},
   "outputs": [],
   "source": [
    "x = 2022 \n",
    "\n",
    "if "
   ]
  },
  {
   "cell_type": "markdown",
   "metadata": {},
   "source": [
    "### 2. If, Else, Elif\n",
    "아래의 코드를 수정해서 '홀수'를 출력해주세요."
   ]
  },
  {
   "cell_type": "code",
   "execution_count": null,
   "metadata": {},
   "outputs": [],
   "source": [
    "x = 4 \n",
    "\n",
    "if x%2 == 0: \n",
    "    print(\"짝수\")\n",
    "else: \n",
    "    print(\"홀수\")"
   ]
  },
  {
   "cell_type": "markdown",
   "metadata": {},
   "source": [
    "아래의 코드를 수정해서 'Too young to be vaccinated'와 'I am not sure' 두 문장을 모두 출력해주세요. "
   ]
  },
  {
   "cell_type": "code",
   "execution_count": null,
   "metadata": {},
   "outputs": [],
   "source": [
    "age = 5\n",
    "\n",
    "if age == 5:\n",
    "    print(\"Too young to be vaccinated\")\n",
    "elif age <= 15: \n",
    "    print(\"I am not sure\")\n",
    "elif age >= 20: \n",
    "    print(\"It would be fine\")"
   ]
  },
  {
   "cell_type": "markdown",
   "metadata": {},
   "source": [
    "아래의 코드를 수정하여 'I am not sure'을 출력해주세요. "
   ]
  },
  {
   "cell_type": "code",
   "execution_count": null,
   "metadata": {},
   "outputs": [],
   "source": [
    "vaccine = \"pfizer\"\n",
    "\n",
    "if vaccine == \"pfizer\": \n",
    "    print(\"You are safe\")\n",
    "elif vaccine == \"moderna\":\n",
    "    print(\"It also helps\")\n",
    "else: \n",
    "    print(\"I am not sure\")"
   ]
  },
  {
   "cell_type": "markdown",
   "metadata": {},
   "source": [
    "### 3. while loop의 기본 개념  \n",
    "반복문 while은 조건문 if와 기본 문법이 유사합니다. 하지만 다른 점은, if문은 주어진 조건이 true이면 코드의 실행이 곧바로 종료되는 데 반해, while문은 주어진 조건이 true이면 코드가 반복 실행됩니다. 조건이 false가 될 때까지요. 그래서 while loop 라고 불려요. 이렇게 자동화 작업을 가능하게 하는 반복문은 파이썬을 사용할 때 얻을 수 있는 중요한 장점이라고 합니다. 그 부분을 같이 살펴봐요. "
   ]
  },
  {
   "cell_type": "markdown",
   "metadata": {},
   "source": [
    "#### 3-1. infinite loop of while"
   ]
  },
  {
   "cell_type": "code",
   "execution_count": null,
   "metadata": {},
   "outputs": [],
   "source": [
    "age = \n",
    "\n",
    "while age >= 75:\n",
    "    print(\"You are eligible\")"
   ]
  },
  {
   "cell_type": "markdown",
   "metadata": {},
   "source": [
    "#### 3-2. while loop에 조건 걸기 \n",
    "무한 출력을 막기 위해 print 아래에 조건을 넣어줍니다. "
   ]
  },
  {
   "cell_type": "code",
   "execution_count": null,
   "metadata": {},
   "outputs": [],
   "source": [
    "a = 0\n",
    "\n",
    "while a < 5:\n",
    "    print(a)\n",
    "    a=a+1"
   ]
  },
  {
   "cell_type": "markdown",
   "metadata": {},
   "source": [
    "#### 3-3. while loop 연습하기\n",
    "a는 loop가 반복될 때마다 5씩 증가합니다. 그리고 그 값이 25 이하일 때까지 반복이 이루어집니다.  "
   ]
  },
  {
   "cell_type": "code",
   "execution_count": null,
   "metadata": {},
   "outputs": [],
   "source": [
    "a = 0\n",
    "\n",
    "while a "
   ]
  }
 ],
 "metadata": {
  "kernelspec": {
   "display_name": "Python 3",
   "language": "python",
   "name": "python3"
  },
  "language_info": {
   "codemirror_mode": {
    "name": "ipython",
    "version": 3
   },
   "file_extension": ".py",
   "mimetype": "text/x-python",
   "name": "python",
   "nbconvert_exporter": "python",
   "pygments_lexer": "ipython3",
   "version": "3.8.3"
  }
 },
 "nbformat": 4,
 "nbformat_minor": 4
}
