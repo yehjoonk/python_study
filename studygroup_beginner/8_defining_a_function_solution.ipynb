{
 "cells": [
  {
   "cell_type": "markdown",
   "metadata": {},
   "source": [
    "# Defining a function  |  함수 만들기\n",
    "\n",
    "함수 = 프로그램을 짤 때 효율을 높이기 위하여 특정 기능을 미리 만들어두고 이름을 붙여 사용하는것. \n",
    "\n",
    "이미 우리는 파이썬에 내재된 함수를 사용하고 있음. - eg. print(), input(). 이를 'built in function'이라고 함.\n",
    "- https://docs.python.org/3/library/functions.html\n",
    "\n",
    "기본적으로 함수를 만들때는 세 가지를 생각하면 됨:\n",
    "- define the name of a function\n",
    "- input (=parameter), 생략 가능\n",
    "- output (=printed / returned value)\n",
    "\n"
   ]
  },
  {
   "cell_type": "markdown",
   "metadata": {},
   "source": [
    "### Using a built-in function"
   ]
  },
  {
   "cell_type": "markdown",
   "metadata": {},
   "source": [
    "len() 써보기"
   ]
  },
  {
   "cell_type": "code",
   "execution_count": 1,
   "metadata": {},
   "outputs": [
    {
     "data": {
      "text/plain": [
       "5"
      ]
     },
     "execution_count": 1,
     "metadata": {},
     "output_type": "execute_result"
    }
   ],
   "source": [
    "item_list =[3, 2, 5.5, 4, 5]\n",
    "len(item_list)"
   ]
  },
  {
   "cell_type": "markdown",
   "metadata": {},
   "source": [
    "max()써보기"
   ]
  },
  {
   "cell_type": "code",
   "execution_count": 2,
   "metadata": {},
   "outputs": [
    {
     "data": {
      "text/plain": [
       "5.5"
      ]
     },
     "execution_count": 2,
     "metadata": {},
     "output_type": "execute_result"
    }
   ],
   "source": [
    "max(item_list)"
   ]
  },
  {
   "cell_type": "markdown",
   "metadata": {},
   "source": [
    "min()써보기"
   ]
  },
  {
   "cell_type": "code",
   "execution_count": 3,
   "metadata": {},
   "outputs": [
    {
     "data": {
      "text/plain": [
       "2"
      ]
     },
     "execution_count": 3,
     "metadata": {},
     "output_type": "execute_result"
    }
   ],
   "source": [
    "min(item_list)"
   ]
  },
  {
   "cell_type": "markdown",
   "metadata": {},
   "source": [
    "sum()써보기"
   ]
  },
  {
   "cell_type": "code",
   "execution_count": 4,
   "metadata": {},
   "outputs": [
    {
     "data": {
      "text/plain": [
       "19.5"
      ]
     },
     "execution_count": 4,
     "metadata": {},
     "output_type": "execute_result"
    }
   ],
   "source": [
    "sum(item_list)"
   ]
  },
  {
   "cell_type": "markdown",
   "metadata": {},
   "source": [
    "모든 빌트인 펑션들은 변수에 넣어서 재사용이 가능합니다. \n",
    "#### 퀴즈: 아래에 most_expensive, cheapest, total 변수들을 만들어주세요."
   ]
  },
  {
   "cell_type": "code",
   "execution_count": 8,
   "metadata": {},
   "outputs": [
    {
     "name": "stdout",
     "output_type": "stream",
     "text": [
      "39.0\n"
     ]
    }
   ],
   "source": [
    "total = sum(item_list)"
   ]
  },
  {
   "cell_type": "code",
   "execution_count": 9,
   "metadata": {},
   "outputs": [],
   "source": [
    "most_expensive = max(item_list)"
   ]
  },
  {
   "cell_type": "code",
   "execution_count": 10,
   "metadata": {},
   "outputs": [],
   "source": [
    "cheapest = min(item_list)"
   ]
  },
  {
   "cell_type": "code",
   "execution_count": 11,
   "metadata": {},
   "outputs": [
    {
     "name": "stdout",
     "output_type": "stream",
     "text": [
      "5.5\n",
      "2\n"
     ]
    }
   ],
   "source": [
    "print(most_expensive)\n",
    "print(cheapest)"
   ]
  },
  {
   "cell_type": "markdown",
   "metadata": {},
   "source": [
    "### Defining a simple function "
   ]
  },
  {
   "cell_type": "code",
   "execution_count": 12,
   "metadata": {},
   "outputs": [
    {
     "name": "stdout",
     "output_type": "stream",
     "text": [
      "hi\n"
     ]
    }
   ],
   "source": [
    "#'hi'를 프린트하는 간단한 'say_hi'함수 정의. \n",
    "\n",
    "def say_hi():\n",
    "    print(\"hi\")\n",
    "\n",
    "\n",
    "#say_hi함수 실행.\n",
    "say_hi()"
   ]
  },
  {
   "cell_type": "code",
   "execution_count": 13,
   "metadata": {},
   "outputs": [
    {
     "name": "stdout",
     "output_type": "stream",
     "text": [
      "the weather is lovely today! enjoy your trip!\n"
     ]
    }
   ],
   "source": [
    "#'The weather is lovely today! Enjoy your Trip!'라는 메시지를 프린트하는 weather_check()이라는 함수를 만들어주세요. \n",
    "\n",
    "def weather_check():\n",
    "    print('the weather is lovely today! enjoy your trip!')\n",
    "    \n",
    "\n",
    "weather_check()"
   ]
  },
  {
   "cell_type": "markdown",
   "metadata": {},
   "source": [
    "### Defining a function with a parameter"
   ]
  },
  {
   "cell_type": "code",
   "execution_count": 14,
   "metadata": {},
   "outputs": [],
   "source": [
    "def message_current_city(city):\n",
    "    print(\"You are currently located in \" + city)"
   ]
  },
  {
   "cell_type": "code",
   "execution_count": 15,
   "metadata": {},
   "outputs": [
    {
     "name": "stdout",
     "output_type": "stream",
     "text": [
      "You are currently located in London\n"
     ]
    }
   ],
   "source": [
    "message_current_city(\"London\")"
   ]
  },
  {
   "cell_type": "markdown",
   "metadata": {},
   "source": [
    "#### 퀴즈: 아래에 \"The weather is '*your_parameter*' today!\" 라는 메시지를 프린트하는 message_current_weather() 함수를 만든 후, 실행시켜 주세요.\n",
    "\n"
   ]
  },
  {
   "cell_type": "code",
   "execution_count": 16,
   "metadata": {},
   "outputs": [
    {
     "name": "stdout",
     "output_type": "stream",
     "text": [
      "The weather is sunny today!\n"
     ]
    }
   ],
   "source": [
    "def message_current_weather(weather):\n",
    "    print(\"The weather is \"+ weather + \" today!\")\n",
    "\n",
    "\n",
    "#함수실행\n",
    "message_current_weather(\"sunny\")"
   ]
  },
  {
   "cell_type": "markdown",
   "metadata": {},
   "source": [
    "### Defining a function with multiple parameters"
   ]
  },
  {
   "cell_type": "code",
   "execution_count": 17,
   "metadata": {},
   "outputs": [],
   "source": [
    "def trip_welcome(origin, destination):\n",
    "  print(\"Welcome to Traveltips.com\")\n",
    "  print(\"Looks like you are traveling from \" + origin)\n",
    "  print(\"And you are heading to \" + destination)"
   ]
  },
  {
   "cell_type": "code",
   "execution_count": 18,
   "metadata": {},
   "outputs": [
    {
     "name": "stdout",
     "output_type": "stream",
     "text": [
      "Welcome to Traveltips.com\n",
      "Looks like you are traveling from Paris\n",
      "And you are heading to Seoul\n"
     ]
    }
   ],
   "source": [
    "trip_welcome(\"Paris\", \"Seoul\")"
   ]
  },
  {
   "cell_type": "code",
   "execution_count": 19,
   "metadata": {},
   "outputs": [
    {
     "data": {
      "text/plain": [
       "220"
      ]
     },
     "execution_count": 19,
     "metadata": {},
     "output_type": "execute_result"
    }
   ],
   "source": [
    "def total_trip_cost(plane_ticket_price, car_rental_price, hotel_price):\n",
    "    return plane_ticket_price + car_rental_price + hotel_price\n",
    "\n",
    "total_trip_cost(100, 70, 50)"
   ]
  },
  {
   "cell_type": "markdown",
   "metadata": {},
   "source": [
    " 불러 온 함수 결과값 변수에 저장하기"
   ]
  },
  {
   "cell_type": "code",
   "execution_count": 20,
   "metadata": {},
   "outputs": [
    {
     "name": "stdout",
     "output_type": "stream",
     "text": [
      "220\n"
     ]
    }
   ],
   "source": [
    "trip_a_cost = total_trip_cost(100, 70, 50)\n",
    "print(trip_a_cost)"
   ]
  },
  {
   "cell_type": "markdown",
   "metadata": {},
   "source": [
    "#### 퀴즈:  plane_ticket_price,  car_rental_rate,  hotel_rate,  trip_days 네 가지 파라미터를 이용해 전체 여행 비용을 계산해주는 calculate_expenses() 라는 함수를 만들어주세요. (hotel_rate 과 car_rental_rate은 하루 비용을 나타냅니다!)\n"
   ]
  },
  {
   "cell_type": "code",
   "execution_count": 23,
   "metadata": {},
   "outputs": [],
   "source": [
    "def calculate_expenses(plane_ticket_price, car_rental_rate, hotel_rate, trip_days):\n",
    "    total_expense = plane_ticket_price + (car_rental_rate + hotel_rate) * trip_days\n",
    "    return total_expense"
   ]
  },
  {
   "cell_type": "code",
   "execution_count": 24,
   "metadata": {},
   "outputs": [
    {
     "name": "stdout",
     "output_type": "stream",
     "text": [
      "220\n"
     ]
    }
   ],
   "source": [
    "trip_a_total_expense = calculate_expenses(100, 35, 25, 2)\n",
    "print(trip_a_total_expense)"
   ]
  },
  {
   "cell_type": "markdown",
   "metadata": {},
   "source": [
    "####  한개의 함수로 여러개의 결과값 만들기"
   ]
  },
  {
   "cell_type": "code",
   "execution_count": 25,
   "metadata": {},
   "outputs": [],
   "source": [
    "def calc_expense_details(car_rental_rate, hotel_rate, trip_days):\n",
    "    total_rental_cost = car_rental_rate * trip_days\n",
    "    total_hotel_cost = hotel_rate * trip_days\n",
    "    return total_rental_cost, total_hotel_cost"
   ]
  },
  {
   "cell_type": "code",
   "execution_count": 26,
   "metadata": {},
   "outputs": [
    {
     "data": {
      "text/plain": [
       "(70, 50)"
      ]
     },
     "execution_count": 26,
     "metadata": {},
     "output_type": "execute_result"
    }
   ],
   "source": [
    "calc_expense_details(35, 25, 2)"
   ]
  },
  {
   "cell_type": "markdown",
   "metadata": {},
   "source": [
    "####  함수의 결과값이 여러개인 경우, 결과값들을 여러개의 변수에 쪼개 넣어줄 수도 있음. "
   ]
  },
  {
   "cell_type": "code",
   "execution_count": 27,
   "metadata": {},
   "outputs": [
    {
     "name": "stdout",
     "output_type": "stream",
     "text": [
      "70\n",
      "50\n"
     ]
    }
   ],
   "source": [
    "trip_a_rental, trip_a_hotel = calc_expense_details(35, 25, 2)\n",
    "print(trip_a_rental)\n",
    "print(trip_a_hotel)"
   ]
  },
  {
   "cell_type": "markdown",
   "metadata": {},
   "source": [
    "#### parameter argument를 써서, 순서를 바꾸어서 불러줄 수도 있음. "
   ]
  },
  {
   "cell_type": "code",
   "execution_count": 28,
   "metadata": {},
   "outputs": [
    {
     "data": {
      "text/plain": [
       "(70, 50)"
      ]
     },
     "execution_count": 28,
     "metadata": {},
     "output_type": "execute_result"
    }
   ],
   "source": [
    "calc_expense_details(35, 25, 2)"
   ]
  },
  {
   "cell_type": "code",
   "execution_count": 29,
   "metadata": {},
   "outputs": [
    {
     "data": {
      "text/plain": [
       "(70, 50)"
      ]
     },
     "execution_count": 29,
     "metadata": {},
     "output_type": "execute_result"
    }
   ],
   "source": [
    "calc_expense_details(hotel_rate = 25, trip_days = 2, car_rental_rate = 35)"
   ]
  },
  {
   "cell_type": "markdown",
   "metadata": {},
   "source": [
    "#### 퀴즈:  택시값을 계산해주는 calc_taxi_fare()라는 함수를 만들어주세요. \n",
    "#### 파라미터는 rate, discount, km 세가지이며, rate * km - discount 로  택시값을 계산해 주세요."
   ]
  },
  {
   "cell_type": "code",
   "execution_count": 30,
   "metadata": {},
   "outputs": [],
   "source": [
    "def calc_taxi_fare(rate, discount, km):\n",
    "    return rate * km - discount"
   ]
  },
  {
   "cell_type": "code",
   "execution_count": 31,
   "metadata": {},
   "outputs": [
    {
     "data": {
      "text/plain": [
       "8"
      ]
     },
     "execution_count": 31,
     "metadata": {},
     "output_type": "execute_result"
    }
   ],
   "source": [
    "calc_taxi_fare(10, 12, 2) "
   ]
  },
  {
   "cell_type": "markdown",
   "metadata": {},
   "source": [
    "#### 이번엔 위의 함수를 조금 고쳐서 할인된 가격과 정상 가격을 각각 다른 변수에 저장할 수 있게 만들어 준 후, 출력해주세요."
   ]
  },
  {
   "cell_type": "code",
   "execution_count": 36,
   "metadata": {},
   "outputs": [],
   "source": [
    "def calc_taxi_fare(rate, discount, km):\n",
    "    normal_fare = rate * km\n",
    "    discounted_fare = rate * km - discount\n",
    "    return discounted_fare, normal_fare"
   ]
  },
  {
   "cell_type": "code",
   "execution_count": 37,
   "metadata": {},
   "outputs": [
    {
     "name": "stdout",
     "output_type": "stream",
     "text": [
      "할인된 가격 8\n",
      "정상가 20\n"
     ]
    }
   ],
   "source": [
    "discounted_price, normal_price = calc_taxi_fare(10,12,2)\n",
    "\n",
    "print(\"할인된 가격 \" +  str(discounted_price))\n",
    "print(\"정상가 \" +  str(normal_price))"
   ]
  },
  {
   "cell_type": "markdown",
   "metadata": {},
   "source": [
    "#### 맨 처음 퀴즈로 돌아가, list 라는 리스트 파라미터를 받아, most_expensive, cheapest, total 을 리턴해주는 find_items() 펑션을 짜 준 후, 아까 만들어 두었던 item_list 리스트를 펑션에 넣어서 실행시켜주세요.  참고로 파이썬 built-in 펑션을 우리가 만드는 펑션안에 사용해도 됩니다. "
   ]
  },
  {
   "cell_type": "code",
   "execution_count": 40,
   "metadata": {},
   "outputs": [
    {
     "data": {
      "text/plain": [
       "(5.5, 2, 19.5)"
      ]
     },
     "execution_count": 40,
     "metadata": {},
     "output_type": "execute_result"
    }
   ],
   "source": [
    "def find_items(list):\n",
    "    most_expensive = max(list)\n",
    "    cheapest = min(list)\n",
    "    total = sum(list)\n",
    "    return most_expensive, cheapest, total\n",
    "\n",
    "find_items(item_list)"
   ]
  },
  {
   "cell_type": "code",
   "execution_count": 42,
   "metadata": {},
   "outputs": [
    {
     "data": {
      "text/plain": [
       "(8, 1, 36)"
      ]
     },
     "execution_count": 42,
     "metadata": {},
     "output_type": "execute_result"
    }
   ],
   "source": [
    "list_a = [1, 2, 3, 4, 5, 6, 7, 8]\n",
    "\n",
    "find_items(list_a)"
   ]
  },
  {
   "cell_type": "markdown",
   "metadata": {},
   "source": [
    "#### 위 펑션의 결과값을 세개의 각각 다른 변수에 저장해주세요."
   ]
  },
  {
   "cell_type": "code",
   "execution_count": 44,
   "metadata": {},
   "outputs": [
    {
     "name": "stdout",
     "output_type": "stream",
     "text": [
      "5.5\n"
     ]
    }
   ],
   "source": [
    "most_expensive_item, cheapest_item, item_total = find_items(item_list)\n",
    "\n",
    "print(most_expensive_item)"
   ]
  }
 ],
 "metadata": {
  "kernelspec": {
   "display_name": "Python 3",
   "language": "python",
   "name": "python3"
  },
  "language_info": {
   "codemirror_mode": {
    "name": "ipython",
    "version": 3
   },
   "file_extension": ".py",
   "mimetype": "text/x-python",
   "name": "python",
   "nbconvert_exporter": "python",
   "pygments_lexer": "ipython3",
   "version": "3.8.3"
  }
 },
 "nbformat": 4,
 "nbformat_minor": 4
}
