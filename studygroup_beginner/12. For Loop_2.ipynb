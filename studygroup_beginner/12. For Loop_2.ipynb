{
 "cells": [
  {
   "cell_type": "markdown",
   "metadata": {},
   "source": [
    "# For Loop #2"
   ]
  },
  {
   "cell_type": "markdown",
   "metadata": {},
   "source": [
    "**1. list와 for loop**  "
   ]
  },
  {
   "cell_type": "code",
   "execution_count": 1,
   "metadata": {},
   "outputs": [
    {
     "name": "stdout",
     "output_type": "stream",
     "text": [
      "item:chocholate\n",
      "item:sugar\n",
      "item:eggs\n",
      "item:milk\n",
      "item:coffee\n",
      "['chocholate', 'sugar', 'eggs', 'milk', 'coffee']\n"
     ]
    }
   ],
   "source": [
    "# Making a shopping list \n",
    "\n",
    "shopping=[]\n",
    "\n",
    "for item in range(5):\n",
    "    shopping.append(input('item:'))\n",
    "    \n",
    "print(shopping)"
   ]
  },
  {
   "cell_type": "code",
   "execution_count": 4,
   "metadata": {},
   "outputs": [
    {
     "name": "stdout",
     "output_type": "stream",
     "text": [
      "bread\n",
      "cheese\n",
      "apple\n",
      "tomato\n",
      "biscuits\n"
     ]
    }
   ],
   "source": [
    "shopping = [\"bread\", \"cheese\", \"apple\", \"tomato\", \"biscuits\"]\n",
    "\n",
    "for item in shopping:\n",
    " print(item)"
   ]
  },
  {
   "cell_type": "code",
   "execution_count": 3,
   "metadata": {},
   "outputs": [
    {
     "name": "stdout",
     "output_type": "stream",
     "text": [
      "7\n",
      "5\n",
      "4\n",
      "1\n",
      "9\n"
     ]
    }
   ],
   "source": [
    "#Quiz1. li=[7,5,4,1,9]를 아래와 같이 출력되도록 하려면?\n",
    "\n",
    "\n",
    "li = [7,5,4,1,9]\n",
    "for item in li:\n",
    " print(item)"
   ]
  },
  {
   "cell_type": "code",
   "execution_count": 5,
   "metadata": {},
   "outputs": [
    {
     "name": "stdout",
     "output_type": "stream",
     "text": [
      "7\n",
      "4\n",
      "9\n"
     ]
    }
   ],
   "source": [
    "li=[7,5,4,1,9] \n",
    "\n",
    "\n",
    "for i in range(len(li)):\n",
    "    if i%2==0:\n",
    "        print(li[i])"
   ]
  },
  {
   "cell_type": "code",
   "execution_count": 6,
   "metadata": {},
   "outputs": [
    {
     "name": "stdout",
     "output_type": "stream",
     "text": [
      "4\n"
     ]
    }
   ],
   "source": [
    "li=[7,5,4,1,9]\n",
    "\n",
    "\n",
    "for i in li:\n",
    "    if i%2==0:\n",
    "        print(i)"
   ]
  },
  {
   "cell_type": "code",
   "execution_count": 7,
   "metadata": {},
   "outputs": [
    {
     "name": "stdout",
     "output_type": "stream",
     "text": [
      "character:Hello This is Gina\n",
      "['H', 'T', 'G']\n",
      "['e', 'l', 'l', 'o', 'h', 'i', 's', 'i', 's', 'i', 'n', 'a']\n"
     ]
    }
   ],
   "source": [
    "# 입력받은 값으로 대/소문자 분리된 list를 만들기\n",
    "\n",
    "li=list(input('character:'))\n",
    "\n",
    "up=[]\n",
    "low=[]\n",
    "\n",
    "for i in li:\n",
    "    if i.isupper():\n",
    "        up.append(i)\n",
    "    elif i.islower():\n",
    "        low.append(i)\n",
    "\n",
    "print(up)\n",
    "print(low)"
   ]
  },
  {
   "cell_type": "code",
   "execution_count": 10,
   "metadata": {},
   "outputs": [
    {
     "name": "stdout",
     "output_type": "stream",
     "text": [
      "23 is an odd number.\n",
      "43 is an odd number.\n",
      "33 is an odd number.\n",
      "22 is an even number.\n",
      "11 is an odd number.\n"
     ]
    }
   ],
   "source": [
    "#Quiz2. 아래 num list의 모든 수에 대해 ex)'23 is an odd number.'라는 문장으로 출력되게 해보세요. (rule list를 활용하세요) \n",
    "\n",
    "num=[23,43,33,22,11]\n",
    "rule= [\"even\", \"odd\"]\n",
    "\n",
    "\n",
    "for n in num:\n",
    "    if n%2 == 1:\n",
    "        print(f'{n} is an {rule[1]} number.')\n",
    "    elif n%2 == 0:\n",
    "        print(f'{n} is an {rule[0]} number.')"
   ]
  },
  {
   "cell_type": "markdown",
   "metadata": {},
   "source": [
    "**2. nested for loop** one loop inside another loop"
   ]
  },
  {
   "cell_type": "code",
   "execution_count": 11,
   "metadata": {},
   "outputs": [
    {
     "name": "stdout",
     "output_type": "stream",
     "text": [
      "1 1\n",
      "1 2\n",
      "1 3\n",
      "1 4\n",
      "1 5\n",
      "1 6\n",
      "2 1\n",
      "2 2\n",
      "2 3\n",
      "2 4\n",
      "2 5\n",
      "2 6\n",
      "3 1\n",
      "3 2\n",
      "3 3\n",
      "3 4\n",
      "3 5\n",
      "3 6\n",
      "4 1\n",
      "4 2\n",
      "4 3\n",
      "4 4\n",
      "4 5\n",
      "4 6\n",
      "5 1\n",
      "5 2\n",
      "5 3\n",
      "5 4\n",
      "5 5\n",
      "5 6\n",
      "6 1\n",
      "6 2\n",
      "6 3\n",
      "6 4\n",
      "6 5\n",
      "6 6\n"
     ]
    }
   ],
   "source": [
    "# Probability for rolling two dice\n",
    "\n",
    "for i in range(1,7): # Outer loop\n",
    "    for j in range(1,7): # Nested loop\n",
    "        print(i,j)"
   ]
  },
  {
   "cell_type": "code",
   "execution_count": 13,
   "metadata": {},
   "outputs": [
    {
     "name": "stdout",
     "output_type": "stream",
     "text": [
      "red apple\n",
      "red banana\n",
      "red cherry\n",
      "big apple\n",
      "big banana\n",
      "big cherry\n",
      "tasty apple\n",
      "tasty banana\n",
      "tasty cherry\n"
     ]
    }
   ],
   "source": [
    "# Quiz3. Print each adjective for every fruit.\n",
    "\n",
    "adj = [\"red\", \"big\", \"tasty\"]\n",
    "fruits = [\"apple\", \"banana\", \"cherry\"]\n",
    " \n",
    "for i in adj: # Outer loop\n",
    "    for j in fruits: # Nested loop\n",
    "        print(i,j)"
   ]
  },
  {
   "cell_type": "code",
   "execution_count": 14,
   "metadata": {},
   "outputs": [
    {
     "name": "stdout",
     "output_type": "stream",
     "text": [
      "*\n",
      "**\n",
      "***\n",
      "****\n",
      "*****\n"
     ]
    }
   ],
   "source": [
    "# right triangle\n",
    "\n",
    "for i in range(1,6):\n",
    "    for j in range(i):\n",
    "        print(\"*\", end=\"\")\n",
    "    print()"
   ]
  },
  {
   "cell_type": "code",
   "execution_count": 15,
   "metadata": {},
   "outputs": [
    {
     "name": "stdout",
     "output_type": "stream",
     "text": [
      "*****\n",
      "****\n",
      "***\n",
      "**\n",
      "*\n"
     ]
    }
   ],
   "source": [
    "# Quiz4. reverse right triangle\n",
    "\n",
    "for i in range(5,0,-1):\n",
    "    for j in range(i):\n",
    "        print(\"*\", end=\"\")\n",
    "    print()"
   ]
  },
  {
   "cell_type": "code",
   "execution_count": 17,
   "metadata": {},
   "outputs": [
    {
     "name": "stdout",
     "output_type": "stream",
     "text": [
      "2 * 1 = 2\n",
      "2 * 2 = 4\n",
      "2 * 3 = 6\n",
      "2 * 4 = 8\n",
      "2 * 5 = 10\n",
      "2 * 6 = 12\n",
      "2 * 7 = 14\n",
      "2 * 8 = 16\n",
      "2 * 9 = 18\n",
      "3 * 1 = 3\n",
      "3 * 2 = 6\n",
      "3 * 3 = 9\n",
      "3 * 4 = 12\n",
      "3 * 5 = 15\n",
      "3 * 6 = 18\n",
      "3 * 7 = 21\n",
      "3 * 8 = 24\n",
      "3 * 9 = 27\n",
      "4 * 1 = 4\n",
      "4 * 2 = 8\n",
      "4 * 3 = 12\n",
      "4 * 4 = 16\n",
      "4 * 5 = 20\n",
      "4 * 6 = 24\n",
      "4 * 7 = 28\n",
      "4 * 8 = 32\n",
      "4 * 9 = 36\n",
      "5 * 1 = 5\n",
      "5 * 2 = 10\n",
      "5 * 3 = 15\n",
      "5 * 4 = 20\n",
      "5 * 5 = 25\n",
      "5 * 6 = 30\n",
      "5 * 7 = 35\n",
      "5 * 8 = 40\n",
      "5 * 9 = 45\n",
      "6 * 1 = 6\n",
      "6 * 2 = 12\n",
      "6 * 3 = 18\n",
      "6 * 4 = 24\n",
      "6 * 5 = 30\n",
      "6 * 6 = 36\n",
      "6 * 7 = 42\n",
      "6 * 8 = 48\n",
      "6 * 9 = 54\n",
      "7 * 1 = 7\n",
      "7 * 2 = 14\n",
      "7 * 3 = 21\n",
      "7 * 4 = 28\n",
      "7 * 5 = 35\n",
      "7 * 6 = 42\n",
      "7 * 7 = 49\n",
      "7 * 8 = 56\n",
      "7 * 9 = 63\n",
      "8 * 1 = 8\n",
      "8 * 2 = 16\n",
      "8 * 3 = 24\n",
      "8 * 4 = 32\n",
      "8 * 5 = 40\n",
      "8 * 6 = 48\n",
      "8 * 7 = 56\n",
      "8 * 8 = 64\n",
      "8 * 9 = 72\n",
      "9 * 1 = 9\n",
      "9 * 2 = 18\n",
      "9 * 3 = 27\n",
      "9 * 4 = 36\n",
      "9 * 5 = 45\n",
      "9 * 6 = 54\n",
      "9 * 7 = 63\n",
      "9 * 8 = 72\n",
      "9 * 9 = 81\n"
     ]
    }
   ],
   "source": [
    "# Quiz5. Print Multiplication Tables 2 to 9 using Nested forloop.\n",
    "\n",
    "\n",
    "for i in range(2,10):\n",
    "    for j in range(1,10):\n",
    "        print(f'{i} * {j} = {i*j}')\n"
   ]
  },
  {
   "cell_type": "code",
   "execution_count": 19,
   "metadata": {},
   "outputs": [
    {
     "name": "stdout",
     "output_type": "stream",
     "text": [
      "123456789"
     ]
    }
   ],
   "source": [
    "# nested for loop + list\n",
    "\n",
    "li=[[1,2,3],[4,5,6,7],[8,9]]\n",
    "\n",
    "for a in li: # [1,2,3],[4,5,6,7],[8,9]\n",
    "    for b in a: #1,2,3, 4,5,6,7, 8,9\n",
    "        print(b, end='')"
   ]
  },
  {
   "cell_type": "code",
   "execution_count": 20,
   "metadata": {
    "scrolled": true
   },
   "outputs": [
    {
     "name": "stdout",
     "output_type": "stream",
     "text": [
      "12345678"
     ]
    }
   ],
   "source": [
    "# nested for loop + list\n",
    "\n",
    "li=[[1,2,3,4],[5,6,7,8]]\n",
    "\n",
    "for i in range(len(li)): #i=0,1\n",
    "    for j in range(len(li[i])): #4 j=0,1,2,3\n",
    "        print(li[i][j], end='') # [0][0], [0][1], [0][2], [0][3]..."
   ]
  },
  {
   "cell_type": "code",
   "execution_count": 35,
   "metadata": {},
   "outputs": [
    {
     "name": "stdout",
     "output_type": "stream",
     "text": [
      "1\n",
      "12\n",
      "13\n",
      "124\n",
      "15\n",
      "1236\n",
      "17\n",
      "1248\n",
      "139\n"
     ]
    }
   ],
   "source": [
    "#Quiz6. Nested for loop을 이용하여 1부터 10까지의 정수에 대한 약수를 구해보세요.  \n",
    "\n",
    "for i in range(1,10):\n",
    "    for j in range(1,10):\n",
    "        if i%j == 0: \n",
    "            print(j, end='')\n",
    "    print()"
   ]
  },
  {
   "cell_type": "code",
   "execution_count": null,
   "metadata": {},
   "outputs": [],
   "source": []
  }
 ],
 "metadata": {
  "kernelspec": {
   "display_name": "Python 3",
   "language": "python",
   "name": "python3"
  },
  "language_info": {
   "codemirror_mode": {
    "name": "ipython",
    "version": 3
   },
   "file_extension": ".py",
   "mimetype": "text/x-python",
   "name": "python",
   "nbconvert_exporter": "python",
   "pygments_lexer": "ipython3",
   "version": "3.8.3"
  }
 },
 "nbformat": 4,
 "nbformat_minor": 4
}
