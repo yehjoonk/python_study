{
 "cells": [
  {
   "cell_type": "markdown",
   "metadata": {},
   "source": [
    "# While loop 복습과 응용"
   ]
  },
  {
   "cell_type": "markdown",
   "metadata": {},
   "source": [
    "## While 반복문  "
   ]
  },
  {
   "cell_type": "markdown",
   "metadata": {},
   "source": [
    ">주어진 조건이 true이면 코드가 반복 실행됨 (조건이 false가 되면 중단됨)."
   ]
  },
  {
   "cell_type": "markdown",
   "metadata": {},
   "source": [
    "## While구조"
   ]
  },
  {
   "cell_type": "markdown",
   "metadata": {},
   "source": [
    "> while <조건문>:  \n",
    ">><수행할 문장1>  \n",
    ">><수행할 문장2>  \n",
    "      ..."
   ]
  },
  {
   "cell_type": "code",
   "execution_count": null,
   "metadata": {},
   "outputs": [],
   "source": [
    "a=1\n",
    "while a<6:\n",
    "    print(a)"
   ]
  },
  {
   "cell_type": "code",
   "execution_count": 1,
   "metadata": {},
   "outputs": [
    {
     "name": "stdout",
     "output_type": "stream",
     "text": [
      "1\n",
      "2\n",
      "3\n",
      "4\n",
      "5\n"
     ]
    }
   ],
   "source": [
    "a=1\n",
    "while a<6:\n",
    "    print(a)\n",
    "    a=a+1"
   ]
  },
  {
   "cell_type": "code",
   "execution_count": 2,
   "metadata": {},
   "outputs": [
    {
     "name": "stdout",
     "output_type": "stream",
     "text": [
      "1\n",
      "2\n",
      "3\n",
      "4\n",
      "5\n"
     ]
    }
   ],
   "source": [
    "a=1\n",
    "while a<6:\n",
    "    print(a)\n",
    "    a+=1"
   ]
  },
  {
   "cell_type": "markdown",
   "metadata": {},
   "source": [
    "##### <퀴즈>1부터 10까지 출력되도록 코드를 만들어보세요."
   ]
  },
  {
   "cell_type": "code",
   "execution_count": 3,
   "metadata": {},
   "outputs": [
    {
     "name": "stdout",
     "output_type": "stream",
     "text": [
      "1\n",
      "2\n",
      "3\n",
      "4\n",
      "5\n",
      "6\n",
      "7\n",
      "8\n",
      "9\n",
      "10\n"
     ]
    }
   ],
   "source": [
    "a=1\n",
    "while a<11:\n",
    "    print(a)\n",
    "    a+=1"
   ]
  },
  {
   "cell_type": "markdown",
   "metadata": {},
   "source": [
    "##### 'yes'를 입력하면 질문 반복하기 feat. input함수"
   ]
  },
  {
   "cell_type": "code",
   "execution_count": 4,
   "metadata": {},
   "outputs": [
    {
     "name": "stdout",
     "output_type": "stream",
     "text": [
      "Your answer:yes\n",
      "Your answer:no\n",
      "over\n"
     ]
    }
   ],
   "source": [
    "text='yes'\n",
    "\n",
    "while text=='yes':\n",
    "    text=input('Your answer:')\n",
    "    \n",
    "print('over')"
   ]
  },
  {
   "cell_type": "markdown",
   "metadata": {},
   "source": [
    "#### <퀴즈> while 반복문을 사용하여 아래와 같이 출력되도록 코드를 완성해보세요.\n",
    "Let's start the countdown.  \n",
    "10  \n",
    "9<br>\n",
    "8<br>\n",
    "7<br>\n",
    "6<br>\n",
    "5<br>\n",
    "4<br>\n",
    "3<br>\n",
    "2<br>\n",
    "1<br>\n",
    "0<br>\n",
    "Launch!"
   ]
  },
  {
   "cell_type": "code",
   "execution_count": 11,
   "metadata": {},
   "outputs": [
    {
     "name": "stdout",
     "output_type": "stream",
     "text": [
      "Let's start the countdown.\n",
      "10\n",
      "9\n",
      "8\n",
      "7\n",
      "6\n",
      "5\n",
      "4\n",
      "3\n",
      "2\n",
      "1\n",
      "0\n",
      "Launch!\n"
     ]
    }
   ],
   "source": [
    "import time\n",
    "\n",
    "print(\"Let's start the countdown.\")\n",
    "\n",
    "a=10\n",
    "while a>=0:\n",
    "    print(a)\n",
    "    time.sleep(0.5)\n",
    "    a-=1\n",
    "\n",
    "print(\"Launch!\")"
   ]
  },
  {
   "cell_type": "markdown",
   "metadata": {},
   "source": [
    "#### [예시] \"문을 10번 두드리자 열렸다\"로 while loop 를 만들고 싶어요.\n",
    "##### < 아래와 같이 출력되게 하려면 어떻게 코드를 만들어야 할까요?>\n",
    "문을 1번 두드렸습니다.  \n",
    "문을 2번 두드렸습니다.  \n",
    "문을 3번 두드렸습니다.  \n",
    "문을 4번 두드렸습니다.  \n",
    "문을 5번 두드렸습니다.  \n",
    "문을 6번 두드렸습니다.  \n",
    "문을 7번 두드렸습니다.  \n",
    "문을 8번 두드렸습니다.   \n",
    "문을 9번 두드렸습니다.  \n",
    "문이 열렸습니다."
   ]
  },
  {
   "cell_type": "code",
   "execution_count": 14,
   "metadata": {},
   "outputs": [
    {
     "name": "stdout",
     "output_type": "stream",
     "text": [
      "문을 1번 두드렸습니다.\n",
      "문을 2번 두드렸습니다.\n",
      "문을 3번 두드렸습니다.\n",
      "문을 4번 두드렸습니다.\n",
      "문을 5번 두드렸습니다.\n",
      "문을 6번 두드렸습니다.\n",
      "문을 7번 두드렸습니다.\n",
      "문을 8번 두드렸습니다.\n",
      "문을 9번 두드렸습니다.\n",
      "문이 열렸습니다.\n"
     ]
    }
   ],
   "source": [
    "\n",
    "a=1\n",
    "while a<10:\n",
    "    print(\"문을 {}번 두드렸습니다.\".format(a))\n",
    "    a+=1\n",
    "    if a == 10:\n",
    "        print(\"문이 열렸습니다.\")\n"
   ]
  },
  {
   "cell_type": "markdown",
   "metadata": {},
   "source": [
    "## Break: while 반복문에서 빠져나오기"
   ]
  },
  {
   "cell_type": "code",
   "execution_count": 18,
   "metadata": {},
   "outputs": [
    {
     "name": "stdout",
     "output_type": "stream",
     "text": [
      "1\n",
      "2\n",
      "3\n",
      "4\n",
      "5\n",
      "6\n",
      "7\n",
      "8\n",
      "9\n",
      "10\n"
     ]
    }
   ],
   "source": [
    "a=1\n",
    "while True:\n",
    "    print(a)\n",
    "    a=a+1\n",
    "    if a >10:\n",
    "        break"
   ]
  },
  {
   "cell_type": "markdown",
   "metadata": {},
   "source": [
    "#### [예시] 'What did you say?'라는 질문에 'I love you'를 입력해야 종료되는 while loop 만들어볼게요 ;)"
   ]
  },
  {
   "cell_type": "code",
   "execution_count": 19,
   "metadata": {},
   "outputs": [
    {
     "name": "stdout",
     "output_type": "stream",
     "text": [
      "What did you say?I love you\n",
      "I love you too.\n"
     ]
    }
   ],
   "source": [
    "while True:\n",
    "    text=input('What did you say?')\n",
    "    if text == \"I love you\":\n",
    "        print(\"I love you too.\")\n",
    "        break"
   ]
  },
  {
   "cell_type": "markdown",
   "metadata": {},
   "source": [
    "#### [예시] 콜라 자판기에 콜라가 10개 있어요. 남은 갯수를 알려주면서 하나씩 줄다가 0개가 되면 품절이라고 알리고 loop에서 나오고 싶어요."
   ]
  },
  {
   "cell_type": "code",
   "execution_count": 17,
   "metadata": {},
   "outputs": [
    {
     "name": "stdout",
     "output_type": "stream",
     "text": [
      "9 coke left.\n",
      "8 coke left.\n",
      "7 coke left.\n",
      "6 coke left.\n",
      "5 coke left.\n",
      "4 coke left.\n",
      "3 coke left.\n",
      "2 coke left.\n",
      "1 coke left.\n",
      "0 coke left.\n",
      "sold out\n"
     ]
    }
   ],
   "source": [
    "\n",
    "coke=10\n",
    "\n",
    "while True:\n",
    "    coke = coke -1\n",
    "    print(\"{} coke left.\".format(coke))\n",
    "    if coke == 0:\n",
    "        print(\"sold out\")\n",
    "        break\n",
    "\n"
   ]
  },
  {
   "cell_type": "markdown",
   "metadata": {},
   "source": [
    "##### <퀴즈> 10에서 시작, 6까지 카운트다운 후 멈추게 하는 코드를 완성해보세요."
   ]
  },
  {
   "cell_type": "code",
   "execution_count": 21,
   "metadata": {
    "scrolled": false
   },
   "outputs": [
    {
     "name": "stdout",
     "output_type": "stream",
     "text": [
      "Let's start the countdown.\n",
      "10\n",
      "9\n",
      "8\n",
      "7\n",
      "6\n",
      "stopped\n"
     ]
    }
   ],
   "source": [
    "n=10\n",
    "\n",
    "print(\"Let's start the countdown.\")\n",
    "\n",
    "\n",
    "while True:\n",
    "    print(n)\n",
    "    n-=1\n",
    "    if n == 6:\n",
    "        print(n)\n",
    "        break\n",
    "\n",
    "\n",
    "\n",
    "print (\"stopped\")"
   ]
  },
  {
   "cell_type": "markdown",
   "metadata": {},
   "source": [
    "### [ 숫자 알아맞히기 게임 만들기 ]"
   ]
  },
  {
   "cell_type": "markdown",
   "metadata": {},
   "source": [
    "#### Step1. if-elif 조건문을 이용해서 만들기"
   ]
  },
  {
   "cell_type": "code",
   "execution_count": 22,
   "metadata": {},
   "outputs": [
    {
     "name": "stdout",
     "output_type": "stream",
     "text": [
      "Your guess is too low.\n"
     ]
    }
   ],
   "source": [
    "guess=5\n",
    "number=10\n",
    "\n",
    "if guess < number:\n",
    "    print('Your guess is too low.')\n",
    "\n",
    "elif guess > number:\n",
    "    print('Your guess is too high.')\n",
    "\n",
    "elif guess == number:\n",
    "    print('Good job! You guessed my number!')"
   ]
  },
  {
   "cell_type": "markdown",
   "metadata": {},
   "source": [
    "#### Step2. input 함수를 이용해서 만들기"
   ]
  },
  {
   "cell_type": "code",
   "execution_count": 23,
   "metadata": {},
   "outputs": [
    {
     "name": "stdout",
     "output_type": "stream",
     "text": [
      "Take a guess.:6\n",
      "Your guess is too high.\n"
     ]
    }
   ],
   "source": [
    "input_guess=int(input(\"Take a guess.:\"))\n",
    "number=5\n",
    "\n",
    "if input_guess < number:\n",
    "    print('Your guess is too low.')\n",
    "\n",
    "elif input_guess > number:\n",
    "    print('Your guess is too high.')\n",
    "\n",
    "elif input_guess == number:\n",
    "    print('Good job! You guessed my number!')"
   ]
  },
  {
   "cell_type": "markdown",
   "metadata": {},
   "source": [
    "#### Step3. while 반복문을 이용해서 만들기"
   ]
  },
  {
   "cell_type": "code",
   "execution_count": 24,
   "metadata": {},
   "outputs": [
    {
     "name": "stdout",
     "output_type": "stream",
     "text": [
      "Take a guess.:8\n",
      "Your guess is too high.\n",
      "Take a guess.:2\n",
      "Your guess is too low.\n",
      "Take a guess.:3\n",
      "Your guess is too low.\n",
      "Take a guess.:7\n",
      "Your guess is too high.\n",
      "Take a guess.:5\n",
      "Good job! You guessed my number!\n"
     ]
    }
   ],
   "source": [
    "number=5\n",
    "\n",
    "while True:\n",
    "    input_guess=int(input(\"Take a guess.:\"))\n",
    "\n",
    "    if input_guess < number:\n",
    "        print('Your guess is too low.')\n",
    "\n",
    "    elif input_guess > number:\n",
    "        print('Your guess is too high.')\n",
    "\n",
    "    elif input_guess == number:\n",
    "        print('Good job! You guessed my number!')\n",
    "        break"
   ]
  },
  {
   "cell_type": "markdown",
   "metadata": {},
   "source": [
    "##### <퀴즈> if-elif-else 조건문, while 반복문, input 함수를 이용해서 콜라 자판기 코드를 완성해보세요.  (**을 채워보세요)\n",
    ">콜라 자판기에 콜라가 5개 있습니다.  \n",
    ">자판기의 'Give me money.'라는 질문에 콜라 가격으로 응답할 수 있습니다.<br>\n",
    ">500원을 넣으면 'Here is your coke.'가 출력되고, 콜라가 판매됩니다. (=자판기의 콜라가 줄어듭니다)<br>\n",
    ">500원 보다 많이 넣으면 'Here is your change.'가 출력되고, 콜라가 판매됩니다.<br>\n",
    ">500원보다 적게 넣으면 'Put in more money.'가 출력되고, 콜라가 판매되지 않습니다.  (=자판기의 콜라가 줄어들지 않습니다.)<br>\n",
    ">콜라가 다 떨어지면 'sold out' 이 출력되고, loop에서 나옵니다."
   ]
  },
  {
   "cell_type": "code",
   "execution_count": null,
   "metadata": {},
   "outputs": [],
   "source": [
    "coke = 5\n",
    "while True:\n",
    "    money = int(input('Give me money.:'))\n",
    "    if money == 500:\n",
    "        print(\"Here is your coke.\")\n",
    "        coke = coke -1\n",
    "    elif money > 500:\n",
    "        print(\"Here is your change. Here is {}\".format(money-500))\n",
    "        coke = coke -1\n",
    "    else:\n",
    "        print(\"Put in more money.\")\n",
    "    if coke == 0:\n",
    "        print(\"sold out\")\n",
    "        break"
   ]
  },
  {
   "cell_type": "code",
   "execution_count": null,
   "metadata": {},
   "outputs": [],
   "source": []
  }
 ],
 "metadata": {
  "kernelspec": {
   "display_name": "Python 3",
   "language": "python",
   "name": "python3"
  },
  "language_info": {
   "codemirror_mode": {
    "name": "ipython",
    "version": 3
   },
   "file_extension": ".py",
   "mimetype": "text/x-python",
   "name": "python",
   "nbconvert_exporter": "python",
   "pygments_lexer": "ipython3",
   "version": "3.8.3"
  }
 },
 "nbformat": 4,
 "nbformat_minor": 4
}
