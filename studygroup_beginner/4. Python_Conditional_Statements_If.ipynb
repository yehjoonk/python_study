{
 "cells": [
  {
   "cell_type": "markdown",
   "metadata": {},
   "source": [
    "4.Python Conditional statements : if \n",
    "===="
   ]
  },
  {
   "cell_type": "markdown",
   "metadata": {},
   "source": [
    "### *tip \n",
    "\n",
    "\n",
    "a : insert cell above\n",
    "\n",
    "b : insert cell below\n",
    "\n",
    "각자 키보드를 통해 cell을 추가해보기 \n"
   ]
  },
  {
   "cell_type": "markdown",
   "metadata": {},
   "source": [
    "## if 조건문 \n",
    "\n",
    "조건문은 특정 조건일 때 코드를 실행하는 문법입니다. 프로그램을 만드는 경우 여러 가지 상황이 발생하게 되는데 이 때 조건문은 상황에 따라 다르게 대처하기 때문에, 다양한 상황에 대처할 때 사용합니다. \n"
   ]
  },
  {
   "cell_type": "markdown",
   "metadata": {},
   "source": [
    "- if 조건문 형태 "
   ]
  },
  {
   "cell_type": "code",
   "execution_count": 1,
   "metadata": {},
   "outputs": [],
   "source": [
    "x = 10"
   ]
  },
  {
   "cell_type": "code",
   "execution_count": 2,
   "metadata": {},
   "outputs": [
    {
     "name": "stdout",
     "output_type": "stream",
     "text": [
      "10입니다.\n"
     ]
    }
   ],
   "source": [
    "if x == 10:\n",
    "    print('10입니다.')"
   ]
  },
  {
   "cell_type": "markdown",
   "metadata": {},
   "source": [
    "위의 예시에서 **if x == 10:** 은 조건식이고,\n"
   ]
  },
  {
   "cell_type": "markdown",
   "metadata": {},
   "source": [
    "**(들여쓰기)print('10입니다.')** 는 조건식(if 본문)이 만족할 때 실행될 코드 입니다."
   ]
  },
  {
   "cell_type": "markdown",
   "metadata": {},
   "source": [
    "예시에서는 변수 x에 10을 할당한 뒤 if 조건문으로 x가 10과 같은지 검사하였습니다. 조건식은 **x == 10**과 같은 형식으로 지정해주는데 **==** 는 두 값이 \"같을 때\"라는 뜻입니다. \n",
    "\n",
    "즉, if x == 10은 x가 10과 같은지 비교한 뒤 같으면 다음에 오는 코드를 실행하라느 뜻이 됩니다. 따라서 x는 10이고 조건식을 만족하므로 그다음 줄의 print가 실행되어 '10입니다.'가 출력됩니다. "
   ]
  },
  {
   "cell_type": "markdown",
   "metadata": {},
   "source": [
    "### if 조건문을 사용할 때 주의할 점 \n",
    "\n",
    "1. if 조건문을 사용할 때 주의해야하는 점은 값을 비교할 때 반드시 =를 두개 붙여서 ==로 사용해야 합니다. **자주 틀리는 부분이니 if 안에서 ==를 사용했는지 반드시 확인하세요. 다음과 같이 =를 사용하면 문법 에러가 발생합니다.** "
   ]
  },
  {
   "cell_type": "code",
   "execution_count": 5,
   "metadata": {},
   "outputs": [
    {
     "ename": "SyntaxError",
     "evalue": "invalid syntax (<ipython-input-5-b4f0e29f8866>, line 1)",
     "output_type": "error",
     "traceback": [
      "\u001b[0;36m  File \u001b[0;32m\"<ipython-input-5-b4f0e29f8866>\"\u001b[0;36m, line \u001b[0;32m1\u001b[0m\n\u001b[0;31m    if x = 10:\u001b[0m\n\u001b[0m         ^\u001b[0m\n\u001b[0;31mSyntaxError\u001b[0m\u001b[0;31m:\u001b[0m invalid syntax\n"
     ]
    }
   ],
   "source": [
    "if x = 10:\n",
    "    print('10입니다.')"
   ]
  },
  {
   "cell_type": "markdown",
   "metadata": {},
   "source": [
    "2. 조건식 끝에 :(콜론)을 빠트리는 실수도 자주하니 :도 확인해주세요. 다음은 조건식 끝에 :을 빠뜨렸을 때의 모습입니다. "
   ]
  },
  {
   "cell_type": "code",
   "execution_count": 6,
   "metadata": {},
   "outputs": [
    {
     "ename": "SyntaxError",
     "evalue": "invalid syntax (<ipython-input-6-408e883c0de6>, line 1)",
     "output_type": "error",
     "traceback": [
      "\u001b[0;36m  File \u001b[0;32m\"<ipython-input-6-408e883c0de6>\"\u001b[0;36m, line \u001b[0;32m1\u001b[0m\n\u001b[0;31m    if x == 10\u001b[0m\n\u001b[0m              ^\u001b[0m\n\u001b[0;31mSyntaxError\u001b[0m\u001b[0;31m:\u001b[0m invalid syntax\n"
     ]
    }
   ],
   "source": [
    "if x == 10\n",
    "    print('10입니다.')"
   ]
  },
  {
   "cell_type": "markdown",
   "metadata": {},
   "source": [
    "## if 조건문과 들여쓰기"
   ]
  },
  {
   "cell_type": "code",
   "execution_count": 7,
   "metadata": {},
   "outputs": [
    {
     "name": "stdout",
     "output_type": "stream",
     "text": [
      "x에 들어있는 숫자는\n",
      "10입니다.\n"
     ]
    }
   ],
   "source": [
    "if x == 10:\n",
    "    print('x에 들어있는 숫자는')\n",
    "    print('10입니다.')"
   ]
  },
  {
   "cell_type": "markdown",
   "metadata": {},
   "source": [
    "if 다음에 오는 코드들은 반드시 들여쓰기 깊이가 같아야 합니다. \n",
    "만약 첫 번째 print만 들여쓰기를 하고, 두 번째 print는 들여쓰기를 하지 않으면 의도치 않은 동작이 됩니다. "
   ]
  },
  {
   "cell_type": "code",
   "execution_count": 8,
   "metadata": {},
   "outputs": [
    {
     "name": "stdout",
     "output_type": "stream",
     "text": [
      "10입니다.\n"
     ]
    }
   ],
   "source": [
    "x = 5           # x에 5를 할당 \n",
    "\n",
    "if x == 10:     # x가 5라서 조건식을 만족하지 않음\n",
    "    print('x에 들어있는 숫자는')\n",
    "print('10입니다.')"
   ]
  },
  {
   "cell_type": "markdown",
   "metadata": {},
   "source": [
    "위의 예시는 x가 5라서 if 조건식을 만족하지 않으므로 다음에 오는 print('x에 들어있는 숫자는')는 실행이 되지 않습니다. 그런데 print('10입니다.')는 실행이 되었습니다. 왜냐하면 **들여쓰기** 가 없어서 if와 상관없는 코드가 되었기 때문입니다. \n",
    "\n",
    "즉, if 다음 줄에 들여쓰기가 된 코드는 if의 영향을 받아 조건식에 따라 실행이 결정되지만 들여쓰기가 되지 않은 코드는 항상 실행됩니다. 들여쓰기 하나 때문에 의도치 않은 동작이 되었는데(x가 5일 때는 '10입니다.'가 출력되지 않아야 하는데 출력됨) 이런 코드는 일단 실행이 되기 때문에 잘못된 부분을 찾기가 쉽지 않습니다. 자신이 의도한 부분과 코드의 들여쓰기가 일치하는지 항상 확인해주세요.\n",
    "\n",
    "파이썬에서 :가 나오면 그 다음 줄부터는 무조건 들여쓰기를 한다는 점만 기억하면 됩니다."
   ]
  },
  {
   "cell_type": "markdown",
   "metadata": {},
   "source": [
    "### **-연습하기** \n",
    "\n",
    "1. 다음 소스 코드를 완성하여 x의 값이 5일 때 'hello'가 출력되게 만드세요."
   ]
  },
  {
   "cell_type": "code",
   "execution_count": 3,
   "metadata": {},
   "outputs": [
    {
     "name": "stdout",
     "output_type": "stream",
     "text": [
      "hello\n"
     ]
    }
   ],
   "source": [
    "x = 5\n",
    "\n",
    "if x == 5:\n",
    "    print('hello')"
   ]
  },
  {
   "cell_type": "markdown",
   "metadata": {},
   "source": [
    "## 중첩 if 조건문 사용하기 "
   ]
  },
  {
   "cell_type": "code",
   "execution_count": 1,
   "metadata": {},
   "outputs": [
    {
     "name": "stdout",
     "output_type": "stream",
     "text": [
      "10 이상입니다.\n",
      "15입니다.\n"
     ]
    }
   ],
   "source": [
    "x = 15 \n",
    "\n",
    "if x >= 10:\n",
    "    print('10 이상입니다.')\n",
    "    \n",
    "    if x == 15:\n",
    "        print('15입니다.')\n",
    "        \n",
    "    if x == 20:\n",
    "        print('20입니다.')"
   ]
  },
  {
   "cell_type": "markdown",
   "metadata": {},
   "source": [
    "위의 예시는 if 조건문을 사용해 변수의 값이 10 이상이면 '10 이상입니다.'를 출력한 뒤 15이면 '15입니다.'를 20이면 '20입니다.'를 출력합니다. \n",
    "\n",
    "이 예시의 특징은 if x == 15:와 if x == 20:은 처음에 나온 if x >= 10:에 속한 코드입니다. 즉, if x >= 10:의 조건식이 만족해야만 실행되는 코드입니다.\n",
    "\n",
    "따라서 다시 안쪽의 if에 속한 print는 들여쓰기를 한 번 더 해줍니다."
   ]
  },
  {
   "cell_type": "markdown",
   "metadata": {},
   "source": [
    "### **-연습하기**\n",
    "\n",
    "2. 다음 중첩 if 소스 코드를 완성하여 x의 값이 7일 때 '10 이하입니다.'와 '7입니다.'가 출력되게 만드세요."
   ]
  },
  {
   "cell_type": "code",
   "execution_count": 5,
   "metadata": {},
   "outputs": [
    {
     "name": "stdout",
     "output_type": "stream",
     "text": [
      "10 이하입니다.\n",
      "7입니다.\n"
     ]
    }
   ],
   "source": [
    "x = 7\n",
    "\n",
    "if x <= 10:\n",
    "    print('10 이하입니다.')\n",
    "    \n",
    "    if x == 7:\n",
    "        print('7입니다.')"
   ]
  },
  {
   "cell_type": "markdown",
   "metadata": {},
   "source": [
    "## 사용자가 입력한 값에 if 조건문 사용하기 "
   ]
  },
  {
   "cell_type": "code",
   "execution_count": 9,
   "metadata": {},
   "outputs": [
    {
     "name": "stdout",
     "output_type": "stream",
     "text": [
      "20\n",
      "20입니다.\n"
     ]
    }
   ],
   "source": [
    "x = int(input())   # 입력받은 값을 변수에 저장\n",
    "\n",
    "if x == 10:        # x가 10이면\n",
    "    print('10입니다.') #'10입니다.'를 출력\n",
    "    \n",
    "if x == 20:        # x가 20이면\n",
    "    print('20입니다.')#'20입니다.'를 출력"
   ]
  },
  {
   "cell_type": "markdown",
   "metadata": {},
   "source": [
    "위의 예시는 input을 이용해 직접 변수값을 입력하여 저장하고 그 저장한 값을 if 조건문을 통해 비교합니다. \n",
    "\n",
    "int(input())는 정수값을 input에 입력받겠다는 것입니다. \n",
    "\n",
    "if 조건문은 10이거나 20일 일 때 프린트 되는 것을 작성했습니다. 직접 10이나 20 혹은 다른 정수를 입력해서 어떻게 출력되는지 확인해보세요. "
   ]
  },
  {
   "cell_type": "markdown",
   "metadata": {},
   "source": [
    "### **-연습하기**\n",
    "\n",
    "3. 다음 소스 코드를 완성하여 x의 값이 10이 아닐 때 'bye'가 출력되게 만드세요."
   ]
  },
  {
   "cell_type": "code",
   "execution_count": 11,
   "metadata": {},
   "outputs": [
    {
     "name": "stdout",
     "output_type": "stream",
     "text": [
      "bye\n"
     ]
    }
   ],
   "source": [
    "x = 5 \n",
    "\n",
    "if x != 10:\n",
    "    print('bye')"
   ]
  },
  {
   "cell_type": "markdown",
   "metadata": {},
   "source": [
    "힌트 : 비교연산자 '!='(값이 동일하지 않다)를 사용해서 완성해주세요. "
   ]
  }
 ],
 "metadata": {
  "kernelspec": {
   "display_name": "Python 3",
   "language": "python",
   "name": "python3"
  },
  "language_info": {
   "codemirror_mode": {
    "name": "ipython",
    "version": 3
   },
   "file_extension": ".py",
   "mimetype": "text/x-python",
   "name": "python",
   "nbconvert_exporter": "python",
   "pygments_lexer": "ipython3",
   "version": "3.8.3"
  }
 },
 "nbformat": 4,
 "nbformat_minor": 4
}
