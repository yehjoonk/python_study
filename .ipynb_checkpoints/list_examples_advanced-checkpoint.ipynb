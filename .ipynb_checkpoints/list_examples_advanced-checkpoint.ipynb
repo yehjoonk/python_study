{
 "cells": [
  {
   "cell_type": "markdown",
   "metadata": {},
   "source": [
    "# 1. Every Three Numbers\n",
    "Create a function called every_three_nums that has one parameter named start.\n",
    "\n",
    "The function should return a list of every third number between start and 100 (inclusive). For example, every_three_nums(91) should return the list [91, 94, 97, 100]. If start is greater than 100, the function should return an empty list."
   ]
  },
  {
   "cell_type": "code",
   "execution_count": 1,
   "metadata": {},
   "outputs": [
    {
     "name": "stdout",
     "output_type": "stream",
     "text": [
      "[91, 94, 97, 100]\n"
     ]
    }
   ],
   "source": [
    "#Write your function here\n",
    "\n",
    "def every_three_nums(start):\n",
    "  lst = list(range(start,101,3))\n",
    "  return lst\n",
    "\n",
    "#Uncomment the line below when your function is done\n",
    "print(every_three_nums(91))"
   ]
  },
  {
   "cell_type": "markdown",
   "metadata": {},
   "source": [
    "# 2. Remove Middle\n",
    "Create a function named remove_middle which has three parameters named lst, start, and end.\n",
    "\n",
    "The function should return a list where all elements in lst with an index between start and end (inclusive) have been removed.\n",
    "\n",
    "For example, the following code should return [4, 23, 42] because elements at indices 1, 2, and 3 have been removed:\n",
    "\n",
    "remove_middle([4, 8 , 15, 16, 23, 42], 1, 3)"
   ]
  },
  {
   "cell_type": "code",
   "execution_count": 2,
   "metadata": {},
   "outputs": [
    {
     "name": "stdout",
     "output_type": "stream",
     "text": [
      "[4, 23, 42]\n"
     ]
    }
   ],
   "source": [
    "#Write your function here\n",
    "def remove_middle(lst, start, end):\n",
    "  return lst[:start] + lst[end+1:]\n",
    "\n",
    "#Uncomment the line below when your function is done\n",
    "print(remove_middle([4, 8, 15, 16, 23, 42], 1, 3))"
   ]
  },
  {
   "cell_type": "markdown",
   "metadata": {},
   "source": [
    "# 3. More Frequent Items\n",
    "Create a function named more_frequent_item that has three parameters named lst, item1, and item2.\n",
    "\n",
    "Return either item1 or item2 depending on which item appears more often in lst.\n",
    "\n",
    "If the two items appear the same number of times, return item1."
   ]
  },
  {
   "cell_type": "code",
   "execution_count": 3,
   "metadata": {},
   "outputs": [
    {
     "name": "stdout",
     "output_type": "stream",
     "text": [
      "3\n"
     ]
    }
   ],
   "source": [
    "#Write your function here\n",
    "\n",
    "def more_frequent_item(lst, item1, item2):\n",
    "  if lst.count(item1) >= lst.count(item2):\n",
    "    return item1\n",
    "  else:\n",
    "    return item2\n",
    "\n",
    "#Uncomment the line below when your function is done\n",
    "print(more_frequent_item([2, 3, 3, 2, 3, 2, 3, 2, 3], 2, 3))"
   ]
  },
  {
   "cell_type": "markdown",
   "metadata": {},
   "source": [
    "# 4. Double Index\n",
    "\n",
    "Create a function named double_index that has two parameters: a list named lst and a single number named index.\n",
    "\n",
    "The function should return a new list where all elements are the same as in lst except for the element at index. The element at index should be double the value of the element at index of the original lst.\n",
    "\n",
    "If index is not a valid index, the function should return the original list.\n",
    "\n",
    "For example, the following code should return [1,2,6,4] because the element at index 2 has been doubled:\n",
    "\n",
    "double_index([1, 2, 3, 4], 2)\n",
    "After writing your function, un-comment the call to the function that we’ve provided for you to test your results."
   ]
  },
  {
   "cell_type": "code",
   "execution_count": 4,
   "metadata": {},
   "outputs": [
    {
     "name": "stdout",
     "output_type": "stream",
     "text": [
      "[3, 8, -20, 12]\n"
     ]
    }
   ],
   "source": [
    "#Write your function here\n",
    "def double_index(lst, index):\n",
    "  # Checks to see if index is too big\n",
    "  if index >= len(lst):\n",
    "    return lst\n",
    "  else:\n",
    "    # Gets the original list up to index\n",
    "    new_lst = lst[0:index]\n",
    " # Adds double the value at index to the new list \n",
    "  new_lst.append(lst[index]*2)\n",
    "  #  Adds the rest of the original list\n",
    "  new_lst = new_lst + lst[index+1:]\n",
    "  return new_lst\n",
    "\n",
    "#Uncomment the line below when your function is done\n",
    "print(double_index([3, 8, -10, 12], 2))"
   ]
  },
  {
   "cell_type": "markdown",
   "metadata": {},
   "source": [
    "# 5. Middle Item\n",
    "Create a function called middle_element that has one parameter named lst.\n",
    "\n",
    "If there are an odd number of elements in lst, the function should return the middle element. If there are an even number of elements, the function should return the average of the middle two elements."
   ]
  },
  {
   "cell_type": "code",
   "execution_count": 5,
   "metadata": {},
   "outputs": [
    {
     "name": "stdout",
     "output_type": "stream",
     "text": [
      "-7.0\n"
     ]
    }
   ],
   "source": [
    "#Write your function here\n",
    "def middle_element(lst):\n",
    "  if len(lst) % 2 == 0:\n",
    "    sum = lst[int(len(lst)/2)] + lst[int(len(lst)/2) - 1]\n",
    "    return sum / 2\n",
    "  else:\n",
    "    return lst[int(len(lst)/2)]\n",
    "\n",
    "#Uncomment the line below when your function is done\n",
    "print(middle_element([5, 2, -10, -4, 4, 5]))"
   ]
  }
 ],
 "metadata": {
  "kernelspec": {
   "display_name": "Python 3",
   "language": "python",
   "name": "python3"
  },
  "language_info": {
   "codemirror_mode": {
    "name": "ipython",
    "version": 3
   },
   "file_extension": ".py",
   "mimetype": "text/x-python",
   "name": "python",
   "nbconvert_exporter": "python",
   "pygments_lexer": "ipython3",
   "version": "3.8.3"
  }
 },
 "nbformat": 4,
 "nbformat_minor": 4
}
